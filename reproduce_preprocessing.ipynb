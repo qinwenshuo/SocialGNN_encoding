{
 "cells": [
  {
   "metadata": {
    "ExecuteTime": {
     "end_time": "2024-09-10T17:34:52.005935Z",
     "start_time": "2024-09-10T17:34:51.683048Z"
    }
   },
   "cell_type": "code",
   "source": [
    "import os\n",
    "import numpy as np\n",
    "import pandas as pd\n",
    "import cv2\n",
    "import pickle\n",
    "import matplotlib.pyplot as plt\n",
    "from tqdm import tqdm"
   ],
   "id": "initial_id",
   "outputs": [],
   "execution_count": 1
  },
  {
   "metadata": {
    "ExecuteTime": {
     "end_time": "2024-09-10T17:35:06.213790Z",
     "start_time": "2024-09-10T17:34:52.008324Z"
    }
   },
   "cell_type": "code",
   "source": [
    "import tensorflow as tf\n",
    "import pynvml\n",
    "tf.compat.v1.logging.set_verbosity(tf.compat.v1.logging.ERROR)\n",
    "\n",
    "# Check if TensorFlow is using the GPU\n",
    "if tf.test.is_gpu_available():\n",
    "    print(\"TensorFlow is using the GPU\")\n",
    "    \n",
    "    # Initialize the pynvml library\n",
    "    pynvml.nvmlInit()\n",
    "    \n",
    "    # Get the number of GPU devices\n",
    "    num_gpus = pynvml.nvmlDeviceGetCount()\n",
    "    \n",
    "    # Iterate over GPU devices\n",
    "    for i in range(num_gpus):\n",
    "        # Get the device identifier\n",
    "        handle = pynvml.nvmlDeviceGetHandleByIndex(i)\n",
    "        # Get the full GPU name\n",
    "        gpu_name = pynvml.nvmlDeviceGetName(handle)\n",
    "        print(\"GPU Name:\", gpu_name)\n",
    "        \n",
    "    # Shutdown the pynvml library\n",
    "    pynvml.nvmlShutdown()\n",
    "else:\n",
    "    print(\"TensorFlow is not using the GPU\")"
   ],
   "id": "a45c005b532337af",
   "outputs": [
    {
     "name": "stdout",
     "output_type": "stream",
     "text": [
      "TensorFlow is using the GPU\n",
      "GPU Name: NVIDIA GeForce RTX 4060 Laptop GPU\n"
     ]
    }
   ],
   "execution_count": 2
  },
  {
   "metadata": {
    "ExecuteTime": {
     "end_time": "2024-09-10T17:35:06.223804Z",
     "start_time": "2024-09-10T17:35:06.213790Z"
    }
   },
   "cell_type": "code",
   "source": [
    "video_path = 'GAZE_dataset/video'\n",
    "original_annotation_path = 'GAZE_dataset/annotation_cleaned/'\n",
    "my_annotation_path = 'GAZE_dataset/annotations.csv'\n",
    "patches_path = 'GAZE_dataset/preprocess/video_data/'\n",
    "pca_dir = \"GAZE_dataset/preprocess/fitted_PCA\""
   ],
   "id": "4ffc38c2ecdb6546",
   "outputs": [],
   "execution_count": 3
  },
  {
   "metadata": {
    "ExecuteTime": {
     "end_time": "2024-09-10T17:35:06.233832Z",
     "start_time": "2024-09-10T17:35:06.223804Z"
    }
   },
   "cell_type": "code",
   "source": [
    "def load_pickle(path):\n",
    "    with open(path, 'rb') as f:\n",
    "        pickled = pickle.load(f)\n",
    "    return pickled\n",
    "\n",
    "def save_pickle(obj, path):\n",
    "    with open(path, 'wb') as f:\n",
    "        pickle.dump(obj, f)"
   ],
   "id": "d14224fd38a0145d",
   "outputs": [],
   "execution_count": 4
  },
  {
   "metadata": {},
   "cell_type": "markdown",
   "source": [
    "## Face annotations\n",
    "\n",
    "loop each author annotations to creat my annotations"
   ],
   "id": "7f6fca3e9dd03444"
  },
  {
   "metadata": {
    "ExecuteTime": {
     "end_time": "2024-09-09T21:14:57.948459Z",
     "start_time": "2024-09-09T21:14:53.942266Z"
    }
   },
   "cell_type": "code",
   "source": [
    "bounding_box_data = []\n",
    "\n",
    "for i in range(1, 302):\n",
    "    each_annotation = f'NewAnt_{i}.txt'\n",
    "    annotation_path = os.path.join(original_annotation_path, each_annotation)\n",
    "    video_name = f'{i}.mp4'\n",
    "    try:\n",
    "        with open(annotation_path, 'r') as f:\n",
    "            file_lines = f.readlines()\n",
    "    except FileNotFoundError:\n",
    "        print(f'File {annotation_path} not found, the annotation is lost')\n",
    "        continue\n",
    "    for line in file_lines:\n",
    "        if line.strip():\n",
    "            data = line.strip().split(' ')\n",
    "            label = data[9]\n",
    "            if len(data) == 10:\n",
    "                gaze_direction = None\n",
    "                event_attribute = None\n",
    "                atomic_attribute = None\n",
    "            elif len(data) == 13:\n",
    "                gaze_direction = data[-1]\n",
    "                if gaze_direction == 'P1': gaze_direction = f'{label}, Person1'\n",
    "                elif gaze_direction == 'P2': gaze_direction = f'{label}, Person2'\n",
    "                elif gaze_direction == 'P3': gaze_direction = f'{label}, Person3'\n",
    "                elif gaze_direction == 'P4': gaze_direction = f'{label}, Person4'\n",
    "                elif gaze_direction == 'O1': gaze_direction = f'{label}, Object1'\n",
    "                elif gaze_direction == 'O2': gaze_direction = f'{label}, Object2'\n",
    "                elif gaze_direction == 'O3': gaze_direction = f'{label}, Object3'\n",
    "                elif gaze_direction == 'O4': gaze_direction = f'{label}, Object4'\n",
    "                elif gaze_direction == 'O5': gaze_direction = f'{label}, Object5'\n",
    "                elif gaze_direction == 'NA': gaze_direction = None\n",
    "                event_attribute = data[10]\n",
    "                atomic_attribute = data[11]\n",
    "                \n",
    "            frame_data = {'video_name': video_name,\n",
    "                          'frame': int(data[5])+1,\n",
    "                          'label_name': data[9],\n",
    "                          'left': int(data[1]),\n",
    "                          'top' : int(data[2]),\n",
    "                          'right': int(data[3]),\n",
    "                          'bottom': int(data[4]),\n",
    "                          'gaze_direction': gaze_direction,\n",
    "                          'event_attribute': event_attribute,\n",
    "                          'atomic_attribute': atomic_attribute,\n",
    "                          }\n",
    "            bounding_box_data.append(frame_data)"
   ],
   "id": "41720809e12e39bc",
   "outputs": [
    {
     "name": "stdout",
     "output_type": "stream",
     "text": [
      "File GAZE_dataset/annotation_cleaned/NewAnt_255.txt not found, the annotation is lost\n",
      "File GAZE_dataset/annotation_cleaned/NewAnt_291.txt not found, the annotation is lost\n"
     ]
    }
   ],
   "execution_count": 7
  },
  {
   "metadata": {
    "ExecuteTime": {
     "end_time": "2024-09-09T21:14:58.475982Z",
     "start_time": "2024-09-09T21:14:57.948459Z"
    }
   },
   "cell_type": "code",
   "source": [
    "annotations = pd.DataFrame(bounding_box_data)\n",
    "annotations"
   ],
   "id": "cdb03c90ac48f499",
   "outputs": [
    {
     "data": {
      "text/plain": [
       "       video_name  frame label_name  left  top  right  bottom  \\\n",
       "0           1.mp4      1    Object1   222  221    281     329   \n",
       "1           1.mp4      1    Person1   104   54    219     225   \n",
       "2           1.mp4      1    Person2   402   46    533     213   \n",
       "3           1.mp4      2    Object1   222  220    281     328   \n",
       "4           1.mp4      2    Person1   104   53    219     224   \n",
       "...           ...    ...        ...   ...  ...    ...     ...   \n",
       "292210    301.mp4    410    Person2   420   45    495     131   \n",
       "292211    301.mp4    411    Person1   179   29    255     127   \n",
       "292212    301.mp4    411    Person2   420   45    495     131   \n",
       "292213    301.mp4    412    Person1   179   29    255     127   \n",
       "292214    301.mp4    412    Person2   420   45    495     131   \n",
       "\n",
       "          gaze_direction event_attribute atomic_attribute  \n",
       "0                   None            None             None  \n",
       "1       Person1, Object1        JointAtt            share  \n",
       "2       Person2, Object1        JointAtt            share  \n",
       "3                   None            None             None  \n",
       "4       Person1, Object1        JointAtt            share  \n",
       "...                  ...             ...              ...  \n",
       "292210  Person2, Person1      MutualGaze           mutual  \n",
       "292211  Person1, Person2      MutualGaze           mutual  \n",
       "292212  Person2, Person1      MutualGaze           mutual  \n",
       "292213  Person1, Person2      MutualGaze           mutual  \n",
       "292214  Person2, Person1      MutualGaze           mutual  \n",
       "\n",
       "[292215 rows x 10 columns]"
      ],
      "text/html": [
       "<div>\n",
       "<style scoped>\n",
       "    .dataframe tbody tr th:only-of-type {\n",
       "        vertical-align: middle;\n",
       "    }\n",
       "\n",
       "    .dataframe tbody tr th {\n",
       "        vertical-align: top;\n",
       "    }\n",
       "\n",
       "    .dataframe thead th {\n",
       "        text-align: right;\n",
       "    }\n",
       "</style>\n",
       "<table border=\"1\" class=\"dataframe\">\n",
       "  <thead>\n",
       "    <tr style=\"text-align: right;\">\n",
       "      <th></th>\n",
       "      <th>video_name</th>\n",
       "      <th>frame</th>\n",
       "      <th>label_name</th>\n",
       "      <th>left</th>\n",
       "      <th>top</th>\n",
       "      <th>right</th>\n",
       "      <th>bottom</th>\n",
       "      <th>gaze_direction</th>\n",
       "      <th>event_attribute</th>\n",
       "      <th>atomic_attribute</th>\n",
       "    </tr>\n",
       "  </thead>\n",
       "  <tbody>\n",
       "    <tr>\n",
       "      <th>0</th>\n",
       "      <td>1.mp4</td>\n",
       "      <td>1</td>\n",
       "      <td>Object1</td>\n",
       "      <td>222</td>\n",
       "      <td>221</td>\n",
       "      <td>281</td>\n",
       "      <td>329</td>\n",
       "      <td>None</td>\n",
       "      <td>None</td>\n",
       "      <td>None</td>\n",
       "    </tr>\n",
       "    <tr>\n",
       "      <th>1</th>\n",
       "      <td>1.mp4</td>\n",
       "      <td>1</td>\n",
       "      <td>Person1</td>\n",
       "      <td>104</td>\n",
       "      <td>54</td>\n",
       "      <td>219</td>\n",
       "      <td>225</td>\n",
       "      <td>Person1, Object1</td>\n",
       "      <td>JointAtt</td>\n",
       "      <td>share</td>\n",
       "    </tr>\n",
       "    <tr>\n",
       "      <th>2</th>\n",
       "      <td>1.mp4</td>\n",
       "      <td>1</td>\n",
       "      <td>Person2</td>\n",
       "      <td>402</td>\n",
       "      <td>46</td>\n",
       "      <td>533</td>\n",
       "      <td>213</td>\n",
       "      <td>Person2, Object1</td>\n",
       "      <td>JointAtt</td>\n",
       "      <td>share</td>\n",
       "    </tr>\n",
       "    <tr>\n",
       "      <th>3</th>\n",
       "      <td>1.mp4</td>\n",
       "      <td>2</td>\n",
       "      <td>Object1</td>\n",
       "      <td>222</td>\n",
       "      <td>220</td>\n",
       "      <td>281</td>\n",
       "      <td>328</td>\n",
       "      <td>None</td>\n",
       "      <td>None</td>\n",
       "      <td>None</td>\n",
       "    </tr>\n",
       "    <tr>\n",
       "      <th>4</th>\n",
       "      <td>1.mp4</td>\n",
       "      <td>2</td>\n",
       "      <td>Person1</td>\n",
       "      <td>104</td>\n",
       "      <td>53</td>\n",
       "      <td>219</td>\n",
       "      <td>224</td>\n",
       "      <td>Person1, Object1</td>\n",
       "      <td>JointAtt</td>\n",
       "      <td>share</td>\n",
       "    </tr>\n",
       "    <tr>\n",
       "      <th>...</th>\n",
       "      <td>...</td>\n",
       "      <td>...</td>\n",
       "      <td>...</td>\n",
       "      <td>...</td>\n",
       "      <td>...</td>\n",
       "      <td>...</td>\n",
       "      <td>...</td>\n",
       "      <td>...</td>\n",
       "      <td>...</td>\n",
       "      <td>...</td>\n",
       "    </tr>\n",
       "    <tr>\n",
       "      <th>292210</th>\n",
       "      <td>301.mp4</td>\n",
       "      <td>410</td>\n",
       "      <td>Person2</td>\n",
       "      <td>420</td>\n",
       "      <td>45</td>\n",
       "      <td>495</td>\n",
       "      <td>131</td>\n",
       "      <td>Person2, Person1</td>\n",
       "      <td>MutualGaze</td>\n",
       "      <td>mutual</td>\n",
       "    </tr>\n",
       "    <tr>\n",
       "      <th>292211</th>\n",
       "      <td>301.mp4</td>\n",
       "      <td>411</td>\n",
       "      <td>Person1</td>\n",
       "      <td>179</td>\n",
       "      <td>29</td>\n",
       "      <td>255</td>\n",
       "      <td>127</td>\n",
       "      <td>Person1, Person2</td>\n",
       "      <td>MutualGaze</td>\n",
       "      <td>mutual</td>\n",
       "    </tr>\n",
       "    <tr>\n",
       "      <th>292212</th>\n",
       "      <td>301.mp4</td>\n",
       "      <td>411</td>\n",
       "      <td>Person2</td>\n",
       "      <td>420</td>\n",
       "      <td>45</td>\n",
       "      <td>495</td>\n",
       "      <td>131</td>\n",
       "      <td>Person2, Person1</td>\n",
       "      <td>MutualGaze</td>\n",
       "      <td>mutual</td>\n",
       "    </tr>\n",
       "    <tr>\n",
       "      <th>292213</th>\n",
       "      <td>301.mp4</td>\n",
       "      <td>412</td>\n",
       "      <td>Person1</td>\n",
       "      <td>179</td>\n",
       "      <td>29</td>\n",
       "      <td>255</td>\n",
       "      <td>127</td>\n",
       "      <td>Person1, Person2</td>\n",
       "      <td>MutualGaze</td>\n",
       "      <td>mutual</td>\n",
       "    </tr>\n",
       "    <tr>\n",
       "      <th>292214</th>\n",
       "      <td>301.mp4</td>\n",
       "      <td>412</td>\n",
       "      <td>Person2</td>\n",
       "      <td>420</td>\n",
       "      <td>45</td>\n",
       "      <td>495</td>\n",
       "      <td>131</td>\n",
       "      <td>Person2, Person1</td>\n",
       "      <td>MutualGaze</td>\n",
       "      <td>mutual</td>\n",
       "    </tr>\n",
       "  </tbody>\n",
       "</table>\n",
       "<p>292215 rows × 10 columns</p>\n",
       "</div>"
      ]
     },
     "execution_count": 8,
     "metadata": {},
     "output_type": "execute_result"
    }
   ],
   "execution_count": 8
  },
  {
   "metadata": {
    "ExecuteTime": {
     "end_time": "2024-09-09T21:14:59.025129Z",
     "start_time": "2024-09-09T21:14:58.475982Z"
    }
   },
   "cell_type": "code",
   "source": "annotations.to_csv(my_annotation_path, index=False)",
   "id": "427879afbea1068b",
   "outputs": [],
   "execution_count": 9
  },
  {
   "metadata": {},
   "cell_type": "markdown",
   "source": "## CROP OUT IMAGES PATCHES FROM VIDEOS\n",
   "id": "faa13c7ea0fa06b5"
  },
  {
   "metadata": {
    "ExecuteTime": {
     "end_time": "2024-09-09T21:14:59.230887Z",
     "start_time": "2024-09-09T21:14:59.025129Z"
    }
   },
   "cell_type": "code",
   "source": [
    "annotations = pd.read_csv(my_annotation_path)\n",
    "annotations"
   ],
   "id": "1b44c7c8ed295e4f",
   "outputs": [
    {
     "data": {
      "text/plain": [
       "       video_name  frame label_name  left  top  right  bottom  \\\n",
       "0           1.mp4      1    Object1   222  221    281     329   \n",
       "1           1.mp4      1    Person1   104   54    219     225   \n",
       "2           1.mp4      1    Person2   402   46    533     213   \n",
       "3           1.mp4      2    Object1   222  220    281     328   \n",
       "4           1.mp4      2    Person1   104   53    219     224   \n",
       "...           ...    ...        ...   ...  ...    ...     ...   \n",
       "292210    301.mp4    410    Person2   420   45    495     131   \n",
       "292211    301.mp4    411    Person1   179   29    255     127   \n",
       "292212    301.mp4    411    Person2   420   45    495     131   \n",
       "292213    301.mp4    412    Person1   179   29    255     127   \n",
       "292214    301.mp4    412    Person2   420   45    495     131   \n",
       "\n",
       "          gaze_direction event_attribute atomic_attribute  \n",
       "0                    NaN             NaN              NaN  \n",
       "1       Person1, Object1        JointAtt            share  \n",
       "2       Person2, Object1        JointAtt            share  \n",
       "3                    NaN             NaN              NaN  \n",
       "4       Person1, Object1        JointAtt            share  \n",
       "...                  ...             ...              ...  \n",
       "292210  Person2, Person1      MutualGaze           mutual  \n",
       "292211  Person1, Person2      MutualGaze           mutual  \n",
       "292212  Person2, Person1      MutualGaze           mutual  \n",
       "292213  Person1, Person2      MutualGaze           mutual  \n",
       "292214  Person2, Person1      MutualGaze           mutual  \n",
       "\n",
       "[292215 rows x 10 columns]"
      ],
      "text/html": [
       "<div>\n",
       "<style scoped>\n",
       "    .dataframe tbody tr th:only-of-type {\n",
       "        vertical-align: middle;\n",
       "    }\n",
       "\n",
       "    .dataframe tbody tr th {\n",
       "        vertical-align: top;\n",
       "    }\n",
       "\n",
       "    .dataframe thead th {\n",
       "        text-align: right;\n",
       "    }\n",
       "</style>\n",
       "<table border=\"1\" class=\"dataframe\">\n",
       "  <thead>\n",
       "    <tr style=\"text-align: right;\">\n",
       "      <th></th>\n",
       "      <th>video_name</th>\n",
       "      <th>frame</th>\n",
       "      <th>label_name</th>\n",
       "      <th>left</th>\n",
       "      <th>top</th>\n",
       "      <th>right</th>\n",
       "      <th>bottom</th>\n",
       "      <th>gaze_direction</th>\n",
       "      <th>event_attribute</th>\n",
       "      <th>atomic_attribute</th>\n",
       "    </tr>\n",
       "  </thead>\n",
       "  <tbody>\n",
       "    <tr>\n",
       "      <th>0</th>\n",
       "      <td>1.mp4</td>\n",
       "      <td>1</td>\n",
       "      <td>Object1</td>\n",
       "      <td>222</td>\n",
       "      <td>221</td>\n",
       "      <td>281</td>\n",
       "      <td>329</td>\n",
       "      <td>NaN</td>\n",
       "      <td>NaN</td>\n",
       "      <td>NaN</td>\n",
       "    </tr>\n",
       "    <tr>\n",
       "      <th>1</th>\n",
       "      <td>1.mp4</td>\n",
       "      <td>1</td>\n",
       "      <td>Person1</td>\n",
       "      <td>104</td>\n",
       "      <td>54</td>\n",
       "      <td>219</td>\n",
       "      <td>225</td>\n",
       "      <td>Person1, Object1</td>\n",
       "      <td>JointAtt</td>\n",
       "      <td>share</td>\n",
       "    </tr>\n",
       "    <tr>\n",
       "      <th>2</th>\n",
       "      <td>1.mp4</td>\n",
       "      <td>1</td>\n",
       "      <td>Person2</td>\n",
       "      <td>402</td>\n",
       "      <td>46</td>\n",
       "      <td>533</td>\n",
       "      <td>213</td>\n",
       "      <td>Person2, Object1</td>\n",
       "      <td>JointAtt</td>\n",
       "      <td>share</td>\n",
       "    </tr>\n",
       "    <tr>\n",
       "      <th>3</th>\n",
       "      <td>1.mp4</td>\n",
       "      <td>2</td>\n",
       "      <td>Object1</td>\n",
       "      <td>222</td>\n",
       "      <td>220</td>\n",
       "      <td>281</td>\n",
       "      <td>328</td>\n",
       "      <td>NaN</td>\n",
       "      <td>NaN</td>\n",
       "      <td>NaN</td>\n",
       "    </tr>\n",
       "    <tr>\n",
       "      <th>4</th>\n",
       "      <td>1.mp4</td>\n",
       "      <td>2</td>\n",
       "      <td>Person1</td>\n",
       "      <td>104</td>\n",
       "      <td>53</td>\n",
       "      <td>219</td>\n",
       "      <td>224</td>\n",
       "      <td>Person1, Object1</td>\n",
       "      <td>JointAtt</td>\n",
       "      <td>share</td>\n",
       "    </tr>\n",
       "    <tr>\n",
       "      <th>...</th>\n",
       "      <td>...</td>\n",
       "      <td>...</td>\n",
       "      <td>...</td>\n",
       "      <td>...</td>\n",
       "      <td>...</td>\n",
       "      <td>...</td>\n",
       "      <td>...</td>\n",
       "      <td>...</td>\n",
       "      <td>...</td>\n",
       "      <td>...</td>\n",
       "    </tr>\n",
       "    <tr>\n",
       "      <th>292210</th>\n",
       "      <td>301.mp4</td>\n",
       "      <td>410</td>\n",
       "      <td>Person2</td>\n",
       "      <td>420</td>\n",
       "      <td>45</td>\n",
       "      <td>495</td>\n",
       "      <td>131</td>\n",
       "      <td>Person2, Person1</td>\n",
       "      <td>MutualGaze</td>\n",
       "      <td>mutual</td>\n",
       "    </tr>\n",
       "    <tr>\n",
       "      <th>292211</th>\n",
       "      <td>301.mp4</td>\n",
       "      <td>411</td>\n",
       "      <td>Person1</td>\n",
       "      <td>179</td>\n",
       "      <td>29</td>\n",
       "      <td>255</td>\n",
       "      <td>127</td>\n",
       "      <td>Person1, Person2</td>\n",
       "      <td>MutualGaze</td>\n",
       "      <td>mutual</td>\n",
       "    </tr>\n",
       "    <tr>\n",
       "      <th>292212</th>\n",
       "      <td>301.mp4</td>\n",
       "      <td>411</td>\n",
       "      <td>Person2</td>\n",
       "      <td>420</td>\n",
       "      <td>45</td>\n",
       "      <td>495</td>\n",
       "      <td>131</td>\n",
       "      <td>Person2, Person1</td>\n",
       "      <td>MutualGaze</td>\n",
       "      <td>mutual</td>\n",
       "    </tr>\n",
       "    <tr>\n",
       "      <th>292213</th>\n",
       "      <td>301.mp4</td>\n",
       "      <td>412</td>\n",
       "      <td>Person1</td>\n",
       "      <td>179</td>\n",
       "      <td>29</td>\n",
       "      <td>255</td>\n",
       "      <td>127</td>\n",
       "      <td>Person1, Person2</td>\n",
       "      <td>MutualGaze</td>\n",
       "      <td>mutual</td>\n",
       "    </tr>\n",
       "    <tr>\n",
       "      <th>292214</th>\n",
       "      <td>301.mp4</td>\n",
       "      <td>412</td>\n",
       "      <td>Person2</td>\n",
       "      <td>420</td>\n",
       "      <td>45</td>\n",
       "      <td>495</td>\n",
       "      <td>131</td>\n",
       "      <td>Person2, Person1</td>\n",
       "      <td>MutualGaze</td>\n",
       "      <td>mutual</td>\n",
       "    </tr>\n",
       "  </tbody>\n",
       "</table>\n",
       "<p>292215 rows × 10 columns</p>\n",
       "</div>"
      ]
     },
     "execution_count": 10,
     "metadata": {},
     "output_type": "execute_result"
    }
   ],
   "execution_count": 10
  },
  {
   "metadata": {
    "ExecuteTime": {
     "end_time": "2024-09-09T21:17:27.628798Z",
     "start_time": "2024-09-09T21:14:59.234489Z"
    }
   },
   "cell_type": "code",
   "source": [
    "# Iterate over each unique video in the DataFrame\n",
    "for video_name in tqdm(annotations['video_name'].unique()):\n",
    "    # print(\"Processing video:\", video_name)\n",
    "    # Fetch all frames annotations in this video\n",
    "    save_path = os.path.join(patches_path, video_name)\n",
    "    os.makedirs(save_path, exist_ok=True)\n",
    "    video = cv2.VideoCapture(os.path.join(video_path, video_name))\n",
    "    video_annotations = annotations[annotations['video_name'] == video_name]\n",
    "    patches = []\n",
    "    annotations_dict = {'labels': [], 'frame_numbers': [], \n",
    "                        'left': [], 'right': [], 'top': [], 'bottom': [],\n",
    "                        'gaze_direction': [], 'event_attribute': [], 'atomic_attribute': []}\n",
    "    \n",
    "    for current_frame in range(1, video_annotations['frame'].iloc[-1]+1):  # in the range of number of frames\n",
    "        successful_read, frame = video.read()\n",
    "        if successful_read:\n",
    "            # Filter annotations for the current frame\n",
    "            frame_annotations = video_annotations[video_annotations['frame'] == current_frame]\n",
    "            if not frame_annotations.empty:\n",
    "                for _, entity in frame_annotations.iterrows():\n",
    "                    patches.append(frame[int(entity['top']):int(entity['bottom']),int(entity['left']):int(entity['right'])])\n",
    "                    annotations_dict['labels'].append(entity['label_name'])\n",
    "                    annotations_dict['frame_numbers'].append(current_frame)\n",
    "                    annotations_dict['left'].append(int(entity['left']))\n",
    "                    annotations_dict['right'].append(int(entity['right']))\n",
    "                    annotations_dict['top'].append(int(entity['top']))\n",
    "                    annotations_dict['bottom'].append(int(entity['bottom']))\n",
    "                    annotations_dict['gaze_direction'].append(entity['gaze_direction'])\n",
    "                    annotations_dict['event_attribute'].append(entity['event_attribute'])\n",
    "                    annotations_dict['atomic_attribute'].append(entity['atomic_attribute'])\n",
    "                    \n",
    "        else:\n",
    "            raise ValueError(f\"Unsuccessful read frame {current_frame} of {video_name}\")\n",
    "    save_pickle(patches, os.path.join(save_path, 'patches'))\n",
    "    annotation_df = pd.DataFrame(annotations_dict)\n",
    "    save_pickle(annotation_df, os.path.join(save_path, 'annotations'))\n"
   ],
   "id": "35e6f1cb3642d7bf",
   "outputs": [
    {
     "name": "stderr",
     "output_type": "stream",
     "text": [
      "100%|██████████| 299/299 [02:28<00:00,  2.02it/s]\n"
     ]
    }
   ],
   "execution_count": 11
  },
  {
   "metadata": {
    "ExecuteTime": {
     "end_time": "2024-09-09T21:17:27.644443Z",
     "start_time": "2024-09-09T21:17:27.628798Z"
    }
   },
   "cell_type": "code",
   "source": [
    " def visualize_patches(num_patches_to_display=10):\n",
    "    # Get a list of all subdirectories in the patches_output_path directory\n",
    "    videos = [d for d in os.listdir(patches_path)]\n",
    "    import random\n",
    "    # Randomly select one of the subdirectories\n",
    "    selected_subdir = random.choice(videos)\n",
    "    selected_path = os.path.join(patches_path, selected_subdir)\n",
    "    \n",
    "    patches = load_pickle(os.path.join(selected_path, 'patches'))\n",
    "    annot = load_pickle(os.path.join(selected_path, 'annotations'))\n",
    "    \n",
    "    # Display each patch with its corresponding labels\n",
    "    print(len(patches))\n",
    "    for i, patch in enumerate(patches):\n",
    "        print(annot.loc[i, 'frame_numbers'])\n",
    "        print(annot.loc[i, 'labels'])\n",
    "        print(annot.loc[i, 'gaze_direction'])\n",
    "        plt.imshow(cv2.cvtColor(patch, cv2.COLOR_BGR2RGB))\n",
    "        plt.axis('off')\n",
    "        plt.show()\n",
    "        if i+2> num_patches_to_display:\n",
    "            break\n"
   ],
   "id": "8a9e019c0a34fe97",
   "outputs": [],
   "execution_count": 12
  },
  {
   "metadata": {
    "ExecuteTime": {
     "end_time": "2024-09-09T21:17:28.522741Z",
     "start_time": "2024-09-09T21:17:27.644443Z"
    }
   },
   "cell_type": "code",
   "source": "visualize_patches(5)",
   "id": "e7abcecc8a759b74",
   "outputs": [
    {
     "name": "stdout",
     "output_type": "stream",
     "text": [
      "1225\n",
      "1\n",
      "Object1\n",
      "nan\n"
     ]
    },
    {
     "data": {
      "text/plain": [
       "<Figure size 640x480 with 1 Axes>"
      ],
      "image/png": "[encoded data removed]"
     },
     "metadata": {},
     "output_type": "display_data"
    },
    {
     "name": "stdout",
     "output_type": "stream",
     "text": [
      "1\n",
      "Person1\n",
      "nan\n"
     ]
    },
    {
     "data": {
      "text/plain": [
       "<Figure size 640x480 with 1 Axes>"
      ],
      "image/png": "[encoded data removed]"
     },
     "metadata": {},
     "output_type": "display_data"
    },
    {
     "name": "stdout",
     "output_type": "stream",
     "text": [
      "1\n",
      "Person2\n",
      "Person2, Object1\n"
     ]
    },
    {
     "data": {
      "text/plain": [
       "<Figure size 640x480 with 1 Axes>"
      ],
      "image/png": "[encoded data removed]"
     },
     "metadata": {},
     "output_type": "display_data"
    },
    {
     "name": "stdout",
     "output_type": "stream",
     "text": [
      "2\n",
      "Object1\n",
      "nan\n"
     ]
    },
    {
     "data": {
      "text/plain": [
       "<Figure size 640x480 with 1 Axes>"
      ],
      "image/png": "[encoded data removed]"
     },
     "metadata": {},
     "output_type": "display_data"
    },
    {
     "name": "stdout",
     "output_type": "stream",
     "text": [
      "2\n",
      "Person1\n",
      "nan\n"
     ]
    },
    {
     "data": {
      "text/plain": [
       "<Figure size 640x480 with 1 Axes>"
      ],
      "image/png": "[encoded data removed]"
     },
     "metadata": {},
     "output_type": "display_data"
    }
   ],
   "execution_count": 13
  },
  {
   "metadata": {},
   "cell_type": "markdown",
   "source": "## VGG FEATURES",
   "id": "c4107393b9f5de3c"
  },
  {
   "metadata": {
    "ExecuteTime": {
     "end_time": "2024-09-09T21:17:28.554007Z",
     "start_time": "2024-09-09T21:17:28.522741Z"
    }
   },
   "cell_type": "code",
   "source": [
    "from tensorflow.keras.applications.vgg19 import VGG19\n",
    "from tensorflow.keras.applications.vgg19 import preprocess_input\n",
    "from tensorflow.keras.preprocessing.image import smart_resize\n",
    "from tensorflow.keras.models import Model"
   ],
   "id": "4250f26d27887b03",
   "outputs": [],
   "execution_count": 14
  },
  {
   "metadata": {
    "ExecuteTime": {
     "end_time": "2024-09-09T21:17:28.569812Z",
     "start_time": "2024-09-09T21:17:28.554801Z"
    }
   },
   "cell_type": "code",
   "source": [
    "def reshape_patches(x):\n",
    "    temp = np.expand_dims(x, axis=0)\n",
    "    temp2 = preprocess_input(smart_resize(temp, (224,224)))\n",
    "    return temp2[0]"
   ],
   "id": "d97c96001ee8d75d",
   "outputs": [],
   "execution_count": 15
  },
  {
   "metadata": {
    "ExecuteTime": {
     "end_time": "2024-09-09T21:17:34.591552Z",
     "start_time": "2024-09-09T21:17:28.569812Z"
    }
   },
   "cell_type": "code",
   "source": [
    "base_model = VGG19(weights='imagenet')\n",
    "model = Model(inputs=base_model.input, outputs=base_model.get_layer('fc2').output)"
   ],
   "id": "e229246bc623ece8",
   "outputs": [],
   "execution_count": 16
  },
  {
   "metadata": {
    "ExecuteTime": {
     "end_time": "2024-09-10T01:45:10.855061Z",
     "start_time": "2024-09-10T01:45:08.518592Z"
    }
   },
   "cell_type": "code",
   "source": "restart = input('Do you want to reparse the input videos? (y/n)')",
   "id": "b5306c00d6202bdb",
   "outputs": [],
   "execution_count": 19
  },
  {
   "metadata": {},
   "cell_type": "code",
   "source": [
    "batch_size = 32  # Adjust this batch size based on your memory capacity\n",
    "\n",
    "for video in tqdm(os.listdir(patches_path)):\n",
    "    video_dir = os.path.join(patches_path, video)\n",
    "    patch_dir = os.path.join(video_dir, \"patches\")\n",
    "    out_dir = os.path.join(video_dir, \"VGG19_patches\")\n",
    "    if not os.path.exists(out_dir) or restart == 'y':\n",
    "        patches = load_pickle(patch_dir)\n",
    "        y_total = []\n",
    "        \n",
    "        for i in range(0, len(patches), batch_size):\n",
    "            batch_patches = patches[i:i + batch_size]\n",
    "            x_batch = [reshape_patches(patch) for patch in batch_patches]\n",
    "            x_batch = np.array(x_batch)\n",
    "            y_batch = model.predict(x_batch, verbose=0)\n",
    "            y_total.extend(y_batch)\n",
    "        \n",
    "        y_total = np.array(y_total)\n",
    "        save_pickle(y_total, out_dir)\n",
    "        print(f\"VGG19 patches saved to {video_dir}\")\n"
   ],
   "id": "d22d20d67adbdfe6",
   "outputs": [],
   "execution_count": null
  },
  {
   "metadata": {},
   "cell_type": "code",
   "source": "",
   "id": "324ac20b8cbe2cc2",
   "outputs": [],
   "execution_count": null
  },
  {
   "metadata": {},
   "cell_type": "markdown",
   "source": "## Fit PCA",
   "id": "53b6fbefae196191"
  },
  {
   "metadata": {
    "ExecuteTime": {
     "end_time": "2024-09-10T14:10:55.387463Z",
     "start_time": "2024-09-10T14:10:55.000672Z"
    }
   },
   "cell_type": "code",
   "source": [
    "from sklearn.decomposition import PCA\n",
    "from sklearn.preprocessing import StandardScaler"
   ],
   "id": "1f687660168dae0e",
   "outputs": [],
   "execution_count": 5
  },
  {
   "metadata": {
    "ExecuteTime": {
     "end_time": "2024-09-10T14:10:55.402971Z",
     "start_time": "2024-09-10T14:10:55.390458Z"
    }
   },
   "cell_type": "code",
   "source": [
    "def extract_all_vggfeatures():\n",
    "    all_features = []\n",
    "    for video in tqdm(os.listdir(patches_path)):\n",
    "        patch_dir = os.path.join(patches_path, video, \"VGG19_patches\")\n",
    "        all_features.extend(load_pickle(patch_dir))\n",
    "\n",
    "    all_features = np.array(all_features)\n",
    "    print(all_features.shape)\n",
    "    return all_features\n",
    "\n",
    "\n",
    "def fit_pca(all_features):\n",
    "    pca = PCA(n_components=20)\n",
    "    scaler = StandardScaler()\n",
    "    all_features_scaled = scaler.fit_transform(all_features)\n",
    "    pca.fit(all_features_scaled)\n",
    "    return pca, scaler"
   ],
   "id": "be6708392c21fa97",
   "outputs": [],
   "execution_count": 6
  },
  {
   "metadata": {
    "ExecuteTime": {
     "end_time": "2024-09-10T14:14:45.370940Z",
     "start_time": "2024-09-10T14:10:55.958206Z"
    }
   },
   "cell_type": "code",
   "source": "pca, scaler = fit_pca(extract_all_vggfeatures())",
   "id": "bb02d471c3f7ac3c",
   "outputs": [
    {
     "name": "stderr",
     "output_type": "stream",
     "text": [
      "100%|██████████| 299/299 [00:07<00:00, 37.78it/s]\n"
     ]
    },
    {
     "name": "stdout",
     "output_type": "stream",
     "text": [
      "(292215, 4096)\n"
     ]
    }
   ],
   "execution_count": 7
  },
  {
   "metadata": {
    "ExecuteTime": {
     "end_time": "2024-09-10T14:14:45.479528Z",
     "start_time": "2024-09-10T14:14:45.418304Z"
    }
   },
   "cell_type": "code",
   "source": [
    "save_pickle(pca, os.path.join(pca_dir, \"pca\"))\n",
    "save_pickle(scaler, os.path.join(pca_dir, \"scaler\"))"
   ],
   "id": "6a5170e5f76866ac",
   "outputs": [],
   "execution_count": 8
  },
  {
   "metadata": {},
   "cell_type": "markdown",
   "source": "## PCA on VGG features",
   "id": "9549c5f8d82c126f"
  },
  {
   "metadata": {
    "ExecuteTime": {
     "end_time": "2024-09-10T14:14:45.557490Z",
     "start_time": "2024-09-10T14:14:45.480533Z"
    }
   },
   "cell_type": "code",
   "source": [
    "pca = load_pickle(os.path.join(pca_dir, \"pca\"))\n",
    "scaler = load_pickle(os.path.join(pca_dir, 'scaler'))"
   ],
   "id": "8af163c062d01c8c",
   "outputs": [],
   "execution_count": 9
  },
  {
   "metadata": {
    "ExecuteTime": {
     "end_time": "2024-09-10T14:14:56.419399Z",
     "start_time": "2024-09-10T14:14:45.560484Z"
    }
   },
   "cell_type": "code",
   "source": [
    "for video in tqdm(os.listdir(patches_path)):\n",
    "    video_dir = os.path.join(patches_path, video)\n",
    "    patch_dir = os.path.join(video_dir, \"VGG19_patches\")\n",
    "    vgg_features = load_pickle(patch_dir)\n",
    "    scaled_features = scaler.transform(vgg_features)\n",
    "    pca_features = pca.transform(scaled_features)\n",
    "    save_pickle(pca_features, os.path.join(video_dir, \"pca_features\"))   "
   ],
   "id": "cafbf53d112df457",
   "outputs": [
    {
     "name": "stderr",
     "output_type": "stream",
     "text": [
      "100%|██████████| 299/299 [00:10<00:00, 27.66it/s]\n"
     ]
    }
   ],
   "execution_count": 10
  },
  {
   "metadata": {},
   "cell_type": "markdown",
   "source": "## Node Features\n",
   "id": "f83d5c32898610c3"
  },
  {
   "metadata": {
    "ExecuteTime": {
     "end_time": "2024-09-10T14:15:07.576777Z",
     "start_time": "2024-09-10T14:14:56.424907Z"
    }
   },
   "cell_type": "code",
   "source": [
    "for video in tqdm(os.listdir(patches_path)):\n",
    "    video_dir = os.path.join(patches_path, video)\n",
    "    pca_features = load_pickle(os.path.join(video_dir, \"pca_features\"))\n",
    "    video_annot = load_pickle(os.path.join(video_dir, \"annotations\"))\n",
    "    new_features = []\n",
    "    for i, patch_feature in enumerate(pca_features):\n",
    "        new_feature = np.append(patch_feature, [video_annot['top'][i], video_annot['bottom'][i], video_annot['left'][i], video_annot['right'][i]])\n",
    "        new_feature = np.append(new_feature, [0] if 'Person' in video_annot['labels'][i] else [1])\n",
    "        assert len(new_feature) == 25\n",
    "        new_features.append(new_feature)\n",
    "    video_annot['features'] = new_features\n",
    "    save_pickle(video_annot, os.path.join(video_dir, \"annotations\"))"
   ],
   "id": "6c92a99d2e2d0b5c",
   "outputs": [
    {
     "name": "stderr",
     "output_type": "stream",
     "text": [
      "100%|██████████| 299/299 [00:11<00:00, 26.89it/s]\n"
     ]
    }
   ],
   "execution_count": 11
  },
  {
   "metadata": {
    "ExecuteTime": {
     "end_time": "2024-09-10T14:15:07.670442Z",
     "start_time": "2024-09-10T14:15:07.578883Z"
    }
   },
   "cell_type": "code",
   "source": "video_annot",
   "id": "a52731bcca7f31a0",
   "outputs": [
    {
     "data": {
      "text/plain": [
       "      labels  frame_numbers  left  right  top  bottom    gaze_direction  \\\n",
       "0    Person1              1   113    216   51     164  Person1, Person2   \n",
       "1    Person2              1   282    397  138     257               NaN   \n",
       "2    Person3              1   442    548   82     203  Person3, Person2   \n",
       "3    Person1              2   112    215   49     162  Person1, Person2   \n",
       "4    Person2              2   284    399  138     257               NaN   \n",
       "..       ...            ...   ...    ...  ...     ...               ...   \n",
       "429  Person3            159   445    604   30     218  Person3, Person2   \n",
       "430  Person2            160   100    280   25     243               NaN   \n",
       "431  Person3            160   444    603   29     217  Person3, Person2   \n",
       "432  Person2            161   102    282   25     243               NaN   \n",
       "433  Person3            161   443    602   28     216  Person3, Person2   \n",
       "\n",
       "    event_attribute atomic_attribute  \\\n",
       "0          JointAtt            share   \n",
       "1        SingleGaze           single   \n",
       "2          JointAtt            share   \n",
       "3          JointAtt            share   \n",
       "4        SingleGaze           single   \n",
       "..              ...              ...   \n",
       "429      SingleGaze           single   \n",
       "430      SingleGaze           single   \n",
       "431      SingleGaze           single   \n",
       "432      SingleGaze           single   \n",
       "433      SingleGaze           single   \n",
       "\n",
       "                                              features  \n",
       "0    [8.036088943481445, 4.257997989654541, -11.081...  \n",
       "1    [7.617422103881836, -3.1622211933135986, -10.4...  \n",
       "2    [6.087191581726074, -1.9500772953033447, -16.0...  \n",
       "3    [8.915075302124023, 5.341856956481934, -12.968...  \n",
       "4    [7.921718120574951, -5.645524024963379, -10.46...  \n",
       "..                                                 ...  \n",
       "429  [14.547945976257324, 5.710829734802246, -18.56...  \n",
       "430  [16.78676986694336, 8.768113136291504, -10.038...  \n",
       "431  [13.938565254211426, 5.046601295471191, -17.98...  \n",
       "432  [17.398113250732422, 6.24144172668457, -11.295...  \n",
       "433  [14.273831367492676, 3.989875078201294, -17.79...  \n",
       "\n",
       "[434 rows x 10 columns]"
      ],
      "text/html": [
       "<div>\n",
       "<style scoped>\n",
       "    .dataframe tbody tr th:only-of-type {\n",
       "        vertical-align: middle;\n",
       "    }\n",
       "\n",
       "    .dataframe tbody tr th {\n",
       "        vertical-align: top;\n",
       "    }\n",
       "\n",
       "    .dataframe thead th {\n",
       "        text-align: right;\n",
       "    }\n",
       "</style>\n",
       "<table border=\"1\" class=\"dataframe\">\n",
       "  <thead>\n",
       "    <tr style=\"text-align: right;\">\n",
       "      <th></th>\n",
       "      <th>labels</th>\n",
       "      <th>frame_numbers</th>\n",
       "      <th>left</th>\n",
       "      <th>right</th>\n",
       "      <th>top</th>\n",
       "      <th>bottom</th>\n",
       "      <th>gaze_direction</th>\n",
       "      <th>event_attribute</th>\n",
       "      <th>atomic_attribute</th>\n",
       "      <th>features</th>\n",
       "    </tr>\n",
       "  </thead>\n",
       "  <tbody>\n",
       "    <tr>\n",
       "      <th>0</th>\n",
       "      <td>Person1</td>\n",
       "      <td>1</td>\n",
       "      <td>113</td>\n",
       "      <td>216</td>\n",
       "      <td>51</td>\n",
       "      <td>164</td>\n",
       "      <td>Person1, Person2</td>\n",
       "      <td>JointAtt</td>\n",
       "      <td>share</td>\n",
       "      <td>[8.036088943481445, 4.257997989654541, -11.081...</td>\n",
       "    </tr>\n",
       "    <tr>\n",
       "      <th>1</th>\n",
       "      <td>Person2</td>\n",
       "      <td>1</td>\n",
       "      <td>282</td>\n",
       "      <td>397</td>\n",
       "      <td>138</td>\n",
       "      <td>257</td>\n",
       "      <td>NaN</td>\n",
       "      <td>SingleGaze</td>\n",
       "      <td>single</td>\n",
       "      <td>[7.617422103881836, -3.1622211933135986, -10.4...</td>\n",
       "    </tr>\n",
       "    <tr>\n",
       "      <th>2</th>\n",
       "      <td>Person3</td>\n",
       "      <td>1</td>\n",
       "      <td>442</td>\n",
       "      <td>548</td>\n",
       "      <td>82</td>\n",
       "      <td>203</td>\n",
       "      <td>Person3, Person2</td>\n",
       "      <td>JointAtt</td>\n",
       "      <td>share</td>\n",
       "      <td>[6.087191581726074, -1.9500772953033447, -16.0...</td>\n",
       "    </tr>\n",
       "    <tr>\n",
       "      <th>3</th>\n",
       "      <td>Person1</td>\n",
       "      <td>2</td>\n",
       "      <td>112</td>\n",
       "      <td>215</td>\n",
       "      <td>49</td>\n",
       "      <td>162</td>\n",
       "      <td>Person1, Person2</td>\n",
       "      <td>JointAtt</td>\n",
       "      <td>share</td>\n",
       "      <td>[8.915075302124023, 5.341856956481934, -12.968...</td>\n",
       "    </tr>\n",
       "    <tr>\n",
       "      <th>4</th>\n",
       "      <td>Person2</td>\n",
       "      <td>2</td>\n",
       "      <td>284</td>\n",
       "      <td>399</td>\n",
       "      <td>138</td>\n",
       "      <td>257</td>\n",
       "      <td>NaN</td>\n",
       "      <td>SingleGaze</td>\n",
       "      <td>single</td>\n",
       "      <td>[7.921718120574951, -5.645524024963379, -10.46...</td>\n",
       "    </tr>\n",
       "    <tr>\n",
       "      <th>...</th>\n",
       "      <td>...</td>\n",
       "      <td>...</td>\n",
       "      <td>...</td>\n",
       "      <td>...</td>\n",
       "      <td>...</td>\n",
       "      <td>...</td>\n",
       "      <td>...</td>\n",
       "      <td>...</td>\n",
       "      <td>...</td>\n",
       "      <td>...</td>\n",
       "    </tr>\n",
       "    <tr>\n",
       "      <th>429</th>\n",
       "      <td>Person3</td>\n",
       "      <td>159</td>\n",
       "      <td>445</td>\n",
       "      <td>604</td>\n",
       "      <td>30</td>\n",
       "      <td>218</td>\n",
       "      <td>Person3, Person2</td>\n",
       "      <td>SingleGaze</td>\n",
       "      <td>single</td>\n",
       "      <td>[14.547945976257324, 5.710829734802246, -18.56...</td>\n",
       "    </tr>\n",
       "    <tr>\n",
       "      <th>430</th>\n",
       "      <td>Person2</td>\n",
       "      <td>160</td>\n",
       "      <td>100</td>\n",
       "      <td>280</td>\n",
       "      <td>25</td>\n",
       "      <td>243</td>\n",
       "      <td>NaN</td>\n",
       "      <td>SingleGaze</td>\n",
       "      <td>single</td>\n",
       "      <td>[16.78676986694336, 8.768113136291504, -10.038...</td>\n",
       "    </tr>\n",
       "    <tr>\n",
       "      <th>431</th>\n",
       "      <td>Person3</td>\n",
       "      <td>160</td>\n",
       "      <td>444</td>\n",
       "      <td>603</td>\n",
       "      <td>29</td>\n",
       "      <td>217</td>\n",
       "      <td>Person3, Person2</td>\n",
       "      <td>SingleGaze</td>\n",
       "      <td>single</td>\n",
       "      <td>[13.938565254211426, 5.046601295471191, -17.98...</td>\n",
       "    </tr>\n",
       "    <tr>\n",
       "      <th>432</th>\n",
       "      <td>Person2</td>\n",
       "      <td>161</td>\n",
       "      <td>102</td>\n",
       "      <td>282</td>\n",
       "      <td>25</td>\n",
       "      <td>243</td>\n",
       "      <td>NaN</td>\n",
       "      <td>SingleGaze</td>\n",
       "      <td>single</td>\n",
       "      <td>[17.398113250732422, 6.24144172668457, -11.295...</td>\n",
       "    </tr>\n",
       "    <tr>\n",
       "      <th>433</th>\n",
       "      <td>Person3</td>\n",
       "      <td>161</td>\n",
       "      <td>443</td>\n",
       "      <td>602</td>\n",
       "      <td>28</td>\n",
       "      <td>216</td>\n",
       "      <td>Person3, Person2</td>\n",
       "      <td>SingleGaze</td>\n",
       "      <td>single</td>\n",
       "      <td>[14.273831367492676, 3.989875078201294, -17.79...</td>\n",
       "    </tr>\n",
       "  </tbody>\n",
       "</table>\n",
       "<p>434 rows × 10 columns</p>\n",
       "</div>"
      ]
     },
     "execution_count": 12,
     "metadata": {},
     "output_type": "execute_result"
    }
   ],
   "execution_count": 12
  },
  {
   "metadata": {},
   "cell_type": "markdown",
   "source": "## Split into Sequences",
   "id": "93a0ca61ce418fef"
  },
  {
   "metadata": {
    "ExecuteTime": {
     "end_time": "2024-09-10T14:20:33.804521Z",
     "start_time": "2024-09-10T14:20:33.790450Z"
    }
   },
   "cell_type": "code",
   "source": [
    "def split_sequences(dir, df):\n",
    "    splits = []\n",
    "    labels = []\n",
    "    start_index = 0\n",
    "    \n",
    "    # Get the unique frame numbers\n",
    "    unique_frames = df['frame_numbers'].unique()\n",
    "    \n",
    "    # Create a list of (label, event_attribute) pairs for the first frame, handling NaNs\n",
    "    previous_pairs = list(df[df['frame_numbers'] == unique_frames[0]][['labels', 'event_attribute']].map(lambda x: None if pd.isna(x) else x).itertuples(index=False, name=None))\n",
    "    labels.append(previous_pairs)\n",
    "    \n",
    "    for i in range(1, len(unique_frames)):\n",
    "        frame = unique_frames[i]\n",
    "        # Create a list of (label, event_attribute) pairs for the current frame, handling NaNs\n",
    "        current_pairs = list(df[df['frame_numbers'] == frame][['labels', 'event_attribute']].map(lambda x: None if pd.isna(x) else x).itertuples(index=False, name=None))\n",
    "        \n",
    "        # Check if there's any difference in pairs\n",
    "        if current_pairs != previous_pairs:\n",
    "            # If there's a change, store the DataFrame slice\n",
    "            splits.append(df[df['frame_numbers'].isin(unique_frames[start_index:i])])\n",
    "            # Update the start_index for the next split\n",
    "            start_index = i\n",
    "            labels.append(current_pairs)\n",
    "        \n",
    "        # Update the previous pairs\n",
    "        previous_pairs = current_pairs\n",
    "    \n",
    "    \n",
    "    # Append the last segment\n",
    "    splits.append(df[df['frame_numbers'].isin(unique_frames[start_index:])])\n",
    "    # Save all the sequences\n",
    "    for i, split in enumerate(splits):\n",
    "        save_pickle(split, os.path.join(dir, f\"sequence_{i}\"))\n",
    "    for i, label in enumerate(labels):\n",
    "        save_pickle(label, os.path.join(dir, f\"label_{i}\"))"
   ],
   "id": "ff9dbdd22742688c",
   "outputs": [],
   "execution_count": 17
  },
  {
   "metadata": {
    "ExecuteTime": {
     "end_time": "2024-09-10T14:21:49.093201Z",
     "start_time": "2024-09-10T14:20:34.231358Z"
    }
   },
   "cell_type": "code",
   "source": [
    "for video in tqdm(os.listdir(patches_path)):\n",
    "    video_dir = os.path.join(patches_path, video)\n",
    "    video_annot = load_pickle(os.path.join(video_dir, \"annotations\"))\n",
    "    split_sequences(video_dir, video_annot)\n"
   ],
   "id": "35565641c30914a9",
   "outputs": [
    {
     "name": "stderr",
     "output_type": "stream",
     "text": [
      "100%|██████████| 299/299 [01:14<00:00,  3.99it/s]\n"
     ]
    }
   ],
   "execution_count": 18
  },
  {
   "metadata": {},
   "cell_type": "markdown",
   "source": "## Comparing preprocessed results",
   "id": "d863d73ed5b2fc15"
  },
  {
   "metadata": {
    "ExecuteTime": {
     "end_time": "2024-09-10T14:22:02.736137Z",
     "start_time": "2024-09-10T14:22:02.717541Z"
    }
   },
   "cell_type": "code",
   "source": [
    "test = load_pickle('GAZE_dataset/preprocess/video_data/1.mp4/sequence_0')\n",
    "test_label = load_pickle('GAZE_dataset/preprocess/video_data/1.mp4/label_0')"
   ],
   "id": "fd878a9326b142a3",
   "outputs": [],
   "execution_count": 19
  },
  {
   "metadata": {
    "ExecuteTime": {
     "end_time": "2024-09-10T14:22:03.268868Z",
     "start_time": "2024-09-10T14:22:03.247805Z"
    }
   },
   "cell_type": "code",
   "source": "test",
   "id": "ac91ec8b063d33e7",
   "outputs": [
    {
     "data": {
      "text/plain": [
       "       labels  frame_numbers  left  right  top  bottom    gaze_direction  \\\n",
       "0     Object1              1   222    281  221     329               NaN   \n",
       "1     Person1              1   104    219   54     225  Person1, Object1   \n",
       "2     Person2              1   402    533   46     213  Person2, Object1   \n",
       "3     Object1              2   222    281  220     328               NaN   \n",
       "4     Person1              2   104    219   53     224  Person1, Object1   \n",
       "...       ...            ...   ...    ...  ...     ...               ...   \n",
       "1162  Person1            388   117    232   50     221  Person1, Person2   \n",
       "1163  Person2            388   405    536   44     211  Person2, Object1   \n",
       "1164  Object1            389   250    309  201     309               NaN   \n",
       "1165  Person1            389   117    232   50     221  Person1, Person2   \n",
       "1166  Person2            389   405    536   44     211  Person2, Object1   \n",
       "\n",
       "     event_attribute atomic_attribute  \\\n",
       "0                NaN              NaN   \n",
       "1           JointAtt            share   \n",
       "2           JointAtt            share   \n",
       "3                NaN              NaN   \n",
       "4           JointAtt            share   \n",
       "...              ...              ...   \n",
       "1162        JointAtt           single   \n",
       "1163        JointAtt           follow   \n",
       "1164             NaN              NaN   \n",
       "1165        JointAtt           single   \n",
       "1166        JointAtt           follow   \n",
       "\n",
       "                                               features  \n",
       "0     [-19.127185821533203, 1.0257126092910767, 8.13...  \n",
       "1     [10.227222442626953, 7.964751243591309, 12.540...  \n",
       "2     [12.812554359436035, 16.574092864990234, 5.022...  \n",
       "3     [-18.332788467407227, 0.1340610533952713, 7.71...  \n",
       "4     [9.586891174316406, 8.327441215515137, 12.9994...  \n",
       "...                                                 ...  \n",
       "1162  [1.0717905759811401, 3.1524741649627686, 13.95...  \n",
       "1163  [11.605775833129883, 16.115127563476562, 4.510...  \n",
       "1164  [-15.997689247131348, 11.390522003173828, 4.43...  \n",
       "1165  [1.75022554397583, 3.183882713317871, 14.22590...  \n",
       "1166  [11.66997241973877, 16.321701049804688, 4.5290...  \n",
       "\n",
       "[1167 rows x 10 columns]"
      ],
      "text/html": [
       "<div>\n",
       "<style scoped>\n",
       "    .dataframe tbody tr th:only-of-type {\n",
       "        vertical-align: middle;\n",
       "    }\n",
       "\n",
       "    .dataframe tbody tr th {\n",
       "        vertical-align: top;\n",
       "    }\n",
       "\n",
       "    .dataframe thead th {\n",
       "        text-align: right;\n",
       "    }\n",
       "</style>\n",
       "<table border=\"1\" class=\"dataframe\">\n",
       "  <thead>\n",
       "    <tr style=\"text-align: right;\">\n",
       "      <th></th>\n",
       "      <th>labels</th>\n",
       "      <th>frame_numbers</th>\n",
       "      <th>left</th>\n",
       "      <th>right</th>\n",
       "      <th>top</th>\n",
       "      <th>bottom</th>\n",
       "      <th>gaze_direction</th>\n",
       "      <th>event_attribute</th>\n",
       "      <th>atomic_attribute</th>\n",
       "      <th>features</th>\n",
       "    </tr>\n",
       "  </thead>\n",
       "  <tbody>\n",
       "    <tr>\n",
       "      <th>0</th>\n",
       "      <td>Object1</td>\n",
       "      <td>1</td>\n",
       "      <td>222</td>\n",
       "      <td>281</td>\n",
       "      <td>221</td>\n",
       "      <td>329</td>\n",
       "      <td>NaN</td>\n",
       "      <td>NaN</td>\n",
       "      <td>NaN</td>\n",
       "      <td>[-19.127185821533203, 1.0257126092910767, 8.13...</td>\n",
       "    </tr>\n",
       "    <tr>\n",
       "      <th>1</th>\n",
       "      <td>Person1</td>\n",
       "      <td>1</td>\n",
       "      <td>104</td>\n",
       "      <td>219</td>\n",
       "      <td>54</td>\n",
       "      <td>225</td>\n",
       "      <td>Person1, Object1</td>\n",
       "      <td>JointAtt</td>\n",
       "      <td>share</td>\n",
       "      <td>[10.227222442626953, 7.964751243591309, 12.540...</td>\n",
       "    </tr>\n",
       "    <tr>\n",
       "      <th>2</th>\n",
       "      <td>Person2</td>\n",
       "      <td>1</td>\n",
       "      <td>402</td>\n",
       "      <td>533</td>\n",
       "      <td>46</td>\n",
       "      <td>213</td>\n",
       "      <td>Person2, Object1</td>\n",
       "      <td>JointAtt</td>\n",
       "      <td>share</td>\n",
       "      <td>[12.812554359436035, 16.574092864990234, 5.022...</td>\n",
       "    </tr>\n",
       "    <tr>\n",
       "      <th>3</th>\n",
       "      <td>Object1</td>\n",
       "      <td>2</td>\n",
       "      <td>222</td>\n",
       "      <td>281</td>\n",
       "      <td>220</td>\n",
       "      <td>328</td>\n",
       "      <td>NaN</td>\n",
       "      <td>NaN</td>\n",
       "      <td>NaN</td>\n",
       "      <td>[-18.332788467407227, 0.1340610533952713, 7.71...</td>\n",
       "    </tr>\n",
       "    <tr>\n",
       "      <th>4</th>\n",
       "      <td>Person1</td>\n",
       "      <td>2</td>\n",
       "      <td>104</td>\n",
       "      <td>219</td>\n",
       "      <td>53</td>\n",
       "      <td>224</td>\n",
       "      <td>Person1, Object1</td>\n",
       "      <td>JointAtt</td>\n",
       "      <td>share</td>\n",
       "      <td>[9.586891174316406, 8.327441215515137, 12.9994...</td>\n",
       "    </tr>\n",
       "    <tr>\n",
       "      <th>...</th>\n",
       "      <td>...</td>\n",
       "      <td>...</td>\n",
       "      <td>...</td>\n",
       "      <td>...</td>\n",
       "      <td>...</td>\n",
       "      <td>...</td>\n",
       "      <td>...</td>\n",
       "      <td>...</td>\n",
       "      <td>...</td>\n",
       "      <td>...</td>\n",
       "    </tr>\n",
       "    <tr>\n",
       "      <th>1162</th>\n",
       "      <td>Person1</td>\n",
       "      <td>388</td>\n",
       "      <td>117</td>\n",
       "      <td>232</td>\n",
       "      <td>50</td>\n",
       "      <td>221</td>\n",
       "      <td>Person1, Person2</td>\n",
       "      <td>JointAtt</td>\n",
       "      <td>single</td>\n",
       "      <td>[1.0717905759811401, 3.1524741649627686, 13.95...</td>\n",
       "    </tr>\n",
       "    <tr>\n",
       "      <th>1163</th>\n",
       "      <td>Person2</td>\n",
       "      <td>388</td>\n",
       "      <td>405</td>\n",
       "      <td>536</td>\n",
       "      <td>44</td>\n",
       "      <td>211</td>\n",
       "      <td>Person2, Object1</td>\n",
       "      <td>JointAtt</td>\n",
       "      <td>follow</td>\n",
       "      <td>[11.605775833129883, 16.115127563476562, 4.510...</td>\n",
       "    </tr>\n",
       "    <tr>\n",
       "      <th>1164</th>\n",
       "      <td>Object1</td>\n",
       "      <td>389</td>\n",
       "      <td>250</td>\n",
       "      <td>309</td>\n",
       "      <td>201</td>\n",
       "      <td>309</td>\n",
       "      <td>NaN</td>\n",
       "      <td>NaN</td>\n",
       "      <td>NaN</td>\n",
       "      <td>[-15.997689247131348, 11.390522003173828, 4.43...</td>\n",
       "    </tr>\n",
       "    <tr>\n",
       "      <th>1165</th>\n",
       "      <td>Person1</td>\n",
       "      <td>389</td>\n",
       "      <td>117</td>\n",
       "      <td>232</td>\n",
       "      <td>50</td>\n",
       "      <td>221</td>\n",
       "      <td>Person1, Person2</td>\n",
       "      <td>JointAtt</td>\n",
       "      <td>single</td>\n",
       "      <td>[1.75022554397583, 3.183882713317871, 14.22590...</td>\n",
       "    </tr>\n",
       "    <tr>\n",
       "      <th>1166</th>\n",
       "      <td>Person2</td>\n",
       "      <td>389</td>\n",
       "      <td>405</td>\n",
       "      <td>536</td>\n",
       "      <td>44</td>\n",
       "      <td>211</td>\n",
       "      <td>Person2, Object1</td>\n",
       "      <td>JointAtt</td>\n",
       "      <td>follow</td>\n",
       "      <td>[11.66997241973877, 16.321701049804688, 4.5290...</td>\n",
       "    </tr>\n",
       "  </tbody>\n",
       "</table>\n",
       "<p>1167 rows × 10 columns</p>\n",
       "</div>"
      ]
     },
     "execution_count": 20,
     "metadata": {},
     "output_type": "execute_result"
    }
   ],
   "execution_count": 20
  },
  {
   "metadata": {},
   "cell_type": "markdown",
   "source": "",
   "id": "5ca9c6acef503cfb"
  },
  {
   "metadata": {},
   "cell_type": "markdown",
   "source": [
    "281， 222， 329， 221\n",
    "rig, left, bot, top\n",
    "top, bot, lef, rig"
   ],
   "id": "d2445e8e007377ae"
  },
  {
   "metadata": {
    "ExecuteTime": {
     "end_time": "2024-09-10T14:22:19.861368Z",
     "start_time": "2024-09-10T14:22:19.848856Z"
    }
   },
   "cell_type": "code",
   "source": "test_label",
   "id": "fa12d4278fc8037",
   "outputs": [
    {
     "data": {
      "text/plain": [
       "[('Object1', None), ('Person1', 'JointAtt'), ('Person2', 'JointAtt')]"
      ]
     },
     "execution_count": 21,
     "metadata": {},
     "output_type": "execute_result"
    }
   ],
   "execution_count": 21
  },
  {
   "metadata": {
    "ExecuteTime": {
     "end_time": "2024-09-10T14:22:23.894481Z",
     "start_time": "2024-09-10T14:22:22.309953Z"
    }
   },
   "cell_type": "code",
   "source": "manasi_test = load_pickle('GAZE_dataset/Manasi_preprocessed_pickles/processed_Mar25_0')",
   "id": "8b1cf4fecebde1b9",
   "outputs": [],
   "execution_count": 22
  },
  {
   "metadata": {
    "ExecuteTime": {
     "end_time": "2024-09-10T14:22:38.820254Z",
     "start_time": "2024-09-10T14:22:38.806393Z"
    }
   },
   "cell_type": "code",
   "source": "manasi_test['1'].keys()",
   "id": "a7012c82906a6b0",
   "outputs": [
    {
     "data": {
      "text/plain": [
       "dict_keys(['graph_dicts', 'sequences', 'labels'])"
      ]
     },
     "execution_count": 23,
     "metadata": {},
     "output_type": "execute_result"
    }
   ],
   "execution_count": 23
  },
  {
   "metadata": {
    "ExecuteTime": {
     "end_time": "2024-09-10T14:22:39.149618Z",
     "start_time": "2024-09-10T14:22:39.128348Z"
    }
   },
   "cell_type": "code",
   "source": "manasi_test.keys()",
   "id": "3de53e6471916ff6",
   "outputs": [
    {
     "data": {
      "text/plain": [
       "dict_keys(['54', '85', '100', '217', '28', '107', '210', '9', '53', '82', '109', '21', '175', '7', '262', '172', '265', '219', '26', '250', '196', '147', '281', '13', '14', '257', '191', '140', '286', '68', '225', '132', '259', '288', '66', '301', '198', '149', '61', '222', '135', '70', '158', '189', '124', '233', '123', '234', '77', '299', '248', '79', '151', '297', '246', '180', '156', '290', '241', '187', '274', '163', '37', '208', '30', '118', '273', '164', '201', '116', '93', '42', '94', '45', '39', '206', '111', '199', '148', '60', '223', '134', '224', '133', '258', '289', '300', '67', '15', '256', '190', '141', '287', '69', '251', '197', '146', '280', '12', '1'])"
      ]
     },
     "execution_count": 24,
     "metadata": {},
     "output_type": "execute_result"
    }
   ],
   "execution_count": 24
  },
  {
   "metadata": {
    "ExecuteTime": {
     "end_time": "2024-09-10T14:35:47.162017Z",
     "start_time": "2024-09-10T14:35:47.148493Z"
    }
   },
   "cell_type": "code",
   "source": "load_pickle('GAZE_dataset/preprocess/video_data/12.mp4/label_0')",
   "id": "a8623f7dfb197f44",
   "outputs": [
    {
     "data": {
      "text/plain": [
       "[('Object1', None), ('Person1', 'SingleGaze'), ('Person2', 'SingleGaze')]"
      ]
     },
     "execution_count": 28,
     "metadata": {},
     "output_type": "execute_result"
    }
   ],
   "execution_count": 28
  },
  {
   "metadata": {
    "ExecuteTime": {
     "end_time": "2024-09-10T17:35:24.938397Z",
     "start_time": "2024-09-10T17:35:20.482643Z"
    }
   },
   "cell_type": "code",
   "source": "a = load_pickle('GAZE_dataset/traintest_seqs_14Jun23_0')",
   "id": "f032f9e65b0fb0af",
   "outputs": [],
   "execution_count": 5
  },
  {
   "metadata": {
    "ExecuteTime": {
     "end_time": "2024-09-10T17:36:25.426846Z",
     "start_time": "2024-09-10T17:36:25.411241Z"
    }
   },
   "cell_type": "code",
   "source": "a[0].keys()",
   "id": "28b0a744a6af068e",
   "outputs": [
    {
     "data": {
      "text/plain": [
       "dict_keys(['label', 'graph_dicts'])"
      ]
     },
     "execution_count": 12,
     "metadata": {},
     "output_type": "execute_result"
    }
   ],
   "execution_count": 12
  },
  {
   "metadata": {
    "ExecuteTime": {
     "end_time": "2024-09-10T17:38:13.708274Z",
     "start_time": "2024-09-10T17:38:13.692081Z"
    }
   },
   "cell_type": "code",
   "source": "len(a[0]['graph_dicts'][0])",
   "id": "594dfca51e7bce98",
   "outputs": [
    {
     "data": {
      "text/plain": [
       "3"
      ]
     },
     "execution_count": 20,
     "metadata": {},
     "output_type": "execute_result"
    }
   ],
   "execution_count": 20
  },
  {
   "metadata": {
    "ExecuteTime": {
     "end_time": "2024-09-10T17:37:57.966822Z",
     "start_time": "2024-09-10T17:37:57.952096Z"
    }
   },
   "cell_type": "code",
   "source": "a[0]['graph_dicts'][0].keys()",
   "id": "597dd48ccfdaadf4",
   "outputs": [
    {
     "data": {
      "text/plain": [
       "dict_keys(['nodes', 'senders', 'receivers'])"
      ]
     },
     "execution_count": 19,
     "metadata": {},
     "output_type": "execute_result"
    }
   ],
   "execution_count": 19
  },
  {
   "metadata": {
    "ExecuteTime": {
     "end_time": "2024-09-10T17:40:20.547325Z",
     "start_time": "2024-09-10T17:40:20.515680Z"
    }
   },
   "cell_type": "code",
   "source": "len(a[0]['graph_dicts'][0]['nodes'])",
   "id": "1658062705164522",
   "outputs": [
    {
     "data": {
      "text/plain": [
       "5"
      ]
     },
     "execution_count": 22,
     "metadata": {},
     "output_type": "execute_result"
    }
   ],
   "execution_count": 22
  },
  {
   "metadata": {
    "ExecuteTime": {
     "end_time": "2024-09-10T17:51:59.111161Z",
     "start_time": "2024-09-10T17:51:59.079571Z"
    }
   },
   "cell_type": "code",
   "source": [
    "for i in range(100):\n",
    "    cur_list = a[i]['graph_dicts'][0]['nodes']\n",
    "    for j in range(4):\n",
    "        if cur_list[j][0] == 0 and cur_list[j+1][0] != 0:\n",
    "            print(cur_list)\n",
    "            print('========')\n",
    "            "
   ],
   "id": "765caeba0138f699",
   "outputs": [],
   "execution_count": 32
  },
  {
   "metadata": {
    "ExecuteTime": {
     "end_time": "2024-09-10T17:36:56.266919Z",
     "start_time": "2024-09-10T17:36:56.250861Z"
    }
   },
   "cell_type": "code",
   "source": "a[0]['label']",
   "id": "35c44b2eb637f153",
   "outputs": [
    {
     "data": {
      "text/plain": [
       "('JointAtt', 'JointAtt')"
      ]
     },
     "execution_count": 14,
     "metadata": {},
     "output_type": "execute_result"
    }
   ],
   "execution_count": 14
  },
  {
   "metadata": {
    "ExecuteTime": {
     "end_time": "2024-09-10T14:35:09.618714Z",
     "start_time": "2024-09-10T14:35:09.598648Z"
    }
   },
   "cell_type": "code",
   "source": "len(manasi_test['12']['sequences'])",
   "id": "ddf4d7ac30dc5253",
   "outputs": [
    {
     "data": {
      "text/plain": [
       "11"
      ]
     },
     "execution_count": 27,
     "metadata": {},
     "output_type": "execute_result"
    }
   ],
   "execution_count": 27
  },
  {
   "metadata": {
    "ExecuteTime": {
     "end_time": "2024-09-09T20:25:51.319366Z",
     "start_time": "2024-09-09T20:25:51.303750Z"
    }
   },
   "cell_type": "code",
   "source": "len(manasi_test['1']['sequences'][0]), type(manasi_test['1']['sequences'][0])",
   "id": "ba2241f28641fbe4",
   "outputs": [
    {
     "data": {
      "text/plain": [
       "(389, numpy.ndarray)"
      ]
     },
     "execution_count": 20,
     "metadata": {},
     "output_type": "execute_result"
    }
   ],
   "execution_count": 20
  },
  {
   "metadata": {
    "ExecuteTime": {
     "end_time": "2024-09-09T20:23:02.057872Z",
     "start_time": "2024-09-09T20:23:02.026762Z"
    }
   },
   "cell_type": "code",
   "source": "manasi_test['1']['sequences'][0][0]",
   "id": "51cdddc9016e48a6",
   "outputs": [
    {
     "data": {
      "text/plain": [
       "array([[list([19.127209432632547, -1.0256831867282694, 8.13335232314885, -4.201163709443032, 1.8991420331250286, -13.876740169041135, -5.526908531131593, -3.8356414133755274, 9.519650781813894, -3.851486033541, -10.705018150235949, -5.2528136370278915, -1.2222795299178517, 2.5200896122278476, -1.901773983292112, -0.8833180093497349, -0.5375356957939621, -4.3363662521959885, 3.3842700418425578, -3.2342044946744766, 221, 329, 222, 281]),\n",
       "        list([-10.227210662910501, -7.964693699370105, 12.540352411872792, -11.681789480086213, 0.30675131708999126, -10.135767468020056, -5.339033053269009, -1.821363372032125, 5.746255099644273, -0.02389578031439287, -6.916765072423783, 8.810839903650729, 1.9119219721072658, 3.520538773271611, 6.203606830129152, 7.181162217732476, -3.5985563941815815, -0.4146291782533541, 6.5097611640900555, 1.183150324798416, 54, 225, 104, 219]),\n",
       "        list([-12.812543674851636, -16.574032737620364, 5.022561399135988, -1.9710347021824894, -4.590026455200244, -14.132404203224567, 3.5610422346674504, -2.152768956237242, 9.752300526531194, -5.934178701440138, 7.906169869012861, -4.110902741132687, 2.4604946333069417, 5.639692802635624, 4.779487860544534, 1.6455319386440521, -3.6249220467071455, -0.9593423312896159, 0.4130565702495333, -1.7666946038529956, 46, 213, 402, 533])],\n",
       "       [('Object1', None), ('Person1', 'O1'), ('Person2', 'O1')]],\n",
       "      dtype=object)"
      ]
     },
     "execution_count": 17,
     "metadata": {},
     "output_type": "execute_result"
    }
   ],
   "execution_count": 17
  },
  {
   "metadata": {
    "ExecuteTime": {
     "end_time": "2024-09-10T14:36:27.291143Z",
     "start_time": "2024-09-10T14:36:27.281628Z"
    }
   },
   "cell_type": "code",
   "source": "len(manasi_test['1']['sequences'][0][0])",
   "id": "4c7bb2f2da120cf7",
   "outputs": [
    {
     "data": {
      "text/plain": [
       "2"
      ]
     },
     "execution_count": 31,
     "metadata": {},
     "output_type": "execute_result"
    }
   ],
   "execution_count": 31
  },
  {
   "metadata": {},
   "cell_type": "code",
   "outputs": [],
   "execution_count": null,
   "source": "",
   "id": "72c499247e9e3628"
  },
  {
   "metadata": {},
   "cell_type": "markdown",
   "source": "dict of video names --> sequence --> sequences --> frames --> [0] frame feature (np array of lists, each list is a 25 dimension of feature)[1] frame label",
   "id": "a12c98414cc91a11"
  },
  {
   "metadata": {
    "ExecuteTime": {
     "end_time": "2024-09-10T14:36:02.120847Z",
     "start_time": "2024-09-10T14:36:02.104065Z"
    }
   },
   "cell_type": "code",
   "source": "manasi_test['1']['sequences'][0][0][0]",
   "id": "7e8d0c6a62c748db",
   "outputs": [
    {
     "data": {
      "text/plain": [
       "array([list([19.127209432632547, -1.0256831867282694, 8.13335232314885, -4.201163709443032, 1.8991420331250286, -13.876740169041135, -5.526908531131593, -3.8356414133755274, 9.519650781813894, -3.851486033541, -10.705018150235949, -5.2528136370278915, -1.2222795299178517, 2.5200896122278476, -1.901773983292112, -0.8833180093497349, -0.5375356957939621, -4.3363662521959885, 3.3842700418425578, -3.2342044946744766, 221, 329, 222, 281]),\n",
       "       list([-10.227210662910501, -7.964693699370105, 12.540352411872792, -11.681789480086213, 0.30675131708999126, -10.135767468020056, -5.339033053269009, -1.821363372032125, 5.746255099644273, -0.02389578031439287, -6.916765072423783, 8.810839903650729, 1.9119219721072658, 3.520538773271611, 6.203606830129152, 7.181162217732476, -3.5985563941815815, -0.4146291782533541, 6.5097611640900555, 1.183150324798416, 54, 225, 104, 219]),\n",
       "       list([-12.812543674851636, -16.574032737620364, 5.022561399135988, -1.9710347021824894, -4.590026455200244, -14.132404203224567, 3.5610422346674504, -2.152768956237242, 9.752300526531194, -5.934178701440138, 7.906169869012861, -4.110902741132687, 2.4604946333069417, 5.639692802635624, 4.779487860544534, 1.6455319386440521, -3.6249220467071455, -0.9593423312896159, 0.4130565702495333, -1.7666946038529956, 46, 213, 402, 533])],\n",
       "      dtype=object)"
      ]
     },
     "execution_count": 29,
     "metadata": {},
     "output_type": "execute_result"
    }
   ],
   "execution_count": 29
  },
  {
   "metadata": {
    "ExecuteTime": {
     "end_time": "2024-09-10T14:54:19.103725Z",
     "start_time": "2024-09-10T14:54:19.086961Z"
    }
   },
   "cell_type": "code",
   "source": "(manasi_test['1']['sequences'][0][0].shape)",
   "id": "2c3a31779fd14aad",
   "outputs": [
    {
     "data": {
      "text/plain": [
       "(2, 3)"
      ]
     },
     "execution_count": 42,
     "metadata": {},
     "output_type": "execute_result"
    }
   ],
   "execution_count": 42
  },
  {
   "metadata": {
    "ExecuteTime": {
     "end_time": "2024-09-10T14:38:51.841465Z",
     "start_time": "2024-09-10T14:38:51.832411Z"
    }
   },
   "cell_type": "code",
   "source": "manasi_test['1']['sequences'][0][0][0][0]",
   "id": "5c1a75e4880428c3",
   "outputs": [
    {
     "data": {
      "text/plain": [
       "[19.127209432632547,\n",
       " -1.0256831867282694,\n",
       " 8.13335232314885,\n",
       " -4.201163709443032,\n",
       " 1.8991420331250286,\n",
       " -13.876740169041135,\n",
       " -5.526908531131593,\n",
       " -3.8356414133755274,\n",
       " 9.519650781813894,\n",
       " -3.851486033541,\n",
       " -10.705018150235949,\n",
       " -5.2528136370278915,\n",
       " -1.2222795299178517,\n",
       " 2.5200896122278476,\n",
       " -1.901773983292112,\n",
       " -0.8833180093497349,\n",
       " -0.5375356957939621,\n",
       " -4.3363662521959885,\n",
       " 3.3842700418425578,\n",
       " -3.2342044946744766,\n",
       " 221,\n",
       " 329,\n",
       " 222,\n",
       " 281]"
      ]
     },
     "execution_count": 34,
     "metadata": {},
     "output_type": "execute_result"
    }
   ],
   "execution_count": 34
  },
  {
   "metadata": {
    "ExecuteTime": {
     "end_time": "2024-09-10T14:55:17.206569Z",
     "start_time": "2024-09-10T14:55:17.196054Z"
    }
   },
   "cell_type": "code",
   "source": "manasi_test['1']['sequences'][0][0]",
   "id": "23ae94ab03cabdb4",
   "outputs": [
    {
     "data": {
      "text/plain": [
       "array([[list([19.127209432632547, -1.0256831867282694, 8.13335232314885, -4.201163709443032, 1.8991420331250286, -13.876740169041135, -5.526908531131593, -3.8356414133755274, 9.519650781813894, -3.851486033541, -10.705018150235949, -5.2528136370278915, -1.2222795299178517, 2.5200896122278476, -1.901773983292112, -0.8833180093497349, -0.5375356957939621, -4.3363662521959885, 3.3842700418425578, -3.2342044946744766, 221, 329, 222, 281]),\n",
       "        list([-10.227210662910501, -7.964693699370105, 12.540352411872792, -11.681789480086213, 0.30675131708999126, -10.135767468020056, -5.339033053269009, -1.821363372032125, 5.746255099644273, -0.02389578031439287, -6.916765072423783, 8.810839903650729, 1.9119219721072658, 3.520538773271611, 6.203606830129152, 7.181162217732476, -3.5985563941815815, -0.4146291782533541, 6.5097611640900555, 1.183150324798416, 54, 225, 104, 219]),\n",
       "        list([-12.812543674851636, -16.574032737620364, 5.022561399135988, -1.9710347021824894, -4.590026455200244, -14.132404203224567, 3.5610422346674504, -2.152768956237242, 9.752300526531194, -5.934178701440138, 7.906169869012861, -4.110902741132687, 2.4604946333069417, 5.639692802635624, 4.779487860544534, 1.6455319386440521, -3.6249220467071455, -0.9593423312896159, 0.4130565702495333, -1.7666946038529956, 46, 213, 402, 533])],\n",
       "       [('Object1', None), ('Person1', 'O1'), ('Person2', 'O1')]],\n",
       "      dtype=object)"
      ]
     },
     "execution_count": 43,
     "metadata": {},
     "output_type": "execute_result"
    }
   ],
   "execution_count": 43
  },
  {
   "metadata": {
    "ExecuteTime": {
     "end_time": "2024-09-10T14:55:35.112863Z",
     "start_time": "2024-09-10T14:55:35.096741Z"
    }
   },
   "cell_type": "code",
   "source": "manasi_test['1']['sequences'][0][0][1]\n",
   "id": "d1df84524f030639",
   "outputs": [
    {
     "data": {
      "text/plain": [
       "array([('Object1', None), ('Person1', 'O1'), ('Person2', 'O1')],\n",
       "      dtype=object)"
      ]
     },
     "execution_count": 45,
     "metadata": {},
     "output_type": "execute_result"
    }
   ],
   "execution_count": 45
  },
  {
   "metadata": {
    "ExecuteTime": {
     "end_time": "2024-09-10T14:56:19.700465Z",
     "start_time": "2024-09-10T14:56:19.688932Z"
    }
   },
   "cell_type": "code",
   "source": "np.array([1, 2, 3])",
   "id": "9e4eea382c24826c",
   "outputs": [
    {
     "data": {
      "text/plain": [
       "array([1, 2, 3])"
      ]
     },
     "execution_count": 46,
     "metadata": {},
     "output_type": "execute_result"
    }
   ],
   "execution_count": 46
  },
  {
   "metadata": {},
   "cell_type": "markdown",
   "source": [
    "dict of all videos --> dict of ['graph_dicts', 'sequences', 'labels'] for each video -->\n",
    "\n",
    "graph_dicts list of all sequences' graph dicts --> list of graph dicts for each frame --> \n"
   ],
   "id": "7ee9fa96c4e3975d"
  },
  {
   "metadata": {},
   "cell_type": "markdown",
   "source": "## Build Graph\n",
   "id": "571be050246999b"
  },
  {
   "metadata": {
    "ExecuteTime": {
     "end_time": "2024-09-10T14:57:54.732653Z",
     "start_time": "2024-09-10T14:57:54.690473Z"
    }
   },
   "cell_type": "code",
   "source": [
    "all_videos = {}\n",
    "all_labels = ['Person1', 'Person2', 'Person3', 'Person4', 'Object1', 'Object2', 'Object3', 'Object4', 'Object5']\n",
    "for video_name in tqdm(sorted(os.listdir(patches_path))):\n",
    "    \n",
    "    video_dir = os.path.join(patches_path, video_name)\n",
    "    video_data = {'graph_dicts': [],\n",
    "                  'sequences': [],\n",
    "                  'labels': []}\n",
    "    graph_dicts_sequences = []\n",
    "    sequences_sequences = []\n",
    "    labels_sequences = []\n",
    "    \n",
    "    for pickle_name in os.listdir(video_dir):\n",
    "        if 'sequence' in pickle_name:\n",
    "            annotations = load_pickle(os.path.join(video_dir, pickle_name))\n",
    "            labels = annotations[annotations['frame_numbers'] == annotations['frame_numbers'].iloc[0]][['labels', 'event_attribute']].map(lambda x: None if pd.isna(x) else x)\n",
    "            # Transform the data into the desired format\n",
    "            labels = [{k: v for k, v in zip(labels['labels'], labels['event_attribute'])}]\n",
    "            video_dict = {'labels': labels, 'graph_dicts': [], 'video_name': f'{video_name}_{pickle_name}'} \n",
    "            grouped = annotations.groupby('frame_numbers')\n",
    "            \n",
    "            graph_dicts_frames = []\n",
    "            sequences_frames = []\n",
    "            labels_frames = []\n",
    "            \n",
    "            for frame_number, group in grouped:\n",
    "                edges = group['gaze_direction']\n",
    "                senders = []\n",
    "                receivers = []\n",
    "                nodes = []\n",
    "                \n",
    "                dims = len(annotations['labels'].unique())\n",
    "                print(dims)\n",
    "                sequences_entities = np.zeros([2, 3])\n",
    "                labels_entities = []\n",
    "                # Process in the order of the all_labels list\n",
    "                for i, entity in enumerate(all_labels):                \n",
    "                    # if the entity exists\n",
    "                    if (annotations['labels'] == entity).any():\n",
    "                        # Access the value in the 'features' and 'gazes' columns of that entity\n",
    "                        feature = annotations.loc[annotations['labels'] == entity, 'features'].iloc[0].tolist()\n",
    "                        nodes.append(feature)\n",
    "                        print(feature)\n",
    "                        sequences_entities[0, 0] = entity\n",
    "                        break\n",
    "                        edge = annotations.loc[annotations['labels'] == entity, 'gaze_direction'].iloc[0]\n",
    "                        # if gaze exists (only when the entity is person)\n",
    "                        if not isinstance(edge, float):\n",
    "                            sender, receiver = edge.split(', ')\n",
    "                            # if the gaze is at some entities not found in the video, the gaze will be discarded\n",
    "                            if sender == entity and receiver != \"neither\" and receiver in all_labels: \n",
    "                                senders.append(i)\n",
    "                                receivers.append(all_labels.index(receiver))\n",
    "                    # else:\n",
    "                    #     # Pad the nodes if there are missing feature/less than 5 features\n",
    "                    #     nodes.append([0 for j in range(25)])\n",
    "\n",
    "                # assert len(nodes) == 5\n",
    "                break\n",
    "                graph_dict = {'nodes': nodes, 'senders': senders, 'receivers': receivers}\n",
    "                graph_dicts_frames.append(graph_dict)\n",
    "            graph_dicts_sequences.append(graph_dicts_frames)\n",
    "    break\n",
    "    all_videos[video_name.replace('.mp4', '')] = video_data"
   ],
   "id": "f6eff4d74838c831",
   "outputs": [
    {
     "name": "stderr",
     "output_type": "stream",
     "text": [
      "  0%|          | 0/299 [00:00<?, ?it/s]"
     ]
    },
    {
     "name": "stdout",
     "output_type": "stream",
     "text": [
      "3\n",
      "[[0. 0. 0.]\n",
      " [0. 0. 0.]]\n",
      "[10.227222442626953, 7.964751243591309, 12.540274620056152, -11.68178653717041, 0.30670633912086487, 10.135627746582031, -5.338925838470459, -1.823194146156311, -5.744480609893799, 0.027499111369252205, -6.921828269958496, -8.80478572845459, 1.9131251573562622, -3.541015863418579, 6.224554061889648, 7.135051250457764, 3.634446144104004, -0.4626026749610901, 6.491567611694336, 1.4666532278060913, 54.0, 225.0, 104.0, 219.0, 0.0]\n"
     ]
    },
    {
     "name": "stderr",
     "output_type": "stream",
     "text": [
      "\n"
     ]
    }
   ],
   "execution_count": 50
  },
  {
   "metadata": {
    "ExecuteTime": {
     "end_time": "2024-09-10T14:51:33.841125Z",
     "start_time": "2024-09-10T14:51:33.828591Z"
    }
   },
   "cell_type": "code",
   "source": "save_pickle(all_videos, \"GAZE_dataset/preprocess/graphs\")",
   "id": "952c4904ace897b2",
   "outputs": [],
   "execution_count": 37
  },
  {
   "metadata": {
    "ExecuteTime": {
     "end_time": "2024-09-03T19:53:34.400378Z",
     "start_time": "2024-09-03T19:53:34.353442Z"
    }
   },
   "cell_type": "code",
   "source": "all_videos",
   "id": "956d04ebf9b3cf99",
   "outputs": [
    {
     "ename": "AttributeError",
     "evalue": "'list' object has no attribute 'keys'",
     "output_type": "error",
     "traceback": [
      "\u001B[1;31m---------------------------------------------------------------------------\u001B[0m",
      "\u001B[1;31mAttributeError\u001B[0m                            Traceback (most recent call last)",
      "Cell \u001B[1;32mIn[10], line 1\u001B[0m\n\u001B[1;32m----> 1\u001B[0m \u001B[43mall_videos\u001B[49m\u001B[38;5;241;43m.\u001B[39;49m\u001B[43mkeys\u001B[49m()\n",
      "\u001B[1;31mAttributeError\u001B[0m: 'list' object has no attribute 'keys'"
     ]
    }
   ],
   "execution_count": 10
  }
 ],
 "metadata": {
  "kernelspec": {
   "display_name": "Python 3",
   "language": "python",
   "name": "python3"
  },
  "language_info": {
   "codemirror_mode": {
    "name": "ipython",
    "version": 2
   },
   "file_extension": ".py",
   "mimetype": "text/x-python",
   "name": "python",
   "nbconvert_exporter": "python",
   "pygments_lexer": "ipython2",
   "version": "2.7.6"
  }
 },
 "nbformat": 4,
 "nbformat_minor": 5
}
