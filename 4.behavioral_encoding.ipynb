{
 "cells": [
  {
   "metadata": {},
   "cell_type": "markdown",
   "source": "Use SocialGNN_encoding_2 environment",
   "id": "1ba1aad1b3b7a33"
  },
  {
   "cell_type": "code",
   "id": "initial_id",
   "metadata": {
    "collapsed": true,
    "ExecuteTime": {
     "end_time": "2024-08-29T16:58:33.800046Z",
     "start_time": "2024-08-29T16:58:33.530220Z"
    }
   },
   "source": [
    "import os\n",
    "from tqdm import tqdm\n",
    "import pickle\n",
    "import numpy as np\n",
    "import pandas as pd\n",
    "\n",
    "from sklearn.linear_model import RidgeCV, Ridge, LinearRegression\n",
    "from sklearn.model_selection import KFold, train_test_split, GridSearchCV\n",
    "from sklearn.metrics import mean_squared_error\n",
    "from scipy.stats import pearsonr\n",
    "\n",
    "import gc\n",
    "\n",
    "import matplotlib.pyplot as plt\n",
    "import seaborn as sns"
   ],
   "outputs": [],
   "execution_count": 1
  },
  {
   "metadata": {
    "ExecuteTime": {
     "end_time": "2024-08-29T16:58:46.688845Z",
     "start_time": "2024-08-29T16:58:33.803035Z"
    }
   },
   "cell_type": "code",
   "source": [
    "options = ['LSTM', 'SocialGNN', 'LSTM_Relation']\n",
    "model_selection = input(f'Which model would you like to use? {\", \".join(options)}: ')\n",
    "if model_selection not in options:\n",
    "    raise ValueError(f'Model selection must be in {options}')\n",
    "model_encoding_dir = f'Data/layer_representations/{model_selection}'\n",
    "layer_options = os.listdir(model_encoding_dir)\n",
    "layer_selection= []\n",
    "while True:\n",
    "    selection = input(f'Which layer would you like to use? {\", \".join(layer_options)}: ')\n",
    "    if selection not in layer_options:\n",
    "        raise ValueError(f'Layer selection must be in {layer_options}') \n",
    "    if selection not in layer_selection:\n",
    "        layer_selection.append(selection)\n",
    "    if input(f'Would you like to add more layer? (y/n): ') == 'n':\n",
    "        break"
   ],
   "id": "7775ddec23ef48e9",
   "outputs": [],
   "execution_count": 2
  },
  {
   "metadata": {
    "ExecuteTime": {
     "end_time": "2024-08-29T16:58:46.703795Z",
     "start_time": "2024-08-29T16:58:46.690838Z"
    }
   },
   "cell_type": "code",
   "source": [
    "target_ratings_dir = 'Data/behavioral_ratings.csv'\n",
    "ratings_of_interest =['expanse', 'transitivity','agent distance', 'facingness', 'communication',  'joint action', 'valence', 'arousal']"
   ],
   "id": "468b3cd71efa0700",
   "outputs": [],
   "execution_count": 3
  },
  {
   "metadata": {
    "ExecuteTime": {
     "end_time": "2024-08-29T16:58:46.718757Z",
     "start_time": "2024-08-29T16:58:46.705788Z"
    }
   },
   "cell_type": "code",
   "source": [
    "def load_pickle(path):\n",
    "    with open(path, 'rb') as f:\n",
    "        pickled = pickle.load(f)\n",
    "    return pickled"
   ],
   "id": "cf4030321633934b",
   "outputs": [],
   "execution_count": 4
  },
  {
   "metadata": {
    "ExecuteTime": {
     "end_time": "2024-08-29T16:58:46.750179Z",
     "start_time": "2024-08-29T16:58:46.723258Z"
    }
   },
   "cell_type": "code",
   "source": [
    "ratings_df = pd.read_csv(target_ratings_dir)[['video_name'] + ratings_of_interest]\n",
    "ratings_df_sorted = ratings_df.sort_values(by='video_name')"
   ],
   "id": "a85b9e6315000940",
   "outputs": [],
   "execution_count": 5
  },
  {
   "metadata": {
    "ExecuteTime": {
     "end_time": "2024-08-29T16:58:46.781076Z",
     "start_time": "2024-08-29T16:58:46.752173Z"
    }
   },
   "cell_type": "code",
   "source": [
    "train_video_names = pd.read_csv('Data/train.csv')\n",
    "test_video_names = pd.read_csv('Data/test.csv')\n",
    "\n",
    "train_idx = ratings_df_sorted[ratings_df_sorted['video_name'].isin(train_video_names['video_name'])].index.tolist()\n",
    "test_idx = ratings_df_sorted[ratings_df_sorted['video_name'].isin(test_video_names['video_name'])].index.tolist()\n",
    "# Print the matching indices\n",
    "print(train_idx, test_idx)"
   ],
   "id": "6729081f76b9a0d1",
   "outputs": [
    {
     "name": "stdout",
     "output_type": "stream",
     "text": [
      "[0, 1, 2, 4, 5, 7, 8, 9, 10, 11, 12, 13, 14, 15, 16, 18, 19, 20, 22, 23, 24, 27, 29, 30, 31, 32, 33, 34, 35, 36, 38, 39, 40, 41, 43, 44, 45, 47, 49, 50, 51, 52, 54, 57, 58, 59, 62, 63, 64, 65, 66, 67, 68, 69, 70, 71, 72, 73, 74, 76, 77, 78, 79, 80, 81, 82, 85, 86, 87, 91, 92, 94, 95, 96, 97, 99, 100, 102, 103, 104, 105, 106, 108, 109, 110, 111, 112, 113, 115, 116, 118, 119, 120, 121, 122, 123, 124, 125, 126, 128, 129, 130, 131, 132, 133, 135, 136, 137, 139, 140, 141, 142, 143, 144, 146, 147, 149, 150, 152, 154, 155, 156, 157, 158, 159, 160, 162, 164, 165, 166, 169, 170, 171, 172, 173, 174, 175, 177, 178, 179, 180, 181, 182, 183, 186, 187, 188, 189, 190, 191, 194, 195, 196, 197, 200, 202, 203, 204, 205, 206, 207, 208, 210, 211, 212, 213, 214, 215, 216, 217, 218, 219, 220, 221, 222, 223, 224, 225, 226, 227, 228, 230, 231, 232, 234, 235, 236, 237, 238, 239, 240, 241, 242, 243, 244, 245, 246, 247, 248, 249] [3, 6, 17, 21, 25, 26, 28, 37, 42, 46, 48, 53, 55, 56, 60, 61, 75, 83, 84, 88, 89, 90, 93, 98, 101, 107, 114, 117, 127, 134, 138, 145, 148, 151, 153, 161, 163, 167, 168, 176, 184, 185, 192, 193, 198, 199, 201, 209, 229, 233]\n"
     ]
    }
   ],
   "execution_count": 6
  },
  {
   "metadata": {
    "ExecuteTime": {
     "end_time": "2024-08-29T16:58:46.812980Z",
     "start_time": "2024-08-29T16:58:46.783069Z"
    }
   },
   "cell_type": "code",
   "source": "ratings_df_sorted",
   "id": "42c4f4c4275785df",
   "outputs": [
    {
     "data": {
      "text/plain": [
       "                           video_name  expanse  transitivity  agent distance  \\\n",
       "0                  -YwZOeyAQC8_15.mp4    0.225      0.895833        0.000000   \n",
       "1                  1AIVH5cEWrI_35.mp4    0.250      0.104167        0.075000   \n",
       "2    2-8-0-2-5-4-8-8-5028025488_7.mp4    0.275      1.000000        0.045455   \n",
       "3                   3PJaYWt0cws_5.mp4    0.625      1.000000        0.725000   \n",
       "4    7-5-1-0-3-6-9-8-3775103698_9.mp4    0.275      0.925000        0.275000   \n",
       "..                                ...      ...           ...             ...   \n",
       "245            yt-ylWmBeCU2LE_101.mp4    0.225      0.925000        0.250000   \n",
       "246             yt-zGPMQDq1VdU_39.mp4    0.125      0.825000        0.150000   \n",
       "247             yt-zcz5nb7m-Y4_55.mp4    0.050      0.975000        0.050000   \n",
       "248          yt_R-62JchDNyM7U_143.mp4    0.500      1.000000        0.575000   \n",
       "249           yt_R-8XFRghgHAwk_54.mp4    0.025      0.975000        0.000000   \n",
       "\n",
       "     facingness  communication  joint action   valence   arousal  \n",
       "0      0.045455       0.550000      0.700000  0.650000  0.340909  \n",
       "1      1.000000       0.900000      0.825000  0.675000  0.340909  \n",
       "2      0.050000       0.500000      0.575000  0.675000  0.075000  \n",
       "3      0.340909       0.150000      0.022727  0.600000  0.400000  \n",
       "4      0.636364       0.825000      0.750000  0.722222  0.125000  \n",
       "..          ...            ...           ...       ...       ...  \n",
       "245    0.975000       0.840909      0.525000  0.800000  0.425000  \n",
       "246    0.100000       0.750000      0.600000  0.650000  0.575000  \n",
       "247    1.000000       0.750000      0.825000  0.850000  0.400000  \n",
       "248    0.275000       0.175000      0.590909  0.425000  0.250000  \n",
       "249    0.025000       0.675000      0.600000  0.575000  0.300000  \n",
       "\n",
       "[250 rows x 9 columns]"
      ],
      "text/html": [
       "<div>\n",
       "<style scoped>\n",
       "    .dataframe tbody tr th:only-of-type {\n",
       "        vertical-align: middle;\n",
       "    }\n",
       "\n",
       "    .dataframe tbody tr th {\n",
       "        vertical-align: top;\n",
       "    }\n",
       "\n",
       "    .dataframe thead th {\n",
       "        text-align: right;\n",
       "    }\n",
       "</style>\n",
       "<table border=\"1\" class=\"dataframe\">\n",
       "  <thead>\n",
       "    <tr style=\"text-align: right;\">\n",
       "      <th></th>\n",
       "      <th>video_name</th>\n",
       "      <th>expanse</th>\n",
       "      <th>transitivity</th>\n",
       "      <th>agent distance</th>\n",
       "      <th>facingness</th>\n",
       "      <th>communication</th>\n",
       "      <th>joint action</th>\n",
       "      <th>valence</th>\n",
       "      <th>arousal</th>\n",
       "    </tr>\n",
       "  </thead>\n",
       "  <tbody>\n",
       "    <tr>\n",
       "      <th>0</th>\n",
       "      <td>-YwZOeyAQC8_15.mp4</td>\n",
       "      <td>0.225</td>\n",
       "      <td>0.895833</td>\n",
       "      <td>0.000000</td>\n",
       "      <td>0.045455</td>\n",
       "      <td>0.550000</td>\n",
       "      <td>0.700000</td>\n",
       "      <td>0.650000</td>\n",
       "      <td>0.340909</td>\n",
       "    </tr>\n",
       "    <tr>\n",
       "      <th>1</th>\n",
       "      <td>1AIVH5cEWrI_35.mp4</td>\n",
       "      <td>0.250</td>\n",
       "      <td>0.104167</td>\n",
       "      <td>0.075000</td>\n",
       "      <td>1.000000</td>\n",
       "      <td>0.900000</td>\n",
       "      <td>0.825000</td>\n",
       "      <td>0.675000</td>\n",
       "      <td>0.340909</td>\n",
       "    </tr>\n",
       "    <tr>\n",
       "      <th>2</th>\n",
       "      <td>2-8-0-2-5-4-8-8-5028025488_7.mp4</td>\n",
       "      <td>0.275</td>\n",
       "      <td>1.000000</td>\n",
       "      <td>0.045455</td>\n",
       "      <td>0.050000</td>\n",
       "      <td>0.500000</td>\n",
       "      <td>0.575000</td>\n",
       "      <td>0.675000</td>\n",
       "      <td>0.075000</td>\n",
       "    </tr>\n",
       "    <tr>\n",
       "      <th>3</th>\n",
       "      <td>3PJaYWt0cws_5.mp4</td>\n",
       "      <td>0.625</td>\n",
       "      <td>1.000000</td>\n",
       "      <td>0.725000</td>\n",
       "      <td>0.340909</td>\n",
       "      <td>0.150000</td>\n",
       "      <td>0.022727</td>\n",
       "      <td>0.600000</td>\n",
       "      <td>0.400000</td>\n",
       "    </tr>\n",
       "    <tr>\n",
       "      <th>4</th>\n",
       "      <td>7-5-1-0-3-6-9-8-3775103698_9.mp4</td>\n",
       "      <td>0.275</td>\n",
       "      <td>0.925000</td>\n",
       "      <td>0.275000</td>\n",
       "      <td>0.636364</td>\n",
       "      <td>0.825000</td>\n",
       "      <td>0.750000</td>\n",
       "      <td>0.722222</td>\n",
       "      <td>0.125000</td>\n",
       "    </tr>\n",
       "    <tr>\n",
       "      <th>...</th>\n",
       "      <td>...</td>\n",
       "      <td>...</td>\n",
       "      <td>...</td>\n",
       "      <td>...</td>\n",
       "      <td>...</td>\n",
       "      <td>...</td>\n",
       "      <td>...</td>\n",
       "      <td>...</td>\n",
       "      <td>...</td>\n",
       "    </tr>\n",
       "    <tr>\n",
       "      <th>245</th>\n",
       "      <td>yt-ylWmBeCU2LE_101.mp4</td>\n",
       "      <td>0.225</td>\n",
       "      <td>0.925000</td>\n",
       "      <td>0.250000</td>\n",
       "      <td>0.975000</td>\n",
       "      <td>0.840909</td>\n",
       "      <td>0.525000</td>\n",
       "      <td>0.800000</td>\n",
       "      <td>0.425000</td>\n",
       "    </tr>\n",
       "    <tr>\n",
       "      <th>246</th>\n",
       "      <td>yt-zGPMQDq1VdU_39.mp4</td>\n",
       "      <td>0.125</td>\n",
       "      <td>0.825000</td>\n",
       "      <td>0.150000</td>\n",
       "      <td>0.100000</td>\n",
       "      <td>0.750000</td>\n",
       "      <td>0.600000</td>\n",
       "      <td>0.650000</td>\n",
       "      <td>0.575000</td>\n",
       "    </tr>\n",
       "    <tr>\n",
       "      <th>247</th>\n",
       "      <td>yt-zcz5nb7m-Y4_55.mp4</td>\n",
       "      <td>0.050</td>\n",
       "      <td>0.975000</td>\n",
       "      <td>0.050000</td>\n",
       "      <td>1.000000</td>\n",
       "      <td>0.750000</td>\n",
       "      <td>0.825000</td>\n",
       "      <td>0.850000</td>\n",
       "      <td>0.400000</td>\n",
       "    </tr>\n",
       "    <tr>\n",
       "      <th>248</th>\n",
       "      <td>yt_R-62JchDNyM7U_143.mp4</td>\n",
       "      <td>0.500</td>\n",
       "      <td>1.000000</td>\n",
       "      <td>0.575000</td>\n",
       "      <td>0.275000</td>\n",
       "      <td>0.175000</td>\n",
       "      <td>0.590909</td>\n",
       "      <td>0.425000</td>\n",
       "      <td>0.250000</td>\n",
       "    </tr>\n",
       "    <tr>\n",
       "      <th>249</th>\n",
       "      <td>yt_R-8XFRghgHAwk_54.mp4</td>\n",
       "      <td>0.025</td>\n",
       "      <td>0.975000</td>\n",
       "      <td>0.000000</td>\n",
       "      <td>0.025000</td>\n",
       "      <td>0.675000</td>\n",
       "      <td>0.600000</td>\n",
       "      <td>0.575000</td>\n",
       "      <td>0.300000</td>\n",
       "    </tr>\n",
       "  </tbody>\n",
       "</table>\n",
       "<p>250 rows × 9 columns</p>\n",
       "</div>"
      ]
     },
     "execution_count": 7,
     "metadata": {},
     "output_type": "execute_result"
    }
   ],
   "execution_count": 7
  },
  {
   "metadata": {
    "ExecuteTime": {
     "end_time": "2024-08-29T16:58:46.828456Z",
     "start_time": "2024-08-29T16:58:46.814974Z"
    }
   },
   "cell_type": "code",
   "source": [
    "''' Function for you to test out the encoding results of a single layer from a selected model\n",
    "    Input: X - a numpy array of loaded pickle file (n_samples=250, n_features)\n",
    "    Example Usage: \n",
    "    model_features = load_pickle('Data/layer_representations/SocialGNN/final_state/GazeDataset_Jun1523_traintest5Jun23_2_0_SocialGNN_V_5_5_12_12_6_2_20_1.0_1.5_0.001_0.01')\n",
    "    X = np.vstack(model_features)\n",
    "'''\n",
    "\n",
    "def single_layer_encoding(X):\n",
    "    results = {}\n",
    "    for rating in ratings_of_interest:\n",
    "        y = ratings_df_sorted[rating].values\n",
    "    \n",
    "        # Split data\n",
    "        X_train, X_test, y_train, y_test = train_test_split(X, y, test_size=0.2, random_state=42)\n",
    "    \n",
    "        # Initialize the Ridge regression model\n",
    "        ridge = Ridge(alpha=1.0)\n",
    "    \n",
    "        # Fit the model on the training data\n",
    "        ridge.fit(X_train, y_train)\n",
    "    \n",
    "        # Predict on the test data\n",
    "        y_pred = ridge.predict(X_test)\n",
    "    \n",
    "        # Calculate Mean Squared Error\n",
    "        mse = mean_squared_error(y_test, y_pred)\n",
    "        results[rating] = mse\n",
    "        print(f'Mean Squared Error for {rating}: {mse}')"
   ],
   "id": "8ff2567eef189d0",
   "outputs": [],
   "execution_count": 8
  },
  {
   "metadata": {
    "ExecuteTime": {
     "end_time": "2024-08-29T16:58:46.844403Z",
     "start_time": "2024-08-29T16:58:46.830450Z"
    }
   },
   "cell_type": "code",
   "source": [
    "def ridge_regression_benchmarking(target, layers, models,\n",
    "                                  n_splits=4, random_seed=0, alphas=None):\n",
    "    if alphas is None:\n",
    "        alphas = np.logspace(-2, 5, 7)\n",
    "    \n",
    "    all_model_results = []\n",
    "    \n",
    "    # Iterate over each target rating separately\n",
    "    for target_idx in tqdm(range(target.shape[1])):  # Assuming target is a 2D array\n",
    "        current_target = target[:, target_idx]\n",
    "        \n",
    "        # Extract layer representations using TensorFlow\n",
    "        for layer in layers:\n",
    "            layer_path = os.path.join(model_encoding_dir, layer)\n",
    "            for model_name in models:\n",
    "                model_path = os.path.join(layer_path, model_name)\n",
    "                layer_representation = np.vstack(load_pickle(model_path))                \n",
    "\n",
    "                # Initialize KFold\n",
    "                cv = KFold(n_splits=n_splits, shuffle=True, random_state=random_seed)\n",
    "\n",
    "                # Flatten the representation if necessary\n",
    "                X = layer_representation.reshape(layer_representation.shape[0], -1)\n",
    "\n",
    "                # Separate data into train and test sets\n",
    "                # Assuming X_train, X_test, y_train, y_test are predefined\n",
    "                X_train, X_test = X[train_idx], X[test_idx]\n",
    "                y_train, y_test = current_target[train_idx], current_target[test_idx]\n",
    "\n",
    "                # Initialize RidgeCV model\n",
    "                ridge = RidgeCV(alphas=alphas)\n",
    "\n",
    "                # Fit the model on the training set\n",
    "                ridge.fit(X_train, y_train)\n",
    "\n",
    "                # Predict on the test set\n",
    "                y_test_pred = ridge.predict(X_test)\n",
    "\n",
    "                # Calculate the Pearson correlation for test set\n",
    "                test_score = pearsonr(y_test, y_test_pred)[0]\n",
    "\n",
    "                # Store results for this target\n",
    "                all_model_results.append({\n",
    "                    'target': ratings_of_interest[target_idx],\n",
    "                    'test_score': test_score,\n",
    "                    'layer': layer,\n",
    "                    'model_name': model_name\n",
    "                })\n",
    "\n",
    "                # Memory cleanup\n",
    "                gc.collect()\n",
    "\n",
    "\n",
    "    return pd.DataFrame(all_model_results)\n"
   ],
   "id": "c7c41580df21f249",
   "outputs": [],
   "execution_count": 9
  },
  {
   "metadata": {
    "ExecuteTime": {
     "end_time": "2024-08-29T16:58:46.860348Z",
     "start_time": "2024-08-29T16:58:46.846397Z"
    }
   },
   "cell_type": "code",
   "source": [
    "target = ratings_df_sorted[ratings_of_interest].values\n",
    "layer_representations_dirs = []\n",
    "for layer in layer_selection:\n",
    "    layer_encoding_dir = os.path.join(model_encoding_dir, layer)\n",
    "    layer_representations_dirs += [i for i in os.listdir(layer_encoding_dir)]\n",
    "len(layer_representations_dirs)"
   ],
   "id": "a50274f83af8f007",
   "outputs": [
    {
     "data": {
      "text/plain": [
       "40"
      ]
     },
     "execution_count": 10,
     "metadata": {},
     "output_type": "execute_result"
    }
   ],
   "execution_count": 10
  },
  {
   "metadata": {
    "ExecuteTime": {
     "end_time": "2024-08-29T16:59:05.993047Z",
     "start_time": "2024-08-29T16:58:46.862343Z"
    }
   },
   "cell_type": "code",
   "source": [
    "ridge_results = ridge_regression_benchmarking(target, layer_selection, layer_representations_dirs)\n",
    "ridge_results"
   ],
   "id": "7da7933c1615f86f",
   "outputs": [
    {
     "name": "stderr",
     "output_type": "stream",
     "text": [
      "100%|██████████| 8/8 [00:19<00:00,  2.39s/it]\n"
     ]
    },
    {
     "data": {
      "text/plain": [
       "      target  test_score        layer  \\\n",
       "0    expanse    0.209396  final_state   \n",
       "1    expanse   -0.075206  final_state   \n",
       "2    expanse    0.081387  final_state   \n",
       "3    expanse    0.186729  final_state   \n",
       "4    expanse    0.172835  final_state   \n",
       "..       ...         ...          ...   \n",
       "315  arousal    0.080869  final_state   \n",
       "316  arousal    0.159613  final_state   \n",
       "317  arousal   -0.020127  final_state   \n",
       "318  arousal   -0.226989  final_state   \n",
       "319  arousal   -0.041194  final_state   \n",
       "\n",
       "                                            model_name  \n",
       "0    GazeDataset_Jun1523_traintest14Jun23_2_0_CueBa...  \n",
       "1    GazeDataset_Jun1523_traintest14Jun23_2_1_CueBa...  \n",
       "2    GazeDataset_Jun1523_traintest14Jun23_2_2_CueBa...  \n",
       "3    GazeDataset_Jun1523_traintest14Jun23_2_3_CueBa...  \n",
       "4    GazeDataset_Jun1523_traintest14Jun23_2_4_CueBa...  \n",
       "..                                                 ...  \n",
       "315  GazeDataset_Jun1523_traintest5Jun23_5_5_CueBas...  \n",
       "316  GazeDataset_Jun1523_traintest5Jun23_5_6_CueBas...  \n",
       "317  GazeDataset_Jun1523_traintest5Jun23_5_7_CueBas...  \n",
       "318  GazeDataset_Jun1523_traintest5Jun23_5_8_CueBas...  \n",
       "319  GazeDataset_Jun1523_traintest5Jun23_5_9_CueBas...  \n",
       "\n",
       "[320 rows x 4 columns]"
      ],
      "text/html": [
       "<div>\n",
       "<style scoped>\n",
       "    .dataframe tbody tr th:only-of-type {\n",
       "        vertical-align: middle;\n",
       "    }\n",
       "\n",
       "    .dataframe tbody tr th {\n",
       "        vertical-align: top;\n",
       "    }\n",
       "\n",
       "    .dataframe thead th {\n",
       "        text-align: right;\n",
       "    }\n",
       "</style>\n",
       "<table border=\"1\" class=\"dataframe\">\n",
       "  <thead>\n",
       "    <tr style=\"text-align: right;\">\n",
       "      <th></th>\n",
       "      <th>target</th>\n",
       "      <th>test_score</th>\n",
       "      <th>layer</th>\n",
       "      <th>model_name</th>\n",
       "    </tr>\n",
       "  </thead>\n",
       "  <tbody>\n",
       "    <tr>\n",
       "      <th>0</th>\n",
       "      <td>expanse</td>\n",
       "      <td>0.209396</td>\n",
       "      <td>final_state</td>\n",
       "      <td>GazeDataset_Jun1523_traintest14Jun23_2_0_CueBa...</td>\n",
       "    </tr>\n",
       "    <tr>\n",
       "      <th>1</th>\n",
       "      <td>expanse</td>\n",
       "      <td>-0.075206</td>\n",
       "      <td>final_state</td>\n",
       "      <td>GazeDataset_Jun1523_traintest14Jun23_2_1_CueBa...</td>\n",
       "    </tr>\n",
       "    <tr>\n",
       "      <th>2</th>\n",
       "      <td>expanse</td>\n",
       "      <td>0.081387</td>\n",
       "      <td>final_state</td>\n",
       "      <td>GazeDataset_Jun1523_traintest14Jun23_2_2_CueBa...</td>\n",
       "    </tr>\n",
       "    <tr>\n",
       "      <th>3</th>\n",
       "      <td>expanse</td>\n",
       "      <td>0.186729</td>\n",
       "      <td>final_state</td>\n",
       "      <td>GazeDataset_Jun1523_traintest14Jun23_2_3_CueBa...</td>\n",
       "    </tr>\n",
       "    <tr>\n",
       "      <th>4</th>\n",
       "      <td>expanse</td>\n",
       "      <td>0.172835</td>\n",
       "      <td>final_state</td>\n",
       "      <td>GazeDataset_Jun1523_traintest14Jun23_2_4_CueBa...</td>\n",
       "    </tr>\n",
       "    <tr>\n",
       "      <th>...</th>\n",
       "      <td>...</td>\n",
       "      <td>...</td>\n",
       "      <td>...</td>\n",
       "      <td>...</td>\n",
       "    </tr>\n",
       "    <tr>\n",
       "      <th>315</th>\n",
       "      <td>arousal</td>\n",
       "      <td>0.080869</td>\n",
       "      <td>final_state</td>\n",
       "      <td>GazeDataset_Jun1523_traintest5Jun23_5_5_CueBas...</td>\n",
       "    </tr>\n",
       "    <tr>\n",
       "      <th>316</th>\n",
       "      <td>arousal</td>\n",
       "      <td>0.159613</td>\n",
       "      <td>final_state</td>\n",
       "      <td>GazeDataset_Jun1523_traintest5Jun23_5_6_CueBas...</td>\n",
       "    </tr>\n",
       "    <tr>\n",
       "      <th>317</th>\n",
       "      <td>arousal</td>\n",
       "      <td>-0.020127</td>\n",
       "      <td>final_state</td>\n",
       "      <td>GazeDataset_Jun1523_traintest5Jun23_5_7_CueBas...</td>\n",
       "    </tr>\n",
       "    <tr>\n",
       "      <th>318</th>\n",
       "      <td>arousal</td>\n",
       "      <td>-0.226989</td>\n",
       "      <td>final_state</td>\n",
       "      <td>GazeDataset_Jun1523_traintest5Jun23_5_8_CueBas...</td>\n",
       "    </tr>\n",
       "    <tr>\n",
       "      <th>319</th>\n",
       "      <td>arousal</td>\n",
       "      <td>-0.041194</td>\n",
       "      <td>final_state</td>\n",
       "      <td>GazeDataset_Jun1523_traintest5Jun23_5_9_CueBas...</td>\n",
       "    </tr>\n",
       "  </tbody>\n",
       "</table>\n",
       "<p>320 rows × 4 columns</p>\n",
       "</div>"
      ]
     },
     "execution_count": 11,
     "metadata": {},
     "output_type": "execute_result"
    }
   ],
   "execution_count": 11
  },
  {
   "metadata": {
    "ExecuteTime": {
     "end_time": "2024-08-29T16:59:06.007995Z",
     "start_time": "2024-08-29T16:59:05.995039Z"
    }
   },
   "cell_type": "code",
   "source": [
    "x_labels = ['spatial expanse', 'object directed', 'interagent distance', 'agents facing', 'communicating', 'acting jointly', 'valence', 'arousal']\n",
    "\n",
    "\n",
    "# Assuming 'results_df' is the DataFrame returned by ridge_regression_benchmarking function\n",
    "def plot_mapping_results(results_df, title):\n",
    "    plt.figure(figsize=(10, 6))\n",
    "    \n",
    "    \n",
    "    # Plot each target's test score as a scatter plot\n",
    "    sns.stripplot(x='target', y='test_score', data=results_df, jitter=True, dodge=True)\n",
    "    \n",
    "    # Plot median bars\n",
    "    # sns.pointplot(data = results_df, x=\"target\", y=\"test_score\", linestyles='none', estimator=np.median, color='red', markers='_', errorbar=None, dodge=0.4,markeredgewid)\n",
    "\n",
    "    \n",
    "    plt.title('Test Scores by Target Rating')\n",
    "    plt.xlabel('Target Rating')\n",
    "    plt.ylabel('Test Score (r)')\n",
    "    plt.ylim(-0.25, 1)\n",
    "    plt.xticks(ticks=range(len(x_labels)), labels=x_labels, rotation = 20)\n",
    "    plt.grid(False)\n",
    "    plt.savefig(f'result_figures/behavioral_encoding/{title}.png')\n",
    "    plt.show()"
   ],
   "id": "1cc29b3dc28e2349",
   "outputs": [],
   "execution_count": 12
  },
  {
   "metadata": {
    "ExecuteTime": {
     "end_time": "2024-08-29T16:59:06.595657Z",
     "start_time": "2024-08-29T16:59:06.009988Z"
    }
   },
   "cell_type": "code",
   "source": "plot_mapping_results(ridge_results, f'ridge-{model_selection}-{\"-\".join(layer_selection)}')",
   "id": "96cc0265482585f9",
   "outputs": [
    {
     "data": {
      "text/plain": [
       "<Figure size 1000x600 with 1 Axes>"
      ],
      "image/png": "[encoded data removed]"
     },
     "metadata": {},
     "output_type": "display_data"
    }
   ],
   "execution_count": 13
  },
  {
   "metadata": {
    "ExecuteTime": {
     "end_time": "2024-08-29T16:59:06.610607Z",
     "start_time": "2024-08-29T16:59:06.600640Z"
    }
   },
   "cell_type": "code",
   "source": [
    "def linear_regression_benchmarking(target, layers, models):\n",
    "    all_model_results = []\n",
    "    \n",
    "    # Iterate over each target rating separately\n",
    "    for target_idx in tqdm(range(target.shape[1])):  # Assuming target is a 2D array\n",
    "        current_target = target[:, target_idx]\n",
    "        \n",
    "        # Extract layer representations using TensorFlow\n",
    "        for layer in layers:\n",
    "            layer_path = os.path.join(model_encoding_dir, layer)\n",
    "            for model_name in models:\n",
    "                model_path = os.path.join(layer_path, model_name)\n",
    "                layer_representation = np.vstack(load_pickle(model_path))\n",
    "        \n",
    "                # Flatten the representation if necessary\n",
    "                X = layer_representation.reshape(layer_representation.shape[0], -1)\n",
    "                    \n",
    "                # Define train and test splits \n",
    "                X_train, X_test = X[train_idx], X[test_idx]\n",
    "                y_train, y_test = current_target[train_idx], current_target[test_idx]\n",
    "        \n",
    "                # Initialize LinearRegression model\n",
    "                lin_reg = LinearRegression()\n",
    "                \n",
    "                # Fit the model on the training set\n",
    "                lin_reg.fit(X_train, y_train)\n",
    "                \n",
    "                # Predict on the test set\n",
    "                y_test_pred = lin_reg.predict(X_test)\n",
    "                \n",
    "                # Calculate the Pearson correlation for test set\n",
    "                test_score = pearsonr(y_test, y_test_pred)[0]\n",
    "                        \n",
    "                # Store results for this target\n",
    "                all_model_results.append({\n",
    "                    'target': ratings_of_interest[target_idx],\n",
    "                    'test_score': test_score,\n",
    "                    'layer': layer,\n",
    "                    'model_name': model_name\n",
    "                })\n",
    "                \n",
    "                # Memory cleanup\n",
    "                gc.collect()\n",
    "\n",
    "    return pd.DataFrame(all_model_results)"
   ],
   "id": "b263287b2de6b2c1",
   "outputs": [],
   "execution_count": 14
  },
  {
   "metadata": {
    "ExecuteTime": {
     "end_time": "2024-08-29T16:59:25.087213Z",
     "start_time": "2024-08-29T16:59:06.612600Z"
    }
   },
   "cell_type": "code",
   "source": [
    "linear_results = linear_regression_benchmarking(target, layer_selection, layer_representations_dirs)\n",
    "linear_results"
   ],
   "id": "21396ef835cec58c",
   "outputs": [
    {
     "name": "stderr",
     "output_type": "stream",
     "text": [
      "100%|██████████| 8/8 [00:18<00:00,  2.31s/it]\n"
     ]
    },
    {
     "data": {
      "text/plain": [
       "      target  test_score        layer  \\\n",
       "0    expanse    0.205981  final_state   \n",
       "1    expanse    0.029640  final_state   \n",
       "2    expanse    0.096339  final_state   \n",
       "3    expanse    0.241287  final_state   \n",
       "4    expanse    0.178699  final_state   \n",
       "..       ...         ...          ...   \n",
       "315  arousal    0.120037  final_state   \n",
       "316  arousal    0.151399  final_state   \n",
       "317  arousal   -0.020696  final_state   \n",
       "318  arousal    0.093551  final_state   \n",
       "319  arousal   -0.040534  final_state   \n",
       "\n",
       "                                            model_name  \n",
       "0    GazeDataset_Jun1523_traintest14Jun23_2_0_CueBa...  \n",
       "1    GazeDataset_Jun1523_traintest14Jun23_2_1_CueBa...  \n",
       "2    GazeDataset_Jun1523_traintest14Jun23_2_2_CueBa...  \n",
       "3    GazeDataset_Jun1523_traintest14Jun23_2_3_CueBa...  \n",
       "4    GazeDataset_Jun1523_traintest14Jun23_2_4_CueBa...  \n",
       "..                                                 ...  \n",
       "315  GazeDataset_Jun1523_traintest5Jun23_5_5_CueBas...  \n",
       "316  GazeDataset_Jun1523_traintest5Jun23_5_6_CueBas...  \n",
       "317  GazeDataset_Jun1523_traintest5Jun23_5_7_CueBas...  \n",
       "318  GazeDataset_Jun1523_traintest5Jun23_5_8_CueBas...  \n",
       "319  GazeDataset_Jun1523_traintest5Jun23_5_9_CueBas...  \n",
       "\n",
       "[320 rows x 4 columns]"
      ],
      "text/html": [
       "<div>\n",
       "<style scoped>\n",
       "    .dataframe tbody tr th:only-of-type {\n",
       "        vertical-align: middle;\n",
       "    }\n",
       "\n",
       "    .dataframe tbody tr th {\n",
       "        vertical-align: top;\n",
       "    }\n",
       "\n",
       "    .dataframe thead th {\n",
       "        text-align: right;\n",
       "    }\n",
       "</style>\n",
       "<table border=\"1\" class=\"dataframe\">\n",
       "  <thead>\n",
       "    <tr style=\"text-align: right;\">\n",
       "      <th></th>\n",
       "      <th>target</th>\n",
       "      <th>test_score</th>\n",
       "      <th>layer</th>\n",
       "      <th>model_name</th>\n",
       "    </tr>\n",
       "  </thead>\n",
       "  <tbody>\n",
       "    <tr>\n",
       "      <th>0</th>\n",
       "      <td>expanse</td>\n",
       "      <td>0.205981</td>\n",
       "      <td>final_state</td>\n",
       "      <td>GazeDataset_Jun1523_traintest14Jun23_2_0_CueBa...</td>\n",
       "    </tr>\n",
       "    <tr>\n",
       "      <th>1</th>\n",
       "      <td>expanse</td>\n",
       "      <td>0.029640</td>\n",
       "      <td>final_state</td>\n",
       "      <td>GazeDataset_Jun1523_traintest14Jun23_2_1_CueBa...</td>\n",
       "    </tr>\n",
       "    <tr>\n",
       "      <th>2</th>\n",
       "      <td>expanse</td>\n",
       "      <td>0.096339</td>\n",
       "      <td>final_state</td>\n",
       "      <td>GazeDataset_Jun1523_traintest14Jun23_2_2_CueBa...</td>\n",
       "    </tr>\n",
       "    <tr>\n",
       "      <th>3</th>\n",
       "      <td>expanse</td>\n",
       "      <td>0.241287</td>\n",
       "      <td>final_state</td>\n",
       "      <td>GazeDataset_Jun1523_traintest14Jun23_2_3_CueBa...</td>\n",
       "    </tr>\n",
       "    <tr>\n",
       "      <th>4</th>\n",
       "      <td>expanse</td>\n",
       "      <td>0.178699</td>\n",
       "      <td>final_state</td>\n",
       "      <td>GazeDataset_Jun1523_traintest14Jun23_2_4_CueBa...</td>\n",
       "    </tr>\n",
       "    <tr>\n",
       "      <th>...</th>\n",
       "      <td>...</td>\n",
       "      <td>...</td>\n",
       "      <td>...</td>\n",
       "      <td>...</td>\n",
       "    </tr>\n",
       "    <tr>\n",
       "      <th>315</th>\n",
       "      <td>arousal</td>\n",
       "      <td>0.120037</td>\n",
       "      <td>final_state</td>\n",
       "      <td>GazeDataset_Jun1523_traintest5Jun23_5_5_CueBas...</td>\n",
       "    </tr>\n",
       "    <tr>\n",
       "      <th>316</th>\n",
       "      <td>arousal</td>\n",
       "      <td>0.151399</td>\n",
       "      <td>final_state</td>\n",
       "      <td>GazeDataset_Jun1523_traintest5Jun23_5_6_CueBas...</td>\n",
       "    </tr>\n",
       "    <tr>\n",
       "      <th>317</th>\n",
       "      <td>arousal</td>\n",
       "      <td>-0.020696</td>\n",
       "      <td>final_state</td>\n",
       "      <td>GazeDataset_Jun1523_traintest5Jun23_5_7_CueBas...</td>\n",
       "    </tr>\n",
       "    <tr>\n",
       "      <th>318</th>\n",
       "      <td>arousal</td>\n",
       "      <td>0.093551</td>\n",
       "      <td>final_state</td>\n",
       "      <td>GazeDataset_Jun1523_traintest5Jun23_5_8_CueBas...</td>\n",
       "    </tr>\n",
       "    <tr>\n",
       "      <th>319</th>\n",
       "      <td>arousal</td>\n",
       "      <td>-0.040534</td>\n",
       "      <td>final_state</td>\n",
       "      <td>GazeDataset_Jun1523_traintest5Jun23_5_9_CueBas...</td>\n",
       "    </tr>\n",
       "  </tbody>\n",
       "</table>\n",
       "<p>320 rows × 4 columns</p>\n",
       "</div>"
      ]
     },
     "execution_count": 15,
     "metadata": {},
     "output_type": "execute_result"
    }
   ],
   "execution_count": 15
  },
  {
   "metadata": {
    "ExecuteTime": {
     "end_time": "2024-08-29T16:59:25.569336Z",
     "start_time": "2024-08-29T16:59:25.089207Z"
    }
   },
   "cell_type": "code",
   "source": "plot_mapping_results(linear_results, f'linear-{model_selection}-{\"-\".join(layer_selection)}')",
   "id": "d4dfbbde2d83d648",
   "outputs": [
    {
     "data": {
      "text/plain": [
       "<Figure size 1000x600 with 1 Axes>"
      ],
      "image/png": "[encoded data removed]"
     },
     "metadata": {},
     "output_type": "display_data"
    }
   ],
   "execution_count": 16
  },
  {
   "metadata": {
    "ExecuteTime": {
     "end_time": "2024-08-29T16:59:25.585293Z",
     "start_time": "2024-08-29T16:59:25.571327Z"
    }
   },
   "cell_type": "code",
   "source": "",
   "id": "efc5789e030c24d1",
   "outputs": [],
   "execution_count": 16
  }
 ],
 "metadata": {
  "kernelspec": {
   "display_name": "Python 3",
   "language": "python",
   "name": "python3"
  },
  "language_info": {
   "codemirror_mode": {
    "name": "ipython",
    "version": 2
   },
   "file_extension": ".py",
   "mimetype": "text/x-python",
   "name": "python",
   "nbconvert_exporter": "python",
   "pygments_lexer": "ipython2",
   "version": "2.7.6"
  }
 },
 "nbformat": 4,
 "nbformat_minor": 5
}
