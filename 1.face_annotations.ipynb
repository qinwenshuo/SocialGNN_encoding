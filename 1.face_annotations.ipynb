{
 "cells": [
  {
   "metadata": {
    "ExecuteTime": {
     "end_time": "2024-08-22T14:49:23.421042Z",
     "start_time": "2024-08-22T14:49:21.964009Z"
    }
   },
   "cell_type": "code",
   "source": [
    "import json\n",
    "import numpy as np\n",
    "import pandas as pd\n",
    "from tqdm import tqdm"
   ],
   "id": "f0b265af11ec11b2",
   "outputs": [],
   "execution_count": 1
  },
  {
   "metadata": {
    "ExecuteTime": {
     "end_time": "2024-08-22T14:49:23.429392Z",
     "start_time": "2024-08-22T14:49:23.423926Z"
    }
   },
   "cell_type": "code",
   "source": [
    "in_file = \"Data/preprocess/VideoAnnotations.ndjson\"\n",
    "out_file = \"Data/preprocess/annotations.csv\""
   ],
   "id": "c6ecd88937986036",
   "outputs": [],
   "execution_count": 2
  },
  {
   "cell_type": "code",
   "id": "initial_id",
   "metadata": {
    "collapsed": true,
    "ExecuteTime": {
     "end_time": "2024-08-22T14:49:24.260815Z",
     "start_time": "2024-08-22T14:49:23.432092Z"
    }
   },
   "source": [
    "with open(in_file, 'r') as f:\n",
    "    all_video_data = [json.loads(line) for line in f]"
   ],
   "outputs": [],
   "execution_count": 3
  },
  {
   "metadata": {
    "ExecuteTime": {
     "end_time": "2024-08-22T14:49:24.268299Z",
     "start_time": "2024-08-22T14:49:24.262320Z"
    }
   },
   "cell_type": "code",
   "source": [
    "def rename_gaze(direction):\n",
    "    if direction in [\"person_1\", \"face_1\"]:     return 'head1'\n",
    "    elif direction in [\"person_2\", \"face_2\"]:   return 'head2'\n",
    "    elif direction == 'object_1':               return 'object1'\n",
    "    elif direction == 'object_2':               return 'object2'\n",
    "    else: return direction"
   ],
   "id": "710d11fec017c5ec",
   "outputs": [],
   "execution_count": 4
  },
  {
   "metadata": {
    "ExecuteTime": {
     "end_time": "2024-08-22T14:49:24.592026Z",
     "start_time": "2024-08-22T14:49:24.270806Z"
    }
   },
   "cell_type": "code",
   "source": [
    "bounding_box_data = []\n",
    "\n",
    "for each_video in tqdm(all_video_data):\n",
    "    video_name = each_video['data_row']['external_id']\n",
    "    all_labels = each_video['projects']['clit3zloh00k4071d6x1lc5ej']['labels']\n",
    "    if all_labels:\n",
    "        all_frames = all_labels[0]['annotations']['frames']\n",
    "        face1_gaze_direction = None\n",
    "        face2_gaze_direction = None\n",
    "        ## there are 90 frames per video\n",
    "        for frame_id in [str(i) for i in range(1, 91)]:\n",
    "            frame = all_frames[frame_id]\n",
    "            gazes = frame['classifications']\n",
    "            for gaze in gazes:\n",
    "                if gaze['name'] == 'face1_gaze_direction':\n",
    "                    face1_gaze_direction = rename_gaze(gaze['radio_answer']['value'])\n",
    "                if gaze['name'] == 'face2_gaze_direction':\n",
    "                    face2_gaze_direction = rename_gaze(gaze['radio_answer']['value'])\n",
    "            ## loop through each label in a single frame\n",
    "            for annotation_id in frame['objects'].keys():\n",
    "                label_name = frame['objects'][annotation_id]['name']\n",
    "                if label_name not in ['face1', 'face2']:\n",
    "                    bounding_box = frame['objects'][annotation_id]['bounding_box']\n",
    "                    top = int(bounding_box['top'])\n",
    "                    left = int(bounding_box['left'])\n",
    "                    height = int(bounding_box['height'])\n",
    "                    width = int(bounding_box['width'])\n",
    "                    bottom = top + height\n",
    "                    right = left + width\n",
    "                    center = np.array((left + (width/2), top + (height/2)))\n",
    "                    \n",
    "                    gaze_direction = None\n",
    "                    if label_name == 'head1': gaze_direction = f\"head1, {face1_gaze_direction}\"\n",
    "                    elif label_name == 'head2': gaze_direction = f\"head2, {face2_gaze_direction}\"\n",
    "                        \n",
    "                        \n",
    "                    \n",
    "                    frame_data = {'video_name': video_name,\n",
    "                                  'frame': frame_id,\n",
    "                                  'label_name': label_name,\n",
    "                                  'left': left,\n",
    "                                  'top' : top,\n",
    "                                  'right': right,\n",
    "                                  'bottom': bottom,\n",
    "                                  'height': height, 'width': width,\n",
    "                                  'x_center': center[0],\n",
    "                                  'y_center': center[1],\n",
    "                                  'gaze_direction': gaze_direction\n",
    "                                  }\n",
    "                    if not gaze_direction and (label_name in ['head1','head2']):\n",
    "                        raise ValueError(f'gaze direction is None, {frame_data}')\n",
    "                    \n",
    "                    bounding_box_data.append(frame_data)"
   ],
   "id": "d0625c2f4260f643",
   "outputs": [
    {
     "name": "stderr",
     "output_type": "stream",
     "text": [
      "100%|██████████| 250/250 [00:00<00:00, 884.70it/s] \n"
     ]
    }
   ],
   "execution_count": 5
  },
  {
   "metadata": {
    "ExecuteTime": {
     "end_time": "2024-08-22T14:49:24.611152Z",
     "start_time": "2024-08-22T14:49:24.595543Z"
    }
   },
   "cell_type": "code",
   "source": "bounding_box_data[-1]",
   "id": "e591967809ceba54",
   "outputs": [
    {
     "data": {
      "text/plain": [
       "{'video_name': 'yt-k6Ildfvd4wA_76.mp4',\n",
       " 'frame': '90',\n",
       " 'label_name': 'head2',\n",
       " 'left': 363,\n",
       " 'top': 5,\n",
       " 'right': 500,\n",
       " 'bottom': 262,\n",
       " 'height': 257,\n",
       " 'width': 137,\n",
       " 'x_center': 431.5,\n",
       " 'y_center': 133.5,\n",
       " 'gaze_direction': 'head2, head1'}"
      ]
     },
     "execution_count": 6,
     "metadata": {},
     "output_type": "execute_result"
    }
   ],
   "execution_count": 6
  },
  {
   "metadata": {
    "ExecuteTime": {
     "end_time": "2024-08-22T14:49:24.820513Z",
     "start_time": "2024-08-22T14:49:24.612164Z"
    }
   },
   "cell_type": "code",
   "source": [
    "df = pd.DataFrame(bounding_box_data)\n",
    "df"
   ],
   "id": "cb569c259ffe83cb",
   "outputs": [
    {
     "data": {
      "text/plain": [
       "                  video_name frame label_name  left  top  right  bottom  \\\n",
       "0         -YwZOeyAQC8_15.mp4     1      head1     0  101     94     228   \n",
       "1         -YwZOeyAQC8_15.mp4     1      head2    86  211    155     286   \n",
       "2         -YwZOeyAQC8_15.mp4     1    object1   189  279    243     327   \n",
       "3         -YwZOeyAQC8_15.mp4     2      head1     0  101     93     225   \n",
       "4         -YwZOeyAQC8_15.mp4     2      head2    86  211    154     285   \n",
       "...                      ...   ...        ...   ...  ...    ...     ...   \n",
       "59879  yt-k6Ildfvd4wA_76.mp4    88      head2   363    5    500     262   \n",
       "59880  yt-k6Ildfvd4wA_76.mp4    89      head1     0   68     68     290   \n",
       "59881  yt-k6Ildfvd4wA_76.mp4    89      head2   363    5    500     262   \n",
       "59882  yt-k6Ildfvd4wA_76.mp4    90      head1     0   68     68     290   \n",
       "59883  yt-k6Ildfvd4wA_76.mp4    90      head2   363    5    500     262   \n",
       "\n",
       "       height  width  x_center  y_center  gaze_direction  \n",
       "0         127     94      47.0     164.5  head1, neither  \n",
       "1          75     69     120.5     248.5  head2, object1  \n",
       "2          48     54     216.0     303.0            None  \n",
       "3         124     93      46.5     163.0  head1, neither  \n",
       "4          74     68     120.0     248.0  head2, object1  \n",
       "...       ...    ...       ...       ...             ...  \n",
       "59879     257    137     431.5     133.5    head2, head1  \n",
       "59880     222     68      34.0     179.0    head1, head2  \n",
       "59881     257    137     431.5     133.5    head2, head1  \n",
       "59882     222     68      34.0     179.0    head1, head2  \n",
       "59883     257    137     431.5     133.5    head2, head1  \n",
       "\n",
       "[59884 rows x 12 columns]"
      ],
      "text/html": [
       "<div>\n",
       "<style scoped>\n",
       "    .dataframe tbody tr th:only-of-type {\n",
       "        vertical-align: middle;\n",
       "    }\n",
       "\n",
       "    .dataframe tbody tr th {\n",
       "        vertical-align: top;\n",
       "    }\n",
       "\n",
       "    .dataframe thead th {\n",
       "        text-align: right;\n",
       "    }\n",
       "</style>\n",
       "<table border=\"1\" class=\"dataframe\">\n",
       "  <thead>\n",
       "    <tr style=\"text-align: right;\">\n",
       "      <th></th>\n",
       "      <th>video_name</th>\n",
       "      <th>frame</th>\n",
       "      <th>label_name</th>\n",
       "      <th>left</th>\n",
       "      <th>top</th>\n",
       "      <th>right</th>\n",
       "      <th>bottom</th>\n",
       "      <th>height</th>\n",
       "      <th>width</th>\n",
       "      <th>x_center</th>\n",
       "      <th>y_center</th>\n",
       "      <th>gaze_direction</th>\n",
       "    </tr>\n",
       "  </thead>\n",
       "  <tbody>\n",
       "    <tr>\n",
       "      <th>0</th>\n",
       "      <td>-YwZOeyAQC8_15.mp4</td>\n",
       "      <td>1</td>\n",
       "      <td>head1</td>\n",
       "      <td>0</td>\n",
       "      <td>101</td>\n",
       "      <td>94</td>\n",
       "      <td>228</td>\n",
       "      <td>127</td>\n",
       "      <td>94</td>\n",
       "      <td>47.0</td>\n",
       "      <td>164.5</td>\n",
       "      <td>head1, neither</td>\n",
       "    </tr>\n",
       "    <tr>\n",
       "      <th>1</th>\n",
       "      <td>-YwZOeyAQC8_15.mp4</td>\n",
       "      <td>1</td>\n",
       "      <td>head2</td>\n",
       "      <td>86</td>\n",
       "      <td>211</td>\n",
       "      <td>155</td>\n",
       "      <td>286</td>\n",
       "      <td>75</td>\n",
       "      <td>69</td>\n",
       "      <td>120.5</td>\n",
       "      <td>248.5</td>\n",
       "      <td>head2, object1</td>\n",
       "    </tr>\n",
       "    <tr>\n",
       "      <th>2</th>\n",
       "      <td>-YwZOeyAQC8_15.mp4</td>\n",
       "      <td>1</td>\n",
       "      <td>object1</td>\n",
       "      <td>189</td>\n",
       "      <td>279</td>\n",
       "      <td>243</td>\n",
       "      <td>327</td>\n",
       "      <td>48</td>\n",
       "      <td>54</td>\n",
       "      <td>216.0</td>\n",
       "      <td>303.0</td>\n",
       "      <td>None</td>\n",
       "    </tr>\n",
       "    <tr>\n",
       "      <th>3</th>\n",
       "      <td>-YwZOeyAQC8_15.mp4</td>\n",
       "      <td>2</td>\n",
       "      <td>head1</td>\n",
       "      <td>0</td>\n",
       "      <td>101</td>\n",
       "      <td>93</td>\n",
       "      <td>225</td>\n",
       "      <td>124</td>\n",
       "      <td>93</td>\n",
       "      <td>46.5</td>\n",
       "      <td>163.0</td>\n",
       "      <td>head1, neither</td>\n",
       "    </tr>\n",
       "    <tr>\n",
       "      <th>4</th>\n",
       "      <td>-YwZOeyAQC8_15.mp4</td>\n",
       "      <td>2</td>\n",
       "      <td>head2</td>\n",
       "      <td>86</td>\n",
       "      <td>211</td>\n",
       "      <td>154</td>\n",
       "      <td>285</td>\n",
       "      <td>74</td>\n",
       "      <td>68</td>\n",
       "      <td>120.0</td>\n",
       "      <td>248.0</td>\n",
       "      <td>head2, object1</td>\n",
       "    </tr>\n",
       "    <tr>\n",
       "      <th>...</th>\n",
       "      <td>...</td>\n",
       "      <td>...</td>\n",
       "      <td>...</td>\n",
       "      <td>...</td>\n",
       "      <td>...</td>\n",
       "      <td>...</td>\n",
       "      <td>...</td>\n",
       "      <td>...</td>\n",
       "      <td>...</td>\n",
       "      <td>...</td>\n",
       "      <td>...</td>\n",
       "      <td>...</td>\n",
       "    </tr>\n",
       "    <tr>\n",
       "      <th>59879</th>\n",
       "      <td>yt-k6Ildfvd4wA_76.mp4</td>\n",
       "      <td>88</td>\n",
       "      <td>head2</td>\n",
       "      <td>363</td>\n",
       "      <td>5</td>\n",
       "      <td>500</td>\n",
       "      <td>262</td>\n",
       "      <td>257</td>\n",
       "      <td>137</td>\n",
       "      <td>431.5</td>\n",
       "      <td>133.5</td>\n",
       "      <td>head2, head1</td>\n",
       "    </tr>\n",
       "    <tr>\n",
       "      <th>59880</th>\n",
       "      <td>yt-k6Ildfvd4wA_76.mp4</td>\n",
       "      <td>89</td>\n",
       "      <td>head1</td>\n",
       "      <td>0</td>\n",
       "      <td>68</td>\n",
       "      <td>68</td>\n",
       "      <td>290</td>\n",
       "      <td>222</td>\n",
       "      <td>68</td>\n",
       "      <td>34.0</td>\n",
       "      <td>179.0</td>\n",
       "      <td>head1, head2</td>\n",
       "    </tr>\n",
       "    <tr>\n",
       "      <th>59881</th>\n",
       "      <td>yt-k6Ildfvd4wA_76.mp4</td>\n",
       "      <td>89</td>\n",
       "      <td>head2</td>\n",
       "      <td>363</td>\n",
       "      <td>5</td>\n",
       "      <td>500</td>\n",
       "      <td>262</td>\n",
       "      <td>257</td>\n",
       "      <td>137</td>\n",
       "      <td>431.5</td>\n",
       "      <td>133.5</td>\n",
       "      <td>head2, head1</td>\n",
       "    </tr>\n",
       "    <tr>\n",
       "      <th>59882</th>\n",
       "      <td>yt-k6Ildfvd4wA_76.mp4</td>\n",
       "      <td>90</td>\n",
       "      <td>head1</td>\n",
       "      <td>0</td>\n",
       "      <td>68</td>\n",
       "      <td>68</td>\n",
       "      <td>290</td>\n",
       "      <td>222</td>\n",
       "      <td>68</td>\n",
       "      <td>34.0</td>\n",
       "      <td>179.0</td>\n",
       "      <td>head1, head2</td>\n",
       "    </tr>\n",
       "    <tr>\n",
       "      <th>59883</th>\n",
       "      <td>yt-k6Ildfvd4wA_76.mp4</td>\n",
       "      <td>90</td>\n",
       "      <td>head2</td>\n",
       "      <td>363</td>\n",
       "      <td>5</td>\n",
       "      <td>500</td>\n",
       "      <td>262</td>\n",
       "      <td>257</td>\n",
       "      <td>137</td>\n",
       "      <td>431.5</td>\n",
       "      <td>133.5</td>\n",
       "      <td>head2, head1</td>\n",
       "    </tr>\n",
       "  </tbody>\n",
       "</table>\n",
       "<p>59884 rows × 12 columns</p>\n",
       "</div>"
      ]
     },
     "execution_count": 7,
     "metadata": {},
     "output_type": "execute_result"
    }
   ],
   "execution_count": 7
  },
  {
   "metadata": {
    "ExecuteTime": {
     "end_time": "2024-08-22T14:49:25.104106Z",
     "start_time": "2024-08-22T14:49:24.820513Z"
    }
   },
   "cell_type": "code",
   "source": "df.to_csv(out_file, index=False)",
   "id": "5dad6dd8ccad1783",
   "outputs": [],
   "execution_count": 8
  },
  {
   "metadata": {
    "ExecuteTime": {
     "end_time": "2024-08-22T14:49:25.108250Z",
     "start_time": "2024-08-22T14:49:25.104106Z"
    }
   },
   "cell_type": "code",
   "source": "",
   "id": "375cc97a13a7ecb6",
   "outputs": [],
   "execution_count": 8
  }
 ],
 "metadata": {
  "kernelspec": {
   "display_name": "Python 3",
   "language": "python",
   "name": "python3"
  },
  "language_info": {
   "codemirror_mode": {
    "name": "ipython",
    "version": 2
   },
   "file_extension": ".py",
   "mimetype": "text/x-python",
   "name": "python",
   "nbconvert_exporter": "python",
   "pygments_lexer": "ipython2",
   "version": "2.7.6"
  }
 },
 "nbformat": 4,
 "nbformat_minor": 5
}
