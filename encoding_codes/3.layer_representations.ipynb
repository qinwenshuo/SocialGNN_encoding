{
 "cells": [
  {
   "metadata": {},
   "cell_type": "markdown",
   "source": [
    " Use tf115-cpu conda environment\n",
    " \n",
    "Remeber to regenerate the structured_graph for different PC"
   ],
   "id": "244d559f73ae0ecc"
  },
  {
   "metadata": {},
   "cell_type": "markdown",
   "source": "## Preparation",
   "id": "546fdcaeaba737a2"
  },
  {
   "cell_type": "code",
   "id": "initial_id",
   "metadata": {
    "collapsed": true,
    "ExecuteTime": {
     "end_time": "2024-10-09T19:29:16.755304Z",
     "start_time": "2024-10-09T19:29:11.247172Z"
    }
   },
   "source": [
    "from model_functions.GNN_model_functions import SocialGNN, get_inputs_outputs\n",
    "from model_functions.RNN_model_functions import CueBasedLSTM\n",
    "\n",
    "from collections import namedtuple\n",
    "import pickle\n",
    "import os \n",
    "\n",
    "from tqdm import tqdm"
   ],
   "outputs": [],
   "execution_count": 1
  },
  {
   "metadata": {
    "ExecuteTime": {
     "end_time": "2024-10-09T19:29:16.783117Z",
     "start_time": "2024-10-09T19:29:16.773768Z"
    }
   },
   "cell_type": "code",
   "source": "data_input_dir = '../Data/preprocess/structured_graph'",
   "id": "1de610bee2dde0d9",
   "outputs": [],
   "execution_count": 2
  },
  {
   "metadata": {
    "ExecuteTime": {
     "end_time": "2024-10-09T19:29:16.923479Z",
     "start_time": "2024-10-09T19:29:16.908963Z"
    }
   },
   "cell_type": "code",
   "source": [
    "def load_pickle(path):\n",
    "    with open(path, 'rb') as f:\n",
    "        pickled = pickle.load(f)\n",
    "    return pickled\n",
    "\n",
    "def save_pickle(obj, path):\n",
    "    with open(path, 'wb') as f:\n",
    "        pickle.dump(obj, f)"
   ],
   "id": "a425aeb710fef69b",
   "outputs": [],
   "execution_count": 3
  },
  {
   "metadata": {
    "ExecuteTime": {
     "end_time": "2024-10-09T19:29:17.461719Z",
     "start_time": "2024-10-09T19:29:16.942687Z"
    }
   },
   "cell_type": "code",
   "source": "videos = load_pickle(data_input_dir)",
   "id": "d601c58f3ece0ef6",
   "outputs": [],
   "execution_count": 4
  },
  {
   "metadata": {
    "ExecuteTime": {
     "end_time": "2024-10-09T19:29:17.494179Z",
     "start_time": "2024-10-09T19:29:17.477713Z"
    }
   },
   "cell_type": "code",
   "source": [
    "def load_model(model_selection, output_dim, feature_size = None):    \n",
    "    if model_selection == 'SocialGNN_V':\n",
    "        model_config = namedtuple('model_config', 'NUM_NODES NUM_AGENTS V_SPATIAL_SIZE E_SPATIAL_SIZE V_TEMPORAL_SIZE V_OUTPUT_SIZE BATCH_SIZE CLASS_WEIGHTS LEARNING_RATE LAMBDA')\n",
    "        if output_dim == 2:\n",
    "            config = model_config(NUM_NODES = 5, NUM_AGENTS = 5, V_SPATIAL_SIZE = 12, E_SPATIAL_SIZE = 12, V_TEMPORAL_SIZE = 6, V_OUTPUT_SIZE = 2, BATCH_SIZE = 20, CLASS_WEIGHTS = [1.0, 1.5], LEARNING_RATE = 0.001, LAMBDA = 0.01)\n",
    "        elif output_dim == 5:\n",
    "            config = model_config(NUM_NODES = 5, NUM_AGENTS = 5, V_SPATIAL_SIZE = 12, E_SPATIAL_SIZE = 12, V_TEMPORAL_SIZE = 6, V_OUTPUT_SIZE = 5, BATCH_SIZE = 20, CLASS_WEIGHTS = [5.69, 4.42, 1.85, 1.66, 1.0], LEARNING_RATE = 0.001, LAMBDA = 0.01)\n",
    "        sample_graph_dicts_list, video_timesteps, _ = get_inputs_outputs(videos)\n",
    "        model = SocialGNN(videos, config, sample_graph_dicts_list)\n",
    "    \n",
    "    elif model_selection == 'CueBasedLSTM' or model_selection == 'CueBasedLSTM-Relation':\n",
    "        if feature_size == None:\n",
    "            feature_size = (pc+5)*5 if model_selection == 'CueBasedLSTM' else (pc+5)*5+20\n",
    "        use_edge = False if model_selection == 'CueBasedLSTM' else True\n",
    "        model_config = namedtuple('model_config', 'FEATURE_SIZE V_TEMPORAL_SIZE V_OUTPUT_SIZE BATCH_SIZE CLASS_WEIGHTS LEARNING_RATE LAMBDA')\n",
    "        if output_dim == 2:\n",
    "            config = model_config(FEATURE_SIZE = feature_size, V_TEMPORAL_SIZE = 6, V_OUTPUT_SIZE = 2, BATCH_SIZE = 20, CLASS_WEIGHTS = [1.0, 1.5], LEARNING_RATE = 0.001, LAMBDA = 0.01)\n",
    "        elif output_dim == 5:\n",
    "            config = model_config(FEATURE_SIZE = feature_size, V_TEMPORAL_SIZE = 6, V_OUTPUT_SIZE = 5, BATCH_SIZE = 20, CLASS_WEIGHTS = [5.69, 4.42, 1.85, 1.66, 1.0], LEARNING_RATE = 0.001, LAMBDA = 0.01)\n",
    "        model = CueBasedLSTM(videos, config, explicit_edges=use_edge)\n",
    "    else:\n",
    "        raise NotImplementedError\n",
    "    return model"
   ],
   "id": "24ca004a7ca953a9",
   "outputs": [],
   "execution_count": 5
  },
  {
   "metadata": {
    "ExecuteTime": {
     "end_time": "2024-10-09T19:29:17.523153Z",
     "start_time": "2024-10-09T19:29:17.509479Z"
    }
   },
   "cell_type": "code",
   "source": [
    "def save_layer_representations(paths, feature_size = None):\n",
    "    for model_selection, input_model_paths in paths.items():\n",
    "        if input_model_paths:\n",
    "            print(f'Processing {model_selection}')\n",
    "            model = load_model(model_selection, output_size, feature_size=feature_size)\n",
    "            for input_path, output_path in tqdm(input_model_paths):\n",
    "                model.load_model(input_path)\n",
    "                layer_representations = model.get_layer_representations()\n",
    "                for layer in layer_representations:\n",
    "                    output_layer_path = os.path.join(output_path, f'{layer}.pkl')\n",
    "                    save_pickle(layer_representations[layer], output_layer_path)"
   ],
   "id": "832548a4dd3bb547",
   "outputs": [],
   "execution_count": 6
  },
  {
   "metadata": {},
   "cell_type": "markdown",
   "source": "## get representations",
   "id": "bc5e1a52c63d717c"
  },
  {
   "metadata": {
    "ExecuteTime": {
     "end_time": "2024-10-09T20:34:18.842022Z",
     "start_time": "2024-10-09T20:34:18.813422Z"
    }
   },
   "cell_type": "code",
   "source": "pc = 90",
   "id": "9ada3e776e6adbd",
   "outputs": [],
   "execution_count": 20
  },
  {
   "metadata": {
    "ExecuteTime": {
     "end_time": "2024-10-09T19:29:17.579940Z",
     "start_time": "2024-10-09T19:29:17.563800Z"
    }
   },
   "cell_type": "code",
   "source": [
    "def print_paths(paths):\n",
    "    print('These are the input models:')\n",
    "    for key, value in paths.items():\n",
    "        print(f'{len(value)} {key} models')\n",
    "        for i in value:\n",
    "            print(f'input: {i[0]}')\n",
    "            print(f'output: {i[1]}')"
   ],
   "id": "9798c74cd163ce4a",
   "outputs": [],
   "execution_count": 8
  },
  {
   "metadata": {
    "ExecuteTime": {
     "end_time": "2024-10-09T19:29:17.624694Z",
     "start_time": "2024-10-09T19:29:17.592613Z"
    }
   },
   "cell_type": "code",
   "source": [
    "## Original Models\n",
    "output_size = 2\n",
    "model_dir = f'../retrained_models'\n",
    "output_dir = f'../layer_representations'\n",
    "paths = {\n",
    "    'CueBasedLSTM': [], \n",
    "    'SocialGNN_V': [], \n",
    "    'CueBasedLSTM-Relation': []\n",
    "}\n",
    "\n",
    "for option in paths.keys():\n",
    "    input_model_class_path = os.path.join(model_dir, f'PC{pc}', option)\n",
    "    output_model_class_path = os.path.join(output_dir, f'PC{pc}', option)\n",
    "    for parameter in os.listdir(input_model_class_path):\n",
    "        input_model_path = os.path.join(input_model_class_path, parameter)\n",
    "        output_model_path = os.path.join(output_model_class_path, parameter)\n",
    "        os.makedirs(output_model_path, exist_ok=True)\n",
    "        paths[option].append([input_model_path, output_model_path])\n",
    "\n",
    "print_paths(paths)\n"
   ],
   "id": "a2a79138e3c90acf",
   "outputs": [
    {
     "name": "stdout",
     "output_type": "stream",
     "text": [
      "These are the input models:\n",
      "20 CueBasedLSTM models\n",
      "input: ../retrained_models\\PC20\\CueBasedLSTM\\2_14Jun_0_CueBasedLSTM_125_6_2_20_1.0_1.5_0.001_0.01\n",
      "output: ../layer_representations\\PC20\\CueBasedLSTM\\2_14Jun_0_CueBasedLSTM_125_6_2_20_1.0_1.5_0.001_0.01\n",
      "input: ../retrained_models\\PC20\\CueBasedLSTM\\2_14Jun_1_CueBasedLSTM_125_6_2_20_1.0_1.5_0.001_0.01\n",
      "output: ../layer_representations\\PC20\\CueBasedLSTM\\2_14Jun_1_CueBasedLSTM_125_6_2_20_1.0_1.5_0.001_0.01\n",
      "input: ../retrained_models\\PC20\\CueBasedLSTM\\2_14Jun_2_CueBasedLSTM_125_6_2_20_1.0_1.5_0.001_0.01\n",
      "output: ../layer_representations\\PC20\\CueBasedLSTM\\2_14Jun_2_CueBasedLSTM_125_6_2_20_1.0_1.5_0.001_0.01\n",
      "input: ../retrained_models\\PC20\\CueBasedLSTM\\2_14Jun_3_CueBasedLSTM_125_6_2_20_1.0_1.5_0.001_0.01\n",
      "output: ../layer_representations\\PC20\\CueBasedLSTM\\2_14Jun_3_CueBasedLSTM_125_6_2_20_1.0_1.5_0.001_0.01\n",
      "input: ../retrained_models\\PC20\\CueBasedLSTM\\2_14Jun_4_CueBasedLSTM_125_6_2_20_1.0_1.5_0.001_0.01\n",
      "output: ../layer_representations\\PC20\\CueBasedLSTM\\2_14Jun_4_CueBasedLSTM_125_6_2_20_1.0_1.5_0.001_0.01\n",
      "input: ../retrained_models\\PC20\\CueBasedLSTM\\2_14Jun_5_CueBasedLSTM_125_6_2_20_1.0_1.5_0.001_0.01\n",
      "output: ../layer_representations\\PC20\\CueBasedLSTM\\2_14Jun_5_CueBasedLSTM_125_6_2_20_1.0_1.5_0.001_0.01\n",
      "input: ../retrained_models\\PC20\\CueBasedLSTM\\2_14Jun_6_CueBasedLSTM_125_6_2_20_1.0_1.5_0.001_0.01\n",
      "output: ../layer_representations\\PC20\\CueBasedLSTM\\2_14Jun_6_CueBasedLSTM_125_6_2_20_1.0_1.5_0.001_0.01\n",
      "input: ../retrained_models\\PC20\\CueBasedLSTM\\2_14Jun_7_CueBasedLSTM_125_6_2_20_1.0_1.5_0.001_0.01\n",
      "output: ../layer_representations\\PC20\\CueBasedLSTM\\2_14Jun_7_CueBasedLSTM_125_6_2_20_1.0_1.5_0.001_0.01\n",
      "input: ../retrained_models\\PC20\\CueBasedLSTM\\2_14Jun_8_CueBasedLSTM_125_6_2_20_1.0_1.5_0.001_0.01\n",
      "output: ../layer_representations\\PC20\\CueBasedLSTM\\2_14Jun_8_CueBasedLSTM_125_6_2_20_1.0_1.5_0.001_0.01\n",
      "input: ../retrained_models\\PC20\\CueBasedLSTM\\2_14Jun_9_CueBasedLSTM_125_6_2_20_1.0_1.5_0.001_0.01\n",
      "output: ../layer_representations\\PC20\\CueBasedLSTM\\2_14Jun_9_CueBasedLSTM_125_6_2_20_1.0_1.5_0.001_0.01\n",
      "input: ../retrained_models\\PC20\\CueBasedLSTM\\2_5Jun_0_CueBasedLSTM_125_6_2_20_1.0_1.5_0.001_0.01\n",
      "output: ../layer_representations\\PC20\\CueBasedLSTM\\2_5Jun_0_CueBasedLSTM_125_6_2_20_1.0_1.5_0.001_0.01\n",
      "input: ../retrained_models\\PC20\\CueBasedLSTM\\2_5Jun_1_CueBasedLSTM_125_6_2_20_1.0_1.5_0.001_0.01\n",
      "output: ../layer_representations\\PC20\\CueBasedLSTM\\2_5Jun_1_CueBasedLSTM_125_6_2_20_1.0_1.5_0.001_0.01\n",
      "input: ../retrained_models\\PC20\\CueBasedLSTM\\2_5Jun_2_CueBasedLSTM_125_6_2_20_1.0_1.5_0.001_0.01\n",
      "output: ../layer_representations\\PC20\\CueBasedLSTM\\2_5Jun_2_CueBasedLSTM_125_6_2_20_1.0_1.5_0.001_0.01\n",
      "input: ../retrained_models\\PC20\\CueBasedLSTM\\2_5Jun_3_CueBasedLSTM_125_6_2_20_1.0_1.5_0.001_0.01\n",
      "output: ../layer_representations\\PC20\\CueBasedLSTM\\2_5Jun_3_CueBasedLSTM_125_6_2_20_1.0_1.5_0.001_0.01\n",
      "input: ../retrained_models\\PC20\\CueBasedLSTM\\2_5Jun_4_CueBasedLSTM_125_6_2_20_1.0_1.5_0.001_0.01\n",
      "output: ../layer_representations\\PC20\\CueBasedLSTM\\2_5Jun_4_CueBasedLSTM_125_6_2_20_1.0_1.5_0.001_0.01\n",
      "input: ../retrained_models\\PC20\\CueBasedLSTM\\2_5Jun_5_CueBasedLSTM_125_6_2_20_1.0_1.5_0.001_0.01\n",
      "output: ../layer_representations\\PC20\\CueBasedLSTM\\2_5Jun_5_CueBasedLSTM_125_6_2_20_1.0_1.5_0.001_0.01\n",
      "input: ../retrained_models\\PC20\\CueBasedLSTM\\2_5Jun_6_CueBasedLSTM_125_6_2_20_1.0_1.5_0.001_0.01\n",
      "output: ../layer_representations\\PC20\\CueBasedLSTM\\2_5Jun_6_CueBasedLSTM_125_6_2_20_1.0_1.5_0.001_0.01\n",
      "input: ../retrained_models\\PC20\\CueBasedLSTM\\2_5Jun_7_CueBasedLSTM_125_6_2_20_1.0_1.5_0.001_0.01\n",
      "output: ../layer_representations\\PC20\\CueBasedLSTM\\2_5Jun_7_CueBasedLSTM_125_6_2_20_1.0_1.5_0.001_0.01\n",
      "input: ../retrained_models\\PC20\\CueBasedLSTM\\2_5Jun_8_CueBasedLSTM_125_6_2_20_1.0_1.5_0.001_0.01\n",
      "output: ../layer_representations\\PC20\\CueBasedLSTM\\2_5Jun_8_CueBasedLSTM_125_6_2_20_1.0_1.5_0.001_0.01\n",
      "input: ../retrained_models\\PC20\\CueBasedLSTM\\2_5Jun_9_CueBasedLSTM_125_6_2_20_1.0_1.5_0.001_0.01\n",
      "output: ../layer_representations\\PC20\\CueBasedLSTM\\2_5Jun_9_CueBasedLSTM_125_6_2_20_1.0_1.5_0.001_0.01\n",
      "20 SocialGNN_V models\n",
      "input: ../retrained_models\\PC20\\SocialGNN_V\\2_14Jun_0_SocialGNN_V_5_5_12_12_6_2_20_1.0_1.5_0.001_0.01\n",
      "output: ../layer_representations\\PC20\\SocialGNN_V\\2_14Jun_0_SocialGNN_V_5_5_12_12_6_2_20_1.0_1.5_0.001_0.01\n",
      "input: ../retrained_models\\PC20\\SocialGNN_V\\2_14Jun_1_SocialGNN_V_5_5_12_12_6_2_20_1.0_1.5_0.001_0.01\n",
      "output: ../layer_representations\\PC20\\SocialGNN_V\\2_14Jun_1_SocialGNN_V_5_5_12_12_6_2_20_1.0_1.5_0.001_0.01\n",
      "input: ../retrained_models\\PC20\\SocialGNN_V\\2_14Jun_2_SocialGNN_V_5_5_12_12_6_2_20_1.0_1.5_0.001_0.01\n",
      "output: ../layer_representations\\PC20\\SocialGNN_V\\2_14Jun_2_SocialGNN_V_5_5_12_12_6_2_20_1.0_1.5_0.001_0.01\n",
      "input: ../retrained_models\\PC20\\SocialGNN_V\\2_14Jun_3_SocialGNN_V_5_5_12_12_6_2_20_1.0_1.5_0.001_0.01\n",
      "output: ../layer_representations\\PC20\\SocialGNN_V\\2_14Jun_3_SocialGNN_V_5_5_12_12_6_2_20_1.0_1.5_0.001_0.01\n",
      "input: ../retrained_models\\PC20\\SocialGNN_V\\2_14Jun_4_SocialGNN_V_5_5_12_12_6_2_20_1.0_1.5_0.001_0.01\n",
      "output: ../layer_representations\\PC20\\SocialGNN_V\\2_14Jun_4_SocialGNN_V_5_5_12_12_6_2_20_1.0_1.5_0.001_0.01\n",
      "input: ../retrained_models\\PC20\\SocialGNN_V\\2_14Jun_5_SocialGNN_V_5_5_12_12_6_2_20_1.0_1.5_0.001_0.01\n",
      "output: ../layer_representations\\PC20\\SocialGNN_V\\2_14Jun_5_SocialGNN_V_5_5_12_12_6_2_20_1.0_1.5_0.001_0.01\n",
      "input: ../retrained_models\\PC20\\SocialGNN_V\\2_14Jun_6_SocialGNN_V_5_5_12_12_6_2_20_1.0_1.5_0.001_0.01\n",
      "output: ../layer_representations\\PC20\\SocialGNN_V\\2_14Jun_6_SocialGNN_V_5_5_12_12_6_2_20_1.0_1.5_0.001_0.01\n",
      "input: ../retrained_models\\PC20\\SocialGNN_V\\2_14Jun_7_SocialGNN_V_5_5_12_12_6_2_20_1.0_1.5_0.001_0.01\n",
      "output: ../layer_representations\\PC20\\SocialGNN_V\\2_14Jun_7_SocialGNN_V_5_5_12_12_6_2_20_1.0_1.5_0.001_0.01\n",
      "input: ../retrained_models\\PC20\\SocialGNN_V\\2_14Jun_8_SocialGNN_V_5_5_12_12_6_2_20_1.0_1.5_0.001_0.01\n",
      "output: ../layer_representations\\PC20\\SocialGNN_V\\2_14Jun_8_SocialGNN_V_5_5_12_12_6_2_20_1.0_1.5_0.001_0.01\n",
      "input: ../retrained_models\\PC20\\SocialGNN_V\\2_14Jun_9_SocialGNN_V_5_5_12_12_6_2_20_1.0_1.5_0.001_0.01\n",
      "output: ../layer_representations\\PC20\\SocialGNN_V\\2_14Jun_9_SocialGNN_V_5_5_12_12_6_2_20_1.0_1.5_0.001_0.01\n",
      "input: ../retrained_models\\PC20\\SocialGNN_V\\2_5Jun_0_SocialGNN_V_5_5_12_12_6_2_20_1.0_1.5_0.001_0.01\n",
      "output: ../layer_representations\\PC20\\SocialGNN_V\\2_5Jun_0_SocialGNN_V_5_5_12_12_6_2_20_1.0_1.5_0.001_0.01\n",
      "input: ../retrained_models\\PC20\\SocialGNN_V\\2_5Jun_1_SocialGNN_V_5_5_12_12_6_2_20_1.0_1.5_0.001_0.01\n",
      "output: ../layer_representations\\PC20\\SocialGNN_V\\2_5Jun_1_SocialGNN_V_5_5_12_12_6_2_20_1.0_1.5_0.001_0.01\n",
      "input: ../retrained_models\\PC20\\SocialGNN_V\\2_5Jun_2_SocialGNN_V_5_5_12_12_6_2_20_1.0_1.5_0.001_0.01\n",
      "output: ../layer_representations\\PC20\\SocialGNN_V\\2_5Jun_2_SocialGNN_V_5_5_12_12_6_2_20_1.0_1.5_0.001_0.01\n",
      "input: ../retrained_models\\PC20\\SocialGNN_V\\2_5Jun_3_SocialGNN_V_5_5_12_12_6_2_20_1.0_1.5_0.001_0.01\n",
      "output: ../layer_representations\\PC20\\SocialGNN_V\\2_5Jun_3_SocialGNN_V_5_5_12_12_6_2_20_1.0_1.5_0.001_0.01\n",
      "input: ../retrained_models\\PC20\\SocialGNN_V\\2_5Jun_4_SocialGNN_V_5_5_12_12_6_2_20_1.0_1.5_0.001_0.01\n",
      "output: ../layer_representations\\PC20\\SocialGNN_V\\2_5Jun_4_SocialGNN_V_5_5_12_12_6_2_20_1.0_1.5_0.001_0.01\n",
      "input: ../retrained_models\\PC20\\SocialGNN_V\\2_5Jun_5_SocialGNN_V_5_5_12_12_6_2_20_1.0_1.5_0.001_0.01\n",
      "output: ../layer_representations\\PC20\\SocialGNN_V\\2_5Jun_5_SocialGNN_V_5_5_12_12_6_2_20_1.0_1.5_0.001_0.01\n",
      "input: ../retrained_models\\PC20\\SocialGNN_V\\2_5Jun_6_SocialGNN_V_5_5_12_12_6_2_20_1.0_1.5_0.001_0.01\n",
      "output: ../layer_representations\\PC20\\SocialGNN_V\\2_5Jun_6_SocialGNN_V_5_5_12_12_6_2_20_1.0_1.5_0.001_0.01\n",
      "input: ../retrained_models\\PC20\\SocialGNN_V\\2_5Jun_7_SocialGNN_V_5_5_12_12_6_2_20_1.0_1.5_0.001_0.01\n",
      "output: ../layer_representations\\PC20\\SocialGNN_V\\2_5Jun_7_SocialGNN_V_5_5_12_12_6_2_20_1.0_1.5_0.001_0.01\n",
      "input: ../retrained_models\\PC20\\SocialGNN_V\\2_5Jun_8_SocialGNN_V_5_5_12_12_6_2_20_1.0_1.5_0.001_0.01\n",
      "output: ../layer_representations\\PC20\\SocialGNN_V\\2_5Jun_8_SocialGNN_V_5_5_12_12_6_2_20_1.0_1.5_0.001_0.01\n",
      "input: ../retrained_models\\PC20\\SocialGNN_V\\2_5Jun_9_SocialGNN_V_5_5_12_12_6_2_20_1.0_1.5_0.001_0.01\n",
      "output: ../layer_representations\\PC20\\SocialGNN_V\\2_5Jun_9_SocialGNN_V_5_5_12_12_6_2_20_1.0_1.5_0.001_0.01\n",
      "20 CueBasedLSTM-Relation models\n",
      "input: ../retrained_models\\PC20\\CueBasedLSTM-Relation\\2_14Jun_0_CueBasedLSTM-Relation_145_6_2_20_1.0_1.5_0.001_0.01\n",
      "output: ../layer_representations\\PC20\\CueBasedLSTM-Relation\\2_14Jun_0_CueBasedLSTM-Relation_145_6_2_20_1.0_1.5_0.001_0.01\n",
      "input: ../retrained_models\\PC20\\CueBasedLSTM-Relation\\2_14Jun_1_CueBasedLSTM-Relation_145_6_2_20_1.0_1.5_0.001_0.01\n",
      "output: ../layer_representations\\PC20\\CueBasedLSTM-Relation\\2_14Jun_1_CueBasedLSTM-Relation_145_6_2_20_1.0_1.5_0.001_0.01\n",
      "input: ../retrained_models\\PC20\\CueBasedLSTM-Relation\\2_14Jun_2_CueBasedLSTM-Relation_145_6_2_20_1.0_1.5_0.001_0.01\n",
      "output: ../layer_representations\\PC20\\CueBasedLSTM-Relation\\2_14Jun_2_CueBasedLSTM-Relation_145_6_2_20_1.0_1.5_0.001_0.01\n",
      "input: ../retrained_models\\PC20\\CueBasedLSTM-Relation\\2_14Jun_3_CueBasedLSTM-Relation_145_6_2_20_1.0_1.5_0.001_0.01\n",
      "output: ../layer_representations\\PC20\\CueBasedLSTM-Relation\\2_14Jun_3_CueBasedLSTM-Relation_145_6_2_20_1.0_1.5_0.001_0.01\n",
      "input: ../retrained_models\\PC20\\CueBasedLSTM-Relation\\2_14Jun_4_CueBasedLSTM-Relation_145_6_2_20_1.0_1.5_0.001_0.01\n",
      "output: ../layer_representations\\PC20\\CueBasedLSTM-Relation\\2_14Jun_4_CueBasedLSTM-Relation_145_6_2_20_1.0_1.5_0.001_0.01\n",
      "input: ../retrained_models\\PC20\\CueBasedLSTM-Relation\\2_14Jun_5_CueBasedLSTM-Relation_145_6_2_20_1.0_1.5_0.001_0.01\n",
      "output: ../layer_representations\\PC20\\CueBasedLSTM-Relation\\2_14Jun_5_CueBasedLSTM-Relation_145_6_2_20_1.0_1.5_0.001_0.01\n",
      "input: ../retrained_models\\PC20\\CueBasedLSTM-Relation\\2_14Jun_6_CueBasedLSTM-Relation_145_6_2_20_1.0_1.5_0.001_0.01\n",
      "output: ../layer_representations\\PC20\\CueBasedLSTM-Relation\\2_14Jun_6_CueBasedLSTM-Relation_145_6_2_20_1.0_1.5_0.001_0.01\n",
      "input: ../retrained_models\\PC20\\CueBasedLSTM-Relation\\2_14Jun_7_CueBasedLSTM-Relation_145_6_2_20_1.0_1.5_0.001_0.01\n",
      "output: ../layer_representations\\PC20\\CueBasedLSTM-Relation\\2_14Jun_7_CueBasedLSTM-Relation_145_6_2_20_1.0_1.5_0.001_0.01\n",
      "input: ../retrained_models\\PC20\\CueBasedLSTM-Relation\\2_14Jun_8_CueBasedLSTM-Relation_145_6_2_20_1.0_1.5_0.001_0.01\n",
      "output: ../layer_representations\\PC20\\CueBasedLSTM-Relation\\2_14Jun_8_CueBasedLSTM-Relation_145_6_2_20_1.0_1.5_0.001_0.01\n",
      "input: ../retrained_models\\PC20\\CueBasedLSTM-Relation\\2_14Jun_9_CueBasedLSTM-Relation_145_6_2_20_1.0_1.5_0.001_0.01\n",
      "output: ../layer_representations\\PC20\\CueBasedLSTM-Relation\\2_14Jun_9_CueBasedLSTM-Relation_145_6_2_20_1.0_1.5_0.001_0.01\n",
      "input: ../retrained_models\\PC20\\CueBasedLSTM-Relation\\2_5Jun_0_CueBasedLSTM-Relation_145_6_2_20_1.0_1.5_0.001_0.01\n",
      "output: ../layer_representations\\PC20\\CueBasedLSTM-Relation\\2_5Jun_0_CueBasedLSTM-Relation_145_6_2_20_1.0_1.5_0.001_0.01\n",
      "input: ../retrained_models\\PC20\\CueBasedLSTM-Relation\\2_5Jun_1_CueBasedLSTM-Relation_145_6_2_20_1.0_1.5_0.001_0.01\n",
      "output: ../layer_representations\\PC20\\CueBasedLSTM-Relation\\2_5Jun_1_CueBasedLSTM-Relation_145_6_2_20_1.0_1.5_0.001_0.01\n",
      "input: ../retrained_models\\PC20\\CueBasedLSTM-Relation\\2_5Jun_2_CueBasedLSTM-Relation_145_6_2_20_1.0_1.5_0.001_0.01\n",
      "output: ../layer_representations\\PC20\\CueBasedLSTM-Relation\\2_5Jun_2_CueBasedLSTM-Relation_145_6_2_20_1.0_1.5_0.001_0.01\n",
      "input: ../retrained_models\\PC20\\CueBasedLSTM-Relation\\2_5Jun_3_CueBasedLSTM-Relation_145_6_2_20_1.0_1.5_0.001_0.01\n",
      "output: ../layer_representations\\PC20\\CueBasedLSTM-Relation\\2_5Jun_3_CueBasedLSTM-Relation_145_6_2_20_1.0_1.5_0.001_0.01\n",
      "input: ../retrained_models\\PC20\\CueBasedLSTM-Relation\\2_5Jun_4_CueBasedLSTM-Relation_145_6_2_20_1.0_1.5_0.001_0.01\n",
      "output: ../layer_representations\\PC20\\CueBasedLSTM-Relation\\2_5Jun_4_CueBasedLSTM-Relation_145_6_2_20_1.0_1.5_0.001_0.01\n",
      "input: ../retrained_models\\PC20\\CueBasedLSTM-Relation\\2_5Jun_5_CueBasedLSTM-Relation_145_6_2_20_1.0_1.5_0.001_0.01\n",
      "output: ../layer_representations\\PC20\\CueBasedLSTM-Relation\\2_5Jun_5_CueBasedLSTM-Relation_145_6_2_20_1.0_1.5_0.001_0.01\n",
      "input: ../retrained_models\\PC20\\CueBasedLSTM-Relation\\2_5Jun_6_CueBasedLSTM-Relation_145_6_2_20_1.0_1.5_0.001_0.01\n",
      "output: ../layer_representations\\PC20\\CueBasedLSTM-Relation\\2_5Jun_6_CueBasedLSTM-Relation_145_6_2_20_1.0_1.5_0.001_0.01\n",
      "input: ../retrained_models\\PC20\\CueBasedLSTM-Relation\\2_5Jun_7_CueBasedLSTM-Relation_145_6_2_20_1.0_1.5_0.001_0.01\n",
      "output: ../layer_representations\\PC20\\CueBasedLSTM-Relation\\2_5Jun_7_CueBasedLSTM-Relation_145_6_2_20_1.0_1.5_0.001_0.01\n",
      "input: ../retrained_models\\PC20\\CueBasedLSTM-Relation\\2_5Jun_8_CueBasedLSTM-Relation_145_6_2_20_1.0_1.5_0.001_0.01\n",
      "output: ../layer_representations\\PC20\\CueBasedLSTM-Relation\\2_5Jun_8_CueBasedLSTM-Relation_145_6_2_20_1.0_1.5_0.001_0.01\n",
      "input: ../retrained_models\\PC20\\CueBasedLSTM-Relation\\2_5Jun_9_CueBasedLSTM-Relation_145_6_2_20_1.0_1.5_0.001_0.01\n",
      "output: ../layer_representations\\PC20\\CueBasedLSTM-Relation\\2_5Jun_9_CueBasedLSTM-Relation_145_6_2_20_1.0_1.5_0.001_0.01\n"
     ]
    }
   ],
   "execution_count": 9
  },
  {
   "metadata": {
    "ExecuteTime": {
     "end_time": "2024-10-09T19:44:35.663948Z",
     "start_time": "2024-10-09T19:29:17.643401Z"
    }
   },
   "cell_type": "code",
   "source": "save_layer_representations(paths)",
   "id": "95334efd7f238f04",
   "outputs": [
    {
     "name": "stdout",
     "output_type": "stream",
     "text": [
      "Processing CueBasedLSTM\n",
      ".............DEFINING INPUT PLACEHOLDERS..............\n",
      "\n",
      ".............BUILDING GRAPH..............\n",
      "\n",
      ".............INITIALIZATION SESSION..............\n"
     ]
    },
    {
     "name": "stderr",
     "output_type": "stream",
     "text": [
      "100%|██████████| 20/20 [00:24<00:00,  1.20s/it]\n"
     ]
    },
    {
     "name": "stdout",
     "output_type": "stream",
     "text": [
      "Processing SocialGNN_V\n",
      ".............DEFINING INPUT PLACEHOLDERS..............\n",
      "\n",
      ".............BUILDING GRAPH..............\n",
      "\n",
      ".............INITIALIZATION SESSION..............\n"
     ]
    },
    {
     "name": "stderr",
     "output_type": "stream",
     "text": [
      "100%|██████████| 20/20 [08:00<00:00, 24.05s/it]\n"
     ]
    },
    {
     "name": "stdout",
     "output_type": "stream",
     "text": [
      "Processing CueBasedLSTM-Relation\n",
      ".............DEFINING INPUT PLACEHOLDERS..............\n",
      "\n",
      ".............BUILDING GRAPH..............\n",
      "\n",
      ".............INITIALIZATION SESSION..............\n"
     ]
    },
    {
     "name": "stderr",
     "output_type": "stream",
     "text": [
      "100%|██████████| 20/20 [01:28<00:00,  4.44s/it]\n"
     ]
    }
   ],
   "execution_count": 10
  },
  {
   "metadata": {},
   "cell_type": "markdown",
   "source": "## ONLY EDGE MODELS",
   "id": "18911a42fb4525b0"
  },
  {
   "metadata": {
    "ExecuteTime": {
     "end_time": "2024-10-09T20:34:22.206974Z",
     "start_time": "2024-10-09T20:34:22.189432Z"
    }
   },
   "cell_type": "code",
   "source": [
    "def construct_paths(f_paths, f_option, f_model_class, f_model_dir, f_output_dir):\n",
    "    f_input_model_class_path = os.path.join(f_model_dir, f_model_class)\n",
    "    f_output_model_class_path = os.path.join(f_output_dir, f_model_class)\n",
    "    for f_parameter in os.listdir(f_input_model_class_path):\n",
    "        f_input_model_path = os.path.join(f_input_model_class_path, f_parameter)\n",
    "        f_output_model_path = os.path.join(f_output_model_class_path, f_parameter)\n",
    "        os.makedirs(f_output_model_path, exist_ok=True)\n",
    "        f_paths[f_option].append([f_input_model_path, f_output_model_path])\n",
    "    return f_paths"
   ],
   "id": "734ab402fa0b9efc",
   "outputs": [],
   "execution_count": 21
  },
  {
   "metadata": {
    "ExecuteTime": {
     "end_time": "2024-10-09T20:34:22.345728Z",
     "start_time": "2024-10-09T20:34:22.326692Z"
    }
   },
   "cell_type": "code",
   "source": [
    "output_size = 2\n",
    "option = 'SocialGNN_V'\n",
    "model_dir = '../retrained_models/only_edge_models'\n",
    "output_dir = f'../layer_representations/only_edge_models/'\n",
    "paths = {'SocialGNN_V': []}"
   ],
   "id": "2757e2095db5107d",
   "outputs": [],
   "execution_count": 22
  },
  {
   "metadata": {
    "ExecuteTime": {
     "end_time": "2024-10-09T20:34:22.501351Z",
     "start_time": "2024-10-09T20:34:22.475652Z"
    }
   },
   "cell_type": "code",
   "source": "",
   "id": "6f4d9c623d740a56",
   "outputs": [],
   "execution_count": null
  },
  {
   "metadata": {
    "jupyter": {
     "is_executing": true
    },
    "ExecuteTime": {
     "end_time": "2024-10-09T20:40:40.146096300Z",
     "start_time": "2024-10-09T20:34:23.375560Z"
    }
   },
   "cell_type": "code",
   "source": [
    "# Randomized GNN\n",
    "model_class = f'SocialGNN_randomize_node_PC{pc}'\n",
    "new_paths = construct_paths(paths, option, model_class, model_dir, output_dir)\n",
    "print_paths(new_paths)\n",
    "\n",
    "import random\n",
    "def randomize_sequence(sequences):\n",
    "    for seq_idx in range(len(sequences)):\n",
    "        for frame_idx in range(len(sequences[seq_idx]['graph_dicts'])):\n",
    "            sequences[seq_idx]['graph_dicts'][frame_idx]['nodes'] =  [[random.uniform(-20, 20) for _ in range(pc+5)] for _ in range(5)]\n",
    "    return sequences\n",
    "\n",
    "videos = randomize_sequence(load_pickle(data_input_dir))\n",
    "save_layer_representations(new_paths)\n"
   ],
   "id": "c47455a5b0365b11",
   "outputs": [
    {
     "name": "stdout",
     "output_type": "stream",
     "text": [
      "These are the input models:\n",
      "20 SocialGNN_V models\n",
      "input: ../retrained_models/only_edge_models\\SocialGNN_randomize_node_PC20\\2_14Jun_0_SocialGNN_V_5_5_12_12_6_2_20_1.0_1.5_0.001_0.01\n",
      "output: ../layer_representations/only_edge_models/SocialGNN_randomize_node_PC20\\2_14Jun_0_SocialGNN_V_5_5_12_12_6_2_20_1.0_1.5_0.001_0.01\n",
      "input: ../retrained_models/only_edge_models\\SocialGNN_randomize_node_PC20\\2_14Jun_1_SocialGNN_V_5_5_12_12_6_2_20_1.0_1.5_0.001_0.01\n",
      "output: ../layer_representations/only_edge_models/SocialGNN_randomize_node_PC20\\2_14Jun_1_SocialGNN_V_5_5_12_12_6_2_20_1.0_1.5_0.001_0.01\n",
      "input: ../retrained_models/only_edge_models\\SocialGNN_randomize_node_PC20\\2_14Jun_2_SocialGNN_V_5_5_12_12_6_2_20_1.0_1.5_0.001_0.01\n",
      "output: ../layer_representations/only_edge_models/SocialGNN_randomize_node_PC20\\2_14Jun_2_SocialGNN_V_5_5_12_12_6_2_20_1.0_1.5_0.001_0.01\n",
      "input: ../retrained_models/only_edge_models\\SocialGNN_randomize_node_PC20\\2_14Jun_3_SocialGNN_V_5_5_12_12_6_2_20_1.0_1.5_0.001_0.01\n",
      "output: ../layer_representations/only_edge_models/SocialGNN_randomize_node_PC20\\2_14Jun_3_SocialGNN_V_5_5_12_12_6_2_20_1.0_1.5_0.001_0.01\n",
      "input: ../retrained_models/only_edge_models\\SocialGNN_randomize_node_PC20\\2_14Jun_4_SocialGNN_V_5_5_12_12_6_2_20_1.0_1.5_0.001_0.01\n",
      "output: ../layer_representations/only_edge_models/SocialGNN_randomize_node_PC20\\2_14Jun_4_SocialGNN_V_5_5_12_12_6_2_20_1.0_1.5_0.001_0.01\n",
      "input: ../retrained_models/only_edge_models\\SocialGNN_randomize_node_PC20\\2_14Jun_5_SocialGNN_V_5_5_12_12_6_2_20_1.0_1.5_0.001_0.01\n",
      "output: ../layer_representations/only_edge_models/SocialGNN_randomize_node_PC20\\2_14Jun_5_SocialGNN_V_5_5_12_12_6_2_20_1.0_1.5_0.001_0.01\n",
      "input: ../retrained_models/only_edge_models\\SocialGNN_randomize_node_PC20\\2_14Jun_6_SocialGNN_V_5_5_12_12_6_2_20_1.0_1.5_0.001_0.01\n",
      "output: ../layer_representations/only_edge_models/SocialGNN_randomize_node_PC20\\2_14Jun_6_SocialGNN_V_5_5_12_12_6_2_20_1.0_1.5_0.001_0.01\n",
      "input: ../retrained_models/only_edge_models\\SocialGNN_randomize_node_PC20\\2_14Jun_7_SocialGNN_V_5_5_12_12_6_2_20_1.0_1.5_0.001_0.01\n",
      "output: ../layer_representations/only_edge_models/SocialGNN_randomize_node_PC20\\2_14Jun_7_SocialGNN_V_5_5_12_12_6_2_20_1.0_1.5_0.001_0.01\n",
      "input: ../retrained_models/only_edge_models\\SocialGNN_randomize_node_PC20\\2_14Jun_8_SocialGNN_V_5_5_12_12_6_2_20_1.0_1.5_0.001_0.01\n",
      "output: ../layer_representations/only_edge_models/SocialGNN_randomize_node_PC20\\2_14Jun_8_SocialGNN_V_5_5_12_12_6_2_20_1.0_1.5_0.001_0.01\n",
      "input: ../retrained_models/only_edge_models\\SocialGNN_randomize_node_PC20\\2_14Jun_9_SocialGNN_V_5_5_12_12_6_2_20_1.0_1.5_0.001_0.01\n",
      "output: ../layer_representations/only_edge_models/SocialGNN_randomize_node_PC20\\2_14Jun_9_SocialGNN_V_5_5_12_12_6_2_20_1.0_1.5_0.001_0.01\n",
      "input: ../retrained_models/only_edge_models\\SocialGNN_randomize_node_PC20\\2_5Jun_0_SocialGNN_V_5_5_12_12_6_2_20_1.0_1.5_0.001_0.01\n",
      "output: ../layer_representations/only_edge_models/SocialGNN_randomize_node_PC20\\2_5Jun_0_SocialGNN_V_5_5_12_12_6_2_20_1.0_1.5_0.001_0.01\n",
      "input: ../retrained_models/only_edge_models\\SocialGNN_randomize_node_PC20\\2_5Jun_1_SocialGNN_V_5_5_12_12_6_2_20_1.0_1.5_0.001_0.01\n",
      "output: ../layer_representations/only_edge_models/SocialGNN_randomize_node_PC20\\2_5Jun_1_SocialGNN_V_5_5_12_12_6_2_20_1.0_1.5_0.001_0.01\n",
      "input: ../retrained_models/only_edge_models\\SocialGNN_randomize_node_PC20\\2_5Jun_2_SocialGNN_V_5_5_12_12_6_2_20_1.0_1.5_0.001_0.01\n",
      "output: ../layer_representations/only_edge_models/SocialGNN_randomize_node_PC20\\2_5Jun_2_SocialGNN_V_5_5_12_12_6_2_20_1.0_1.5_0.001_0.01\n",
      "input: ../retrained_models/only_edge_models\\SocialGNN_randomize_node_PC20\\2_5Jun_3_SocialGNN_V_5_5_12_12_6_2_20_1.0_1.5_0.001_0.01\n",
      "output: ../layer_representations/only_edge_models/SocialGNN_randomize_node_PC20\\2_5Jun_3_SocialGNN_V_5_5_12_12_6_2_20_1.0_1.5_0.001_0.01\n",
      "input: ../retrained_models/only_edge_models\\SocialGNN_randomize_node_PC20\\2_5Jun_4_SocialGNN_V_5_5_12_12_6_2_20_1.0_1.5_0.001_0.01\n",
      "output: ../layer_representations/only_edge_models/SocialGNN_randomize_node_PC20\\2_5Jun_4_SocialGNN_V_5_5_12_12_6_2_20_1.0_1.5_0.001_0.01\n",
      "input: ../retrained_models/only_edge_models\\SocialGNN_randomize_node_PC20\\2_5Jun_5_SocialGNN_V_5_5_12_12_6_2_20_1.0_1.5_0.001_0.01\n",
      "output: ../layer_representations/only_edge_models/SocialGNN_randomize_node_PC20\\2_5Jun_5_SocialGNN_V_5_5_12_12_6_2_20_1.0_1.5_0.001_0.01\n",
      "input: ../retrained_models/only_edge_models\\SocialGNN_randomize_node_PC20\\2_5Jun_6_SocialGNN_V_5_5_12_12_6_2_20_1.0_1.5_0.001_0.01\n",
      "output: ../layer_representations/only_edge_models/SocialGNN_randomize_node_PC20\\2_5Jun_6_SocialGNN_V_5_5_12_12_6_2_20_1.0_1.5_0.001_0.01\n",
      "input: ../retrained_models/only_edge_models\\SocialGNN_randomize_node_PC20\\2_5Jun_7_SocialGNN_V_5_5_12_12_6_2_20_1.0_1.5_0.001_0.01\n",
      "output: ../layer_representations/only_edge_models/SocialGNN_randomize_node_PC20\\2_5Jun_7_SocialGNN_V_5_5_12_12_6_2_20_1.0_1.5_0.001_0.01\n",
      "input: ../retrained_models/only_edge_models\\SocialGNN_randomize_node_PC20\\2_5Jun_8_SocialGNN_V_5_5_12_12_6_2_20_1.0_1.5_0.001_0.01\n",
      "output: ../layer_representations/only_edge_models/SocialGNN_randomize_node_PC20\\2_5Jun_8_SocialGNN_V_5_5_12_12_6_2_20_1.0_1.5_0.001_0.01\n",
      "input: ../retrained_models/only_edge_models\\SocialGNN_randomize_node_PC20\\2_5Jun_9_SocialGNN_V_5_5_12_12_6_2_20_1.0_1.5_0.001_0.01\n",
      "output: ../layer_representations/only_edge_models/SocialGNN_randomize_node_PC20\\2_5Jun_9_SocialGNN_V_5_5_12_12_6_2_20_1.0_1.5_0.001_0.01\n",
      "Processing SocialGNN_V\n",
      ".............DEFINING INPUT PLACEHOLDERS..............\n",
      "\n",
      ".............BUILDING GRAPH..............\n",
      "\n",
      ".............INITIALIZATION SESSION..............\n"
     ]
    },
    {
     "name": "stderr",
     "output_type": "stream",
     "text": [
      " 10%|█         | 2/20 [03:46<33:58, 113.27s/it]"
     ]
    }
   ],
   "execution_count": null
  },
  {
   "metadata": {
    "ExecuteTime": {
     "end_time": "2024-10-09T20:25:41.947489Z",
     "start_time": "2024-10-09T20:05:17.623814Z"
    }
   },
   "cell_type": "code",
   "source": [
    "# Zeroed GNN\n",
    "paths = {'SocialGNN_V': []}\n",
    "model_class = f'SocialGNN_zero_node_PC{pc}'\n",
    "new_paths = construct_paths(paths, option, model_class, model_dir, output_dir)\n",
    "print_paths(new_paths)\n",
    "\n",
    "import random\n",
    "def zero_sequence(sequences):\n",
    "    for seq_idx in range(len(sequences)):\n",
    "        for frame_idx in range(len(sequences[seq_idx]['graph_dicts'])):\n",
    "            sequences[seq_idx]['graph_dicts'][frame_idx]['nodes'] =  [[0.0 for _ in range(pc+5)] for _ in range(5)]\n",
    "    return sequences     \n",
    "\n",
    "videos = zero_sequence(load_pickle(data_input_dir))\n",
    "save_layer_representations(new_paths)\n"
   ],
   "id": "2b78d20a0c58a132",
   "outputs": [
    {
     "name": "stdout",
     "output_type": "stream",
     "text": [
      "These are the input models:\n",
      "20 SocialGNN_V models\n",
      "input: ../retrained_models/only_edge_models\\SocialGNN_zero_node_PC20\\2_14Jun_0_SocialGNN_V_5_5_12_12_6_2_20_1.0_1.5_0.001_0.01\n",
      "output: ../layer_representations/only_edge_models/SocialGNN_zero_node_PC20\\2_14Jun_0_SocialGNN_V_5_5_12_12_6_2_20_1.0_1.5_0.001_0.01\n",
      "input: ../retrained_models/only_edge_models\\SocialGNN_zero_node_PC20\\2_14Jun_1_SocialGNN_V_5_5_12_12_6_2_20_1.0_1.5_0.001_0.01\n",
      "output: ../layer_representations/only_edge_models/SocialGNN_zero_node_PC20\\2_14Jun_1_SocialGNN_V_5_5_12_12_6_2_20_1.0_1.5_0.001_0.01\n",
      "input: ../retrained_models/only_edge_models\\SocialGNN_zero_node_PC20\\2_14Jun_2_SocialGNN_V_5_5_12_12_6_2_20_1.0_1.5_0.001_0.01\n",
      "output: ../layer_representations/only_edge_models/SocialGNN_zero_node_PC20\\2_14Jun_2_SocialGNN_V_5_5_12_12_6_2_20_1.0_1.5_0.001_0.01\n",
      "input: ../retrained_models/only_edge_models\\SocialGNN_zero_node_PC20\\2_14Jun_3_SocialGNN_V_5_5_12_12_6_2_20_1.0_1.5_0.001_0.01\n",
      "output: ../layer_representations/only_edge_models/SocialGNN_zero_node_PC20\\2_14Jun_3_SocialGNN_V_5_5_12_12_6_2_20_1.0_1.5_0.001_0.01\n",
      "input: ../retrained_models/only_edge_models\\SocialGNN_zero_node_PC20\\2_14Jun_4_SocialGNN_V_5_5_12_12_6_2_20_1.0_1.5_0.001_0.01\n",
      "output: ../layer_representations/only_edge_models/SocialGNN_zero_node_PC20\\2_14Jun_4_SocialGNN_V_5_5_12_12_6_2_20_1.0_1.5_0.001_0.01\n",
      "input: ../retrained_models/only_edge_models\\SocialGNN_zero_node_PC20\\2_14Jun_5_SocialGNN_V_5_5_12_12_6_2_20_1.0_1.5_0.001_0.01\n",
      "output: ../layer_representations/only_edge_models/SocialGNN_zero_node_PC20\\2_14Jun_5_SocialGNN_V_5_5_12_12_6_2_20_1.0_1.5_0.001_0.01\n",
      "input: ../retrained_models/only_edge_models\\SocialGNN_zero_node_PC20\\2_14Jun_6_SocialGNN_V_5_5_12_12_6_2_20_1.0_1.5_0.001_0.01\n",
      "output: ../layer_representations/only_edge_models/SocialGNN_zero_node_PC20\\2_14Jun_6_SocialGNN_V_5_5_12_12_6_2_20_1.0_1.5_0.001_0.01\n",
      "input: ../retrained_models/only_edge_models\\SocialGNN_zero_node_PC20\\2_14Jun_7_SocialGNN_V_5_5_12_12_6_2_20_1.0_1.5_0.001_0.01\n",
      "output: ../layer_representations/only_edge_models/SocialGNN_zero_node_PC20\\2_14Jun_7_SocialGNN_V_5_5_12_12_6_2_20_1.0_1.5_0.001_0.01\n",
      "input: ../retrained_models/only_edge_models\\SocialGNN_zero_node_PC20\\2_14Jun_8_SocialGNN_V_5_5_12_12_6_2_20_1.0_1.5_0.001_0.01\n",
      "output: ../layer_representations/only_edge_models/SocialGNN_zero_node_PC20\\2_14Jun_8_SocialGNN_V_5_5_12_12_6_2_20_1.0_1.5_0.001_0.01\n",
      "input: ../retrained_models/only_edge_models\\SocialGNN_zero_node_PC20\\2_14Jun_9_SocialGNN_V_5_5_12_12_6_2_20_1.0_1.5_0.001_0.01\n",
      "output: ../layer_representations/only_edge_models/SocialGNN_zero_node_PC20\\2_14Jun_9_SocialGNN_V_5_5_12_12_6_2_20_1.0_1.5_0.001_0.01\n",
      "input: ../retrained_models/only_edge_models\\SocialGNN_zero_node_PC20\\2_5Jun_0_SocialGNN_V_5_5_12_12_6_2_20_1.0_1.5_0.001_0.01\n",
      "output: ../layer_representations/only_edge_models/SocialGNN_zero_node_PC20\\2_5Jun_0_SocialGNN_V_5_5_12_12_6_2_20_1.0_1.5_0.001_0.01\n",
      "input: ../retrained_models/only_edge_models\\SocialGNN_zero_node_PC20\\2_5Jun_1_SocialGNN_V_5_5_12_12_6_2_20_1.0_1.5_0.001_0.01\n",
      "output: ../layer_representations/only_edge_models/SocialGNN_zero_node_PC20\\2_5Jun_1_SocialGNN_V_5_5_12_12_6_2_20_1.0_1.5_0.001_0.01\n",
      "input: ../retrained_models/only_edge_models\\SocialGNN_zero_node_PC20\\2_5Jun_2_SocialGNN_V_5_5_12_12_6_2_20_1.0_1.5_0.001_0.01\n",
      "output: ../layer_representations/only_edge_models/SocialGNN_zero_node_PC20\\2_5Jun_2_SocialGNN_V_5_5_12_12_6_2_20_1.0_1.5_0.001_0.01\n",
      "input: ../retrained_models/only_edge_models\\SocialGNN_zero_node_PC20\\2_5Jun_3_SocialGNN_V_5_5_12_12_6_2_20_1.0_1.5_0.001_0.01\n",
      "output: ../layer_representations/only_edge_models/SocialGNN_zero_node_PC20\\2_5Jun_3_SocialGNN_V_5_5_12_12_6_2_20_1.0_1.5_0.001_0.01\n",
      "input: ../retrained_models/only_edge_models\\SocialGNN_zero_node_PC20\\2_5Jun_4_SocialGNN_V_5_5_12_12_6_2_20_1.0_1.5_0.001_0.01\n",
      "output: ../layer_representations/only_edge_models/SocialGNN_zero_node_PC20\\2_5Jun_4_SocialGNN_V_5_5_12_12_6_2_20_1.0_1.5_0.001_0.01\n",
      "input: ../retrained_models/only_edge_models\\SocialGNN_zero_node_PC20\\2_5Jun_5_SocialGNN_V_5_5_12_12_6_2_20_1.0_1.5_0.001_0.01\n",
      "output: ../layer_representations/only_edge_models/SocialGNN_zero_node_PC20\\2_5Jun_5_SocialGNN_V_5_5_12_12_6_2_20_1.0_1.5_0.001_0.01\n",
      "input: ../retrained_models/only_edge_models\\SocialGNN_zero_node_PC20\\2_5Jun_6_SocialGNN_V_5_5_12_12_6_2_20_1.0_1.5_0.001_0.01\n",
      "output: ../layer_representations/only_edge_models/SocialGNN_zero_node_PC20\\2_5Jun_6_SocialGNN_V_5_5_12_12_6_2_20_1.0_1.5_0.001_0.01\n",
      "input: ../retrained_models/only_edge_models\\SocialGNN_zero_node_PC20\\2_5Jun_7_SocialGNN_V_5_5_12_12_6_2_20_1.0_1.5_0.001_0.01\n",
      "output: ../layer_representations/only_edge_models/SocialGNN_zero_node_PC20\\2_5Jun_7_SocialGNN_V_5_5_12_12_6_2_20_1.0_1.5_0.001_0.01\n",
      "input: ../retrained_models/only_edge_models\\SocialGNN_zero_node_PC20\\2_5Jun_8_SocialGNN_V_5_5_12_12_6_2_20_1.0_1.5_0.001_0.01\n",
      "output: ../layer_representations/only_edge_models/SocialGNN_zero_node_PC20\\2_5Jun_8_SocialGNN_V_5_5_12_12_6_2_20_1.0_1.5_0.001_0.01\n",
      "input: ../retrained_models/only_edge_models\\SocialGNN_zero_node_PC20\\2_5Jun_9_SocialGNN_V_5_5_12_12_6_2_20_1.0_1.5_0.001_0.01\n",
      "output: ../layer_representations/only_edge_models/SocialGNN_zero_node_PC20\\2_5Jun_9_SocialGNN_V_5_5_12_12_6_2_20_1.0_1.5_0.001_0.01\n",
      "Processing SocialGNN_V\n",
      ".............DEFINING INPUT PLACEHOLDERS..............\n",
      "\n",
      ".............BUILDING GRAPH..............\n",
      "\n",
      ".............INITIALIZATION SESSION..............\n"
     ]
    },
    {
     "name": "stderr",
     "output_type": "stream",
     "text": [
      "100%|██████████| 20/20 [15:59<00:00, 47.98s/it]\n"
     ]
    }
   ],
   "execution_count": 15
  },
  {
   "metadata": {
    "ExecuteTime": {
     "end_time": "2024-10-09T20:30:55.200732Z",
     "start_time": "2024-10-09T20:25:42.567112Z"
    }
   },
   "cell_type": "code",
   "source": [
    "# for LSTM only edge models\n",
    "output_size = 2\n",
    "option = 'CueBasedLSTM-Relation'\n",
    "model_dir = '../retrained_models/only_edge_models'\n",
    "output_dir = f'../layer_representations/only_edge_models/'\n",
    "pc = 0\n",
    "model_class = f'LSTM_only_edge'\n",
    "\n",
    "paths = {'CueBasedLSTM-Relation': []}\n",
    "new_paths = construct_paths(paths, option, model_class, model_dir, output_dir)\n",
    "print_paths(new_paths)\n",
    "\n",
    "def remove_node(sequences):\n",
    "    for seq_idx in range(len(sequences)):\n",
    "        for frame_idx in range(len(sequences[seq_idx]['graph_dicts'])):\n",
    "            sequences[seq_idx]['graph_dicts'][frame_idx]['nodes'] =  [[] for _ in range(5)]\n",
    "    return sequences\n",
    "videos = remove_node(load_pickle(data_input_dir))\n",
    "save_layer_representations(paths, feature_size = 20)\n"
   ],
   "id": "9c00a661e522b65a",
   "outputs": [
    {
     "name": "stdout",
     "output_type": "stream",
     "text": [
      "These are the input models:\n",
      "20 CueBasedLSTM-Relation models\n",
      "input: ../retrained_models/only_edge_models\\LSTM_only_edge\\2_14Jun_0_20_6_2_20_1.0_1.5_0.001_0.01\n",
      "output: ../layer_representations/only_edge_models/LSTM_only_edge\\2_14Jun_0_20_6_2_20_1.0_1.5_0.001_0.01\n",
      "input: ../retrained_models/only_edge_models\\LSTM_only_edge\\2_14Jun_1_20_6_2_20_1.0_1.5_0.001_0.01\n",
      "output: ../layer_representations/only_edge_models/LSTM_only_edge\\2_14Jun_1_20_6_2_20_1.0_1.5_0.001_0.01\n",
      "input: ../retrained_models/only_edge_models\\LSTM_only_edge\\2_14Jun_2_20_6_2_20_1.0_1.5_0.001_0.01\n",
      "output: ../layer_representations/only_edge_models/LSTM_only_edge\\2_14Jun_2_20_6_2_20_1.0_1.5_0.001_0.01\n",
      "input: ../retrained_models/only_edge_models\\LSTM_only_edge\\2_14Jun_3_20_6_2_20_1.0_1.5_0.001_0.01\n",
      "output: ../layer_representations/only_edge_models/LSTM_only_edge\\2_14Jun_3_20_6_2_20_1.0_1.5_0.001_0.01\n",
      "input: ../retrained_models/only_edge_models\\LSTM_only_edge\\2_14Jun_4_20_6_2_20_1.0_1.5_0.001_0.01\n",
      "output: ../layer_representations/only_edge_models/LSTM_only_edge\\2_14Jun_4_20_6_2_20_1.0_1.5_0.001_0.01\n",
      "input: ../retrained_models/only_edge_models\\LSTM_only_edge\\2_14Jun_5_20_6_2_20_1.0_1.5_0.001_0.01\n",
      "output: ../layer_representations/only_edge_models/LSTM_only_edge\\2_14Jun_5_20_6_2_20_1.0_1.5_0.001_0.01\n",
      "input: ../retrained_models/only_edge_models\\LSTM_only_edge\\2_14Jun_6_20_6_2_20_1.0_1.5_0.001_0.01\n",
      "output: ../layer_representations/only_edge_models/LSTM_only_edge\\2_14Jun_6_20_6_2_20_1.0_1.5_0.001_0.01\n",
      "input: ../retrained_models/only_edge_models\\LSTM_only_edge\\2_14Jun_7_20_6_2_20_1.0_1.5_0.001_0.01\n",
      "output: ../layer_representations/only_edge_models/LSTM_only_edge\\2_14Jun_7_20_6_2_20_1.0_1.5_0.001_0.01\n",
      "input: ../retrained_models/only_edge_models\\LSTM_only_edge\\2_14Jun_8_20_6_2_20_1.0_1.5_0.001_0.01\n",
      "output: ../layer_representations/only_edge_models/LSTM_only_edge\\2_14Jun_8_20_6_2_20_1.0_1.5_0.001_0.01\n",
      "input: ../retrained_models/only_edge_models\\LSTM_only_edge\\2_14Jun_9_20_6_2_20_1.0_1.5_0.001_0.01\n",
      "output: ../layer_representations/only_edge_models/LSTM_only_edge\\2_14Jun_9_20_6_2_20_1.0_1.5_0.001_0.01\n",
      "input: ../retrained_models/only_edge_models\\LSTM_only_edge\\2_5Jun_0_20_6_2_20_1.0_1.5_0.001_0.01\n",
      "output: ../layer_representations/only_edge_models/LSTM_only_edge\\2_5Jun_0_20_6_2_20_1.0_1.5_0.001_0.01\n",
      "input: ../retrained_models/only_edge_models\\LSTM_only_edge\\2_5Jun_1_20_6_2_20_1.0_1.5_0.001_0.01\n",
      "output: ../layer_representations/only_edge_models/LSTM_only_edge\\2_5Jun_1_20_6_2_20_1.0_1.5_0.001_0.01\n",
      "input: ../retrained_models/only_edge_models\\LSTM_only_edge\\2_5Jun_2_20_6_2_20_1.0_1.5_0.001_0.01\n",
      "output: ../layer_representations/only_edge_models/LSTM_only_edge\\2_5Jun_2_20_6_2_20_1.0_1.5_0.001_0.01\n",
      "input: ../retrained_models/only_edge_models\\LSTM_only_edge\\2_5Jun_3_20_6_2_20_1.0_1.5_0.001_0.01\n",
      "output: ../layer_representations/only_edge_models/LSTM_only_edge\\2_5Jun_3_20_6_2_20_1.0_1.5_0.001_0.01\n",
      "input: ../retrained_models/only_edge_models\\LSTM_only_edge\\2_5Jun_4_20_6_2_20_1.0_1.5_0.001_0.01\n",
      "output: ../layer_representations/only_edge_models/LSTM_only_edge\\2_5Jun_4_20_6_2_20_1.0_1.5_0.001_0.01\n",
      "input: ../retrained_models/only_edge_models\\LSTM_only_edge\\2_5Jun_5_20_6_2_20_1.0_1.5_0.001_0.01\n",
      "output: ../layer_representations/only_edge_models/LSTM_only_edge\\2_5Jun_5_20_6_2_20_1.0_1.5_0.001_0.01\n",
      "input: ../retrained_models/only_edge_models\\LSTM_only_edge\\2_5Jun_6_20_6_2_20_1.0_1.5_0.001_0.01\n",
      "output: ../layer_representations/only_edge_models/LSTM_only_edge\\2_5Jun_6_20_6_2_20_1.0_1.5_0.001_0.01\n",
      "input: ../retrained_models/only_edge_models\\LSTM_only_edge\\2_5Jun_7_20_6_2_20_1.0_1.5_0.001_0.01\n",
      "output: ../layer_representations/only_edge_models/LSTM_only_edge\\2_5Jun_7_20_6_2_20_1.0_1.5_0.001_0.01\n",
      "input: ../retrained_models/only_edge_models\\LSTM_only_edge\\2_5Jun_8_20_6_2_20_1.0_1.5_0.001_0.01\n",
      "output: ../layer_representations/only_edge_models/LSTM_only_edge\\2_5Jun_8_20_6_2_20_1.0_1.5_0.001_0.01\n",
      "input: ../retrained_models/only_edge_models\\LSTM_only_edge\\2_5Jun_9_20_6_2_20_1.0_1.5_0.001_0.01\n",
      "output: ../layer_representations/only_edge_models/LSTM_only_edge\\2_5Jun_9_20_6_2_20_1.0_1.5_0.001_0.01\n",
      "Processing CueBasedLSTM-Relation\n",
      ".............DEFINING INPUT PLACEHOLDERS..............\n",
      "\n",
      ".............BUILDING GRAPH..............\n",
      "\n",
      ".............INITIALIZATION SESSION..............\n"
     ]
    },
    {
     "name": "stderr",
     "output_type": "stream",
     "text": [
      "100%|██████████| 20/20 [05:08<00:00, 15.43s/it]\n"
     ]
    }
   ],
   "execution_count": 16
  },
  {
   "metadata": {},
   "cell_type": "code",
   "source": "",
   "id": "a04e9ec4bde01238",
   "outputs": [],
   "execution_count": null
  }
 ],
 "metadata": {
  "kernelspec": {
   "display_name": "Python 3",
   "language": "python",
   "name": "python3"
  },
  "language_info": {
   "codemirror_mode": {
    "name": "ipython",
    "version": 2
   },
   "file_extension": ".py",
   "mimetype": "text/x-python",
   "name": "python",
   "nbconvert_exporter": "python",
   "pygments_lexer": "ipython2",
   "version": "2.7.6"
  }
 },
 "nbformat": 4,
 "nbformat_minor": 5
}
