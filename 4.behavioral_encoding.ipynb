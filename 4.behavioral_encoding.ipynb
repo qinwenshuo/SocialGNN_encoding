{
 "cells": [
  {
   "metadata": {},
   "cell_type": "markdown",
   "source": "Use SocialGNN_encoding_2 environment",
   "id": "1ba1aad1b3b7a33"
  },
  {
   "cell_type": "code",
   "id": "initial_id",
   "metadata": {
    "collapsed": true,
    "ExecuteTime": {
     "end_time": "2024-08-27T14:49:32.089433Z",
     "start_time": "2024-08-27T14:49:31.402178Z"
    }
   },
   "source": [
    "import os\n",
    "from tqdm import tqdm\n",
    "import pickle\n",
    "import numpy as np\n",
    "import pandas as pd\n",
    "\n",
    "from sklearn.linear_model import Ridge\n",
    "from sklearn.model_selection import train_test_split, GridSearchCV\n",
    "from sklearn.metrics import mean_squared_error"
   ],
   "outputs": [],
   "execution_count": 1
  },
  {
   "metadata": {
    "ExecuteTime": {
     "end_time": "2024-08-27T14:49:32.105436Z",
     "start_time": "2024-08-27T14:49:32.091431Z"
    }
   },
   "cell_type": "code",
   "source": "",
   "id": "7775ddec23ef48e9",
   "outputs": [],
   "execution_count": 1
  },
  {
   "metadata": {
    "ExecuteTime": {
     "end_time": "2024-08-27T14:49:32.120953Z",
     "start_time": "2024-08-27T14:49:32.108434Z"
    }
   },
   "cell_type": "code",
   "source": [
    "socialGNN_encoding_dir = 'Data/encodings/'\n",
    "target_ratings_dir = 'Data/behavioral_ratings.csv'\n",
    "ratings_of_interest =['expanse', 'transitivity','agent distance', 'facingness', 'communication',  'joint action', 'valence', 'arousal']"
   ],
   "id": "468b3cd71efa0700",
   "outputs": [],
   "execution_count": 2
  },
  {
   "metadata": {
    "ExecuteTime": {
     "end_time": "2024-08-27T14:49:32.136952Z",
     "start_time": "2024-08-27T14:49:32.122952Z"
    }
   },
   "cell_type": "code",
   "source": [
    "def load_pickle(path):\n",
    "    with open(path, 'rb') as f:\n",
    "        pickled = pickle.load(f)\n",
    "    return pickled"
   ],
   "id": "cf4030321633934b",
   "outputs": [],
   "execution_count": 3
  },
  {
   "metadata": {
    "ExecuteTime": {
     "end_time": "2024-08-27T14:49:32.200078Z",
     "start_time": "2024-08-27T14:49:32.139951Z"
    }
   },
   "cell_type": "code",
   "source": [
    "ratings_df = pd.read_csv(target_ratings_dir)[['video_name'] + ratings_of_interest]\n",
    "ratings_df_sorted = ratings_df.sort_values(by='video_name')\n",
    "ratings_df_sorted[ratings_of_interest].values"
   ],
   "id": "a85b9e6315000940",
   "outputs": [
    {
     "data": {
      "text/plain": [
       "array([[0.225     , 0.89583333, 0.        , ..., 0.7       , 0.65      ,\n",
       "        0.34090909],\n",
       "       [0.25      , 0.10416667, 0.075     , ..., 0.825     , 0.675     ,\n",
       "        0.34090909],\n",
       "       [0.275     , 1.        , 0.04545455, ..., 0.575     , 0.675     ,\n",
       "        0.075     ],\n",
       "       ...,\n",
       "       [0.05      , 0.975     , 0.05      , ..., 0.825     , 0.85      ,\n",
       "        0.4       ],\n",
       "       [0.5       , 1.        , 0.575     , ..., 0.59090909, 0.425     ,\n",
       "        0.25      ],\n",
       "       [0.025     , 0.975     , 0.        , ..., 0.6       , 0.575     ,\n",
       "        0.3       ]])"
      ]
     },
     "execution_count": 4,
     "metadata": {},
     "output_type": "execute_result"
    }
   ],
   "execution_count": 4
  },
  {
   "metadata": {
    "ExecuteTime": {
     "end_time": "2024-08-27T14:49:32.216081Z",
     "start_time": "2024-08-27T14:49:32.201079Z"
    }
   },
   "cell_type": "code",
   "source": [
    "model_features = load_pickle('Data/encodings/final_state/GazeDataset_Jun1523_traintest5Jun23_2_0_SocialGNN_V_5_5_12_12_6_2_20_1.0_1.5_0.001_0.01')\n",
    "X = np.vstack(model_features)"
   ],
   "id": "99513ede5a44e14b",
   "outputs": [],
   "execution_count": 5
  },
  {
   "metadata": {
    "ExecuteTime": {
     "end_time": "2024-08-27T14:49:32.231515Z",
     "start_time": "2024-08-27T14:49:32.217289Z"
    }
   },
   "cell_type": "code",
   "source": "",
   "id": "423803d879da220f",
   "outputs": [],
   "execution_count": 5
  },
  {
   "metadata": {
    "ExecuteTime": {
     "end_time": "2024-08-27T14:49:32.324692Z",
     "start_time": "2024-08-27T14:49:32.232627Z"
    }
   },
   "cell_type": "code",
   "source": [
    "# # Assuming you want to perform regression for each rating separately\n",
    "results = {}\n",
    "for rating in ratings_of_interest:\n",
    "    y = ratings_df_sorted[rating].values\n",
    "\n",
    "    # Split data\n",
    "    X_train, X_test, y_train, y_test = train_test_split(X, y, test_size=0.2, random_state=42)\n",
    "\n",
    "    # Initialize the Ridge regression model\n",
    "    ridge = Ridge(alpha=1.0)\n",
    "\n",
    "    # Fit the model on the training data\n",
    "    ridge.fit(X_train, y_train)\n",
    "\n",
    "    # Predict on the test data\n",
    "    y_pred = ridge.predict(X_test)\n",
    "\n",
    "    # Calculate Mean Squared Error\n",
    "    mse = mean_squared_error(y_test, y_pred)\n",
    "    results[rating] = mse\n",
    "    print(f'Mean Squared Error for {rating}: {mse}')"
   ],
   "id": "8ff2567eef189d0",
   "outputs": [
    {
     "name": "stdout",
     "output_type": "stream",
     "text": [
      "Mean Squared Error for expanse: 0.03493019681466938\n",
      "Mean Squared Error for transitivity: 0.11890391422149012\n",
      "Mean Squared Error for agent distance: 0.056789482399220735\n",
      "Mean Squared Error for facingness: 0.16332902292921653\n",
      "Mean Squared Error for communication: 0.06717665527329952\n",
      "Mean Squared Error for joint action: 0.04596095695910531\n",
      "Mean Squared Error for valence: 0.035691062292219855\n",
      "Mean Squared Error for arousal: 0.03854679239238862\n"
     ]
    }
   ],
   "execution_count": 6
  },
  {
   "metadata": {
    "ExecuteTime": {
     "end_time": "2024-08-27T14:56:19.385240Z",
     "start_time": "2024-08-27T14:56:19.363733Z"
    }
   },
   "cell_type": "code",
   "source": [
    "from sklearn.linear_model import RidgeCV\n",
    "from sklearn.model_selection import KFold\n",
    "import numpy as np\n",
    "import pandas as pd\n",
    "import gc\n",
    "\n",
    "\n",
    "def ridge_regression_benchmarking(target, layers, models,\n",
    "                                  n_splits=4, random_seed=0, alphas=None):\n",
    "    # if alphas is None:\n",
    "    #     alphas = [10.**power for power in np.arange(-5, 2)]\n",
    "    \n",
    "    all_model_results = []\n",
    "    \n",
    "    # Iterate over each target rating separately\n",
    "    for target_idx in tqdm(range(target.shape[1])):  # Assuming target is a 2D array\n",
    "        current_target = target[:, target_idx]\n",
    "        \n",
    "        # Extract layer representations using TensorFlow\n",
    "        for layer in layers:\n",
    "            layer_path = os.path.join(socialGNN_encoding_dir, layer)\n",
    "            for model_name in models:\n",
    "                model_path = os.path.join(layer_path, model_name)\n",
    "                layer_representation = np.vstack(load_pickle(model_path))\n",
    "        \n",
    "                # Initialize KFold\n",
    "                cv = KFold(n_splits=n_splits, shuffle=True, random_state=random_seed)\n",
    "                \n",
    "                # Flatten the representation if necessary\n",
    "                X = layer_representation.reshape(layer_representation.shape[0], -1)\n",
    "                    \n",
    "                # Split data into train/test indices\n",
    "                for train_idx, test_idx in cv.split(X):\n",
    "                    # Separate train/test data and target values\n",
    "                    X_train, X_test = X[train_idx], X[test_idx]\n",
    "                    y_train, y_test = current_target[train_idx], current_target[test_idx]\n",
    "        \n",
    "                    # Initialize RidgeCV model\n",
    "                    ridge = RidgeCV(\n",
    "                        # alphas=alphas\n",
    "                        )\n",
    "                    \n",
    "                    # Perform cross-validation\n",
    "                    train_scores = []\n",
    "                    for inner_train_idx, val_idx in cv.split(X_train):\n",
    "                        ridge.fit(X_train[inner_train_idx], y_train[inner_train_idx])\n",
    "                        train_scores.append(ridge.score(X_train[val_idx], y_train[val_idx]))\n",
    "            \n",
    "                    # Fit on full train set and evaluate on test set\n",
    "                    ridge.fit(X_train, y_train)\n",
    "                    test_score = ridge.score(X_test, y_test)\n",
    "                        \n",
    "                    # Store results for this target\n",
    "                    all_model_results.append({\n",
    "                        'target': ratings_of_interest[target_idx],\n",
    "                        'train_score': np.mean(train_scores),\n",
    "                        'test_score': test_score,\n",
    "                        'layer': layer,\n",
    "                        'model_name': model_name\n",
    "                    })\n",
    "                    \n",
    "                    # Memory cleanup\n",
    "                    gc.collect()\n",
    "\n",
    "\n",
    "    return pd.DataFrame(all_model_results)\n"
   ],
   "id": "c7c41580df21f249",
   "outputs": [],
   "execution_count": 23
  },
  {
   "metadata": {
    "ExecuteTime": {
     "end_time": "2024-08-27T14:56:19.806713Z",
     "start_time": "2024-08-27T14:56:19.785519Z"
    }
   },
   "cell_type": "code",
   "source": [
    "\n",
    "# Define the layers you're interested in\n",
    "layers = ['final_state']\n",
    "target = ratings_df_sorted[ratings_of_interest].values\n",
    "models = [i for i in os.listdir('Data/encodings/final_state') if '.pkl' in i]\n",
    "len(models)"
   ],
   "id": "a50274f83af8f007",
   "outputs": [
    {
     "data": {
      "text/plain": [
       "40"
      ]
     },
     "execution_count": 24,
     "metadata": {},
     "output_type": "execute_result"
    }
   ],
   "execution_count": 24
  },
  {
   "metadata": {
    "ExecuteTime": {
     "end_time": "2024-08-27T14:58:04.763101Z",
     "start_time": "2024-08-27T14:56:20.540644Z"
    }
   },
   "cell_type": "code",
   "source": [
    "results = ridge_regression_benchmarking(target, layers, models)\n",
    "results"
   ],
   "id": "7da7933c1615f86f",
   "outputs": [
    {
     "name": "stderr",
     "output_type": "stream",
     "text": [
      "100%|██████████| 8/8 [01:44<00:00, 13.02s/it]\n"
     ]
    },
    {
     "data": {
      "text/plain": [
       "       target  train_score  test_score        layer  \\\n",
       "0     expanse    -0.076196    0.066779  final_state   \n",
       "1     expanse     0.008346   -0.044574  final_state   \n",
       "2     expanse    -0.030331    0.075443  final_state   \n",
       "3     expanse    -0.052701    0.003350  final_state   \n",
       "4     expanse    -0.047273    0.007281  final_state   \n",
       "...       ...          ...         ...          ...   \n",
       "1275  arousal    -0.012650   -0.165590  final_state   \n",
       "1276  arousal    -0.020496    0.022316  final_state   \n",
       "1277  arousal    -0.023563   -0.067598  final_state   \n",
       "1278  arousal    -0.076707   -0.007458  final_state   \n",
       "1279  arousal    -0.032923   -0.042634  final_state   \n",
       "\n",
       "                                                                                                       model_name  \n",
       "0                    GazeDataset_Jun1523_traintest14Jun23_2_0_SocialGNN_V_5_5_12_12_6_2_20_1.0_1.5_0.001_0.01.pkl  \n",
       "1                    GazeDataset_Jun1523_traintest14Jun23_2_0_SocialGNN_V_5_5_12_12_6_2_20_1.0_1.5_0.001_0.01.pkl  \n",
       "2                    GazeDataset_Jun1523_traintest14Jun23_2_0_SocialGNN_V_5_5_12_12_6_2_20_1.0_1.5_0.001_0.01.pkl  \n",
       "3                    GazeDataset_Jun1523_traintest14Jun23_2_0_SocialGNN_V_5_5_12_12_6_2_20_1.0_1.5_0.001_0.01.pkl  \n",
       "4                    GazeDataset_Jun1523_traintest14Jun23_2_1_SocialGNN_V_5_5_12_12_6_2_20_1.0_1.5_0.001_0.01.pkl  \n",
       "...                                                                                                           ...  \n",
       "1275  GazeDataset_Jun1523_traintest5Jun23_5_8_SocialGNN_V_5_5_12_12_6_5_20_5.69_4.42_1.85_1.66_1.0_0.001_0.01.pkl  \n",
       "1276  GazeDataset_Jun1523_traintest5Jun23_5_9_SocialGNN_V_5_5_12_12_6_5_20_5.69_4.42_1.85_1.66_1.0_0.001_0.01.pkl  \n",
       "1277  GazeDataset_Jun1523_traintest5Jun23_5_9_SocialGNN_V_5_5_12_12_6_5_20_5.69_4.42_1.85_1.66_1.0_0.001_0.01.pkl  \n",
       "1278  GazeDataset_Jun1523_traintest5Jun23_5_9_SocialGNN_V_5_5_12_12_6_5_20_5.69_4.42_1.85_1.66_1.0_0.001_0.01.pkl  \n",
       "1279  GazeDataset_Jun1523_traintest5Jun23_5_9_SocialGNN_V_5_5_12_12_6_5_20_5.69_4.42_1.85_1.66_1.0_0.001_0.01.pkl  \n",
       "\n",
       "[1280 rows x 5 columns]"
      ],
      "text/html": [
       "<div>\n",
       "<style scoped>\n",
       "    .dataframe tbody tr th:only-of-type {\n",
       "        vertical-align: middle;\n",
       "    }\n",
       "\n",
       "    .dataframe tbody tr th {\n",
       "        vertical-align: top;\n",
       "    }\n",
       "\n",
       "    .dataframe thead th {\n",
       "        text-align: right;\n",
       "    }\n",
       "</style>\n",
       "<table border=\"1\" class=\"dataframe\">\n",
       "  <thead>\n",
       "    <tr style=\"text-align: right;\">\n",
       "      <th></th>\n",
       "      <th>target</th>\n",
       "      <th>train_score</th>\n",
       "      <th>test_score</th>\n",
       "      <th>layer</th>\n",
       "      <th>model_name</th>\n",
       "    </tr>\n",
       "  </thead>\n",
       "  <tbody>\n",
       "    <tr>\n",
       "      <th>0</th>\n",
       "      <td>expanse</td>\n",
       "      <td>-0.076196</td>\n",
       "      <td>0.066779</td>\n",
       "      <td>final_state</td>\n",
       "      <td>GazeDataset_Jun1523_traintest14Jun23_2_0_SocialGNN_V_5_5_12_12_6_2_20_1.0_1.5_0.001_0.01.pkl</td>\n",
       "    </tr>\n",
       "    <tr>\n",
       "      <th>1</th>\n",
       "      <td>expanse</td>\n",
       "      <td>0.008346</td>\n",
       "      <td>-0.044574</td>\n",
       "      <td>final_state</td>\n",
       "      <td>GazeDataset_Jun1523_traintest14Jun23_2_0_SocialGNN_V_5_5_12_12_6_2_20_1.0_1.5_0.001_0.01.pkl</td>\n",
       "    </tr>\n",
       "    <tr>\n",
       "      <th>2</th>\n",
       "      <td>expanse</td>\n",
       "      <td>-0.030331</td>\n",
       "      <td>0.075443</td>\n",
       "      <td>final_state</td>\n",
       "      <td>GazeDataset_Jun1523_traintest14Jun23_2_0_SocialGNN_V_5_5_12_12_6_2_20_1.0_1.5_0.001_0.01.pkl</td>\n",
       "    </tr>\n",
       "    <tr>\n",
       "      <th>3</th>\n",
       "      <td>expanse</td>\n",
       "      <td>-0.052701</td>\n",
       "      <td>0.003350</td>\n",
       "      <td>final_state</td>\n",
       "      <td>GazeDataset_Jun1523_traintest14Jun23_2_0_SocialGNN_V_5_5_12_12_6_2_20_1.0_1.5_0.001_0.01.pkl</td>\n",
       "    </tr>\n",
       "    <tr>\n",
       "      <th>4</th>\n",
       "      <td>expanse</td>\n",
       "      <td>-0.047273</td>\n",
       "      <td>0.007281</td>\n",
       "      <td>final_state</td>\n",
       "      <td>GazeDataset_Jun1523_traintest14Jun23_2_1_SocialGNN_V_5_5_12_12_6_2_20_1.0_1.5_0.001_0.01.pkl</td>\n",
       "    </tr>\n",
       "    <tr>\n",
       "      <th>...</th>\n",
       "      <td>...</td>\n",
       "      <td>...</td>\n",
       "      <td>...</td>\n",
       "      <td>...</td>\n",
       "      <td>...</td>\n",
       "    </tr>\n",
       "    <tr>\n",
       "      <th>1275</th>\n",
       "      <td>arousal</td>\n",
       "      <td>-0.012650</td>\n",
       "      <td>-0.165590</td>\n",
       "      <td>final_state</td>\n",
       "      <td>GazeDataset_Jun1523_traintest5Jun23_5_8_SocialGNN_V_5_5_12_12_6_5_20_5.69_4.42_1.85_1.66_1.0_0.001_0.01.pkl</td>\n",
       "    </tr>\n",
       "    <tr>\n",
       "      <th>1276</th>\n",
       "      <td>arousal</td>\n",
       "      <td>-0.020496</td>\n",
       "      <td>0.022316</td>\n",
       "      <td>final_state</td>\n",
       "      <td>GazeDataset_Jun1523_traintest5Jun23_5_9_SocialGNN_V_5_5_12_12_6_5_20_5.69_4.42_1.85_1.66_1.0_0.001_0.01.pkl</td>\n",
       "    </tr>\n",
       "    <tr>\n",
       "      <th>1277</th>\n",
       "      <td>arousal</td>\n",
       "      <td>-0.023563</td>\n",
       "      <td>-0.067598</td>\n",
       "      <td>final_state</td>\n",
       "      <td>GazeDataset_Jun1523_traintest5Jun23_5_9_SocialGNN_V_5_5_12_12_6_5_20_5.69_4.42_1.85_1.66_1.0_0.001_0.01.pkl</td>\n",
       "    </tr>\n",
       "    <tr>\n",
       "      <th>1278</th>\n",
       "      <td>arousal</td>\n",
       "      <td>-0.076707</td>\n",
       "      <td>-0.007458</td>\n",
       "      <td>final_state</td>\n",
       "      <td>GazeDataset_Jun1523_traintest5Jun23_5_9_SocialGNN_V_5_5_12_12_6_5_20_5.69_4.42_1.85_1.66_1.0_0.001_0.01.pkl</td>\n",
       "    </tr>\n",
       "    <tr>\n",
       "      <th>1279</th>\n",
       "      <td>arousal</td>\n",
       "      <td>-0.032923</td>\n",
       "      <td>-0.042634</td>\n",
       "      <td>final_state</td>\n",
       "      <td>GazeDataset_Jun1523_traintest5Jun23_5_9_SocialGNN_V_5_5_12_12_6_5_20_5.69_4.42_1.85_1.66_1.0_0.001_0.01.pkl</td>\n",
       "    </tr>\n",
       "  </tbody>\n",
       "</table>\n",
       "<p>1280 rows × 5 columns</p>\n",
       "</div>"
      ]
     },
     "execution_count": 25,
     "metadata": {},
     "output_type": "execute_result"
    }
   ],
   "execution_count": 25
  },
  {
   "metadata": {
    "ExecuteTime": {
     "end_time": "2024-08-27T15:26:37.032465Z",
     "start_time": "2024-08-27T15:26:36.839339Z"
    }
   },
   "cell_type": "code",
   "source": [
    "import matplotlib.pyplot as plt\n",
    "import seaborn as sns\n",
    "\n",
    "x_labels = ['spatial expanse', 'object directed', 'interagent distance', 'agents facing', 'communicating', 'acting jointly', 'valence', 'arousal']\n",
    "# Assuming 'results_df' is the DataFrame returned by ridge_regression_benchmarking function\n",
    "def plot_ridge_regression_results(results_df):\n",
    "    plt.figure(figsize=(10, 6))\n",
    "    \n",
    "    \n",
    "    # Plot each target's test score as a scatter plot\n",
    "    sns.stripplot(x='target', y='test_score', data=results_df, jitter=True, dodge=True)\n",
    "    \n",
    "    # Plot median bars\n",
    "    # sns.pointplot(data = results_df, x=\"target\", y=\"test_score\", linestyles='none', estimator=np.median, color='red', markers='_', errorbar=None, dodge=0.4,markeredgewid)\n",
    "\n",
    "    \n",
    "    plt.title('Test Scores by Target Rating')\n",
    "    plt.xlabel('Target Rating')\n",
    "    plt.ylabel('Test Score (r)')\n",
    "    plt.xticks(ticks=range(len(x_labels)), labels=x_labels, rotation = 20)\n",
    "    plt.grid(False)\n",
    "    plt.show()\n",
    "\n",
    "plot_ridge_regression_results(results)\n"
   ],
   "id": "1cc29b3dc28e2349",
   "outputs": [
    {
     "data": {
      "text/plain": [
       "<Figure size 1000x600 with 1 Axes>"
      ],
      "image/png": "[encoded data removed]"
     },
     "metadata": {},
     "output_type": "display_data"
    }
   ],
   "execution_count": 63
  },
  {
   "metadata": {},
   "cell_type": "code",
   "source": "",
   "id": "8a78088b4fa36d75",
   "outputs": [],
   "execution_count": null
  }
 ],
 "metadata": {
  "kernelspec": {
   "display_name": "Python 3",
   "language": "python",
   "name": "python3"
  },
  "language_info": {
   "codemirror_mode": {
    "name": "ipython",
    "version": 2
   },
   "file_extension": ".py",
   "mimetype": "text/x-python",
   "name": "python",
   "nbconvert_exporter": "python",
   "pygments_lexer": "ipython2",
   "version": "2.7.6"
  }
 },
 "nbformat": 4,
 "nbformat_minor": 5
}
