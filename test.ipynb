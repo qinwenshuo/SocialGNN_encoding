{
 "cells": [
  {
   "cell_type": "code",
   "id": "initial_id",
   "metadata": {
    "collapsed": true,
    "ExecuteTime": {
     "end_time": "2024-08-23T19:40:04.185030Z",
     "start_time": "2024-08-23T19:40:04.175312Z"
    }
   },
   "source": [
    "import os, shutil\n",
    "\n",
    "for dir in os.listdir('TrainedModels'):\n",
    "    if os.path.isdir(os.path.join('TrainedModels', dir)):\n",
    "        if 'SocialGNN' in dir:\n",
    "            print(dir)\n",
    "        else:\n",
    "            shutil.rmtree(os.path.join('TrainedModels',dir))"
   ],
   "outputs": [
    {
     "name": "stdout",
     "output_type": "stream",
     "text": [
      "GazeDataset_Jun1523_traintest14Jun23_2_0_SocialGNN_V_5_5_12_12_6_2_20_1.0_1.5_0.001_0.01\n",
      "GazeDataset_Jun1523_traintest14Jun23_2_1_SocialGNN_V_5_5_12_12_6_2_20_1.0_1.5_0.001_0.01\n",
      "GazeDataset_Jun1523_traintest14Jun23_2_2_SocialGNN_V_5_5_12_12_6_2_20_1.0_1.5_0.001_0.01\n",
      "GazeDataset_Jun1523_traintest14Jun23_2_3_SocialGNN_V_5_5_12_12_6_2_20_1.0_1.5_0.001_0.01\n",
      "GazeDataset_Jun1523_traintest14Jun23_2_4_SocialGNN_V_5_5_12_12_6_2_20_1.0_1.5_0.001_0.01\n",
      "GazeDataset_Jun1523_traintest14Jun23_2_5_SocialGNN_V_5_5_12_12_6_2_20_1.0_1.5_0.001_0.01\n",
      "GazeDataset_Jun1523_traintest14Jun23_2_6_SocialGNN_V_5_5_12_12_6_2_20_1.0_1.5_0.001_0.01\n",
      "GazeDataset_Jun1523_traintest14Jun23_2_7_SocialGNN_V_5_5_12_12_6_2_20_1.0_1.5_0.001_0.01\n",
      "GazeDataset_Jun1523_traintest14Jun23_2_8_SocialGNN_V_5_5_12_12_6_2_20_1.0_1.5_0.001_0.01\n",
      "GazeDataset_Jun1523_traintest14Jun23_2_9_SocialGNN_V_5_5_12_12_6_2_20_1.0_1.5_0.001_0.01\n",
      "GazeDataset_Jun1523_traintest14Jun23_5_0_SocialGNN_V_5_5_12_12_6_5_20_5.69_4.42_1.85_1.66_1.0_0.001_0.01\n",
      "GazeDataset_Jun1523_traintest14Jun23_5_1_SocialGNN_V_5_5_12_12_6_5_20_5.69_4.42_1.85_1.66_1.0_0.001_0.01\n",
      "GazeDataset_Jun1523_traintest14Jun23_5_2_SocialGNN_V_5_5_12_12_6_5_20_5.69_4.42_1.85_1.66_1.0_0.001_0.01\n",
      "GazeDataset_Jun1523_traintest14Jun23_5_3_SocialGNN_V_5_5_12_12_6_5_20_5.69_4.42_1.85_1.66_1.0_0.001_0.01\n",
      "GazeDataset_Jun1523_traintest14Jun23_5_4_SocialGNN_V_5_5_12_12_6_5_20_5.69_4.42_1.85_1.66_1.0_0.001_0.01\n",
      "GazeDataset_Jun1523_traintest14Jun23_5_5_SocialGNN_V_5_5_12_12_6_5_20_5.69_4.42_1.85_1.66_1.0_0.001_0.01\n",
      "GazeDataset_Jun1523_traintest14Jun23_5_6_SocialGNN_V_5_5_12_12_6_5_20_5.69_4.42_1.85_1.66_1.0_0.001_0.01\n",
      "GazeDataset_Jun1523_traintest14Jun23_5_7_SocialGNN_V_5_5_12_12_6_5_20_5.69_4.42_1.85_1.66_1.0_0.001_0.01\n",
      "GazeDataset_Jun1523_traintest14Jun23_5_8_SocialGNN_V_5_5_12_12_6_5_20_5.69_4.42_1.85_1.66_1.0_0.001_0.01\n",
      "GazeDataset_Jun1523_traintest14Jun23_5_9_SocialGNN_V_5_5_12_12_6_5_20_5.69_4.42_1.85_1.66_1.0_0.001_0.01\n",
      "GazeDataset_Jun1523_traintest5Jun23_2_0_SocialGNN_V_5_5_12_12_6_2_20_1.0_1.5_0.001_0.01\n",
      "GazeDataset_Jun1523_traintest5Jun23_2_1_SocialGNN_V_5_5_12_12_6_2_20_1.0_1.5_0.001_0.01\n",
      "GazeDataset_Jun1523_traintest5Jun23_2_2_SocialGNN_V_5_5_12_12_6_2_20_1.0_1.5_0.001_0.01\n",
      "GazeDataset_Jun1523_traintest5Jun23_2_3_SocialGNN_V_5_5_12_12_6_2_20_1.0_1.5_0.001_0.01\n",
      "GazeDataset_Jun1523_traintest5Jun23_2_4_SocialGNN_V_5_5_12_12_6_2_20_1.0_1.5_0.001_0.01\n",
      "GazeDataset_Jun1523_traintest5Jun23_2_5_SocialGNN_V_5_5_12_12_6_2_20_1.0_1.5_0.001_0.01\n",
      "GazeDataset_Jun1523_traintest5Jun23_2_6_SocialGNN_V_5_5_12_12_6_2_20_1.0_1.5_0.001_0.01\n",
      "GazeDataset_Jun1523_traintest5Jun23_2_7_SocialGNN_V_5_5_12_12_6_2_20_1.0_1.5_0.001_0.01\n",
      "GazeDataset_Jun1523_traintest5Jun23_2_8_SocialGNN_V_5_5_12_12_6_2_20_1.0_1.5_0.001_0.01\n",
      "GazeDataset_Jun1523_traintest5Jun23_2_9_SocialGNN_V_5_5_12_12_6_2_20_1.0_1.5_0.001_0.01\n",
      "GazeDataset_Jun1523_traintest5Jun23_5_0_SocialGNN_V_5_5_12_12_6_5_20_5.69_4.42_1.85_1.66_1.0_0.001_0.01\n",
      "GazeDataset_Jun1523_traintest5Jun23_5_1_SocialGNN_V_5_5_12_12_6_5_20_5.69_4.42_1.85_1.66_1.0_0.001_0.01\n",
      "GazeDataset_Jun1523_traintest5Jun23_5_2_SocialGNN_V_5_5_12_12_6_5_20_5.69_4.42_1.85_1.66_1.0_0.001_0.01\n",
      "GazeDataset_Jun1523_traintest5Jun23_5_3_SocialGNN_V_5_5_12_12_6_5_20_5.69_4.42_1.85_1.66_1.0_0.001_0.01\n",
      "GazeDataset_Jun1523_traintest5Jun23_5_4_SocialGNN_V_5_5_12_12_6_5_20_5.69_4.42_1.85_1.66_1.0_0.001_0.01\n",
      "GazeDataset_Jun1523_traintest5Jun23_5_5_SocialGNN_V_5_5_12_12_6_5_20_5.69_4.42_1.85_1.66_1.0_0.001_0.01\n",
      "GazeDataset_Jun1523_traintest5Jun23_5_6_SocialGNN_V_5_5_12_12_6_5_20_5.69_4.42_1.85_1.66_1.0_0.001_0.01\n",
      "GazeDataset_Jun1523_traintest5Jun23_5_7_SocialGNN_V_5_5_12_12_6_5_20_5.69_4.42_1.85_1.66_1.0_0.001_0.01\n",
      "GazeDataset_Jun1523_traintest5Jun23_5_8_SocialGNN_V_5_5_12_12_6_5_20_5.69_4.42_1.85_1.66_1.0_0.001_0.01\n",
      "GazeDataset_Jun1523_traintest5Jun23_5_9_SocialGNN_V_5_5_12_12_6_5_20_5.69_4.42_1.85_1.66_1.0_0.001_0.01\n"
     ]
    }
   ],
   "execution_count": 11
  },
  {
   "metadata": {},
   "cell_type": "code",
   "outputs": [],
   "execution_count": null,
   "source": "",
   "id": "1963c28441c23db2"
  }
 ],
 "metadata": {
  "kernelspec": {
   "display_name": "Python 3",
   "language": "python",
   "name": "python3"
  },
  "language_info": {
   "codemirror_mode": {
    "name": "ipython",
    "version": 2
   },
   "file_extension": ".py",
   "mimetype": "text/x-python",
   "name": "python",
   "nbconvert_exporter": "python",
   "pygments_lexer": "ipython2",
   "version": "2.7.6"
  }
 },
 "nbformat": 4,
 "nbformat_minor": 5
}
