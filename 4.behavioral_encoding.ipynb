{
 "cells": [
  {
   "metadata": {},
   "cell_type": "markdown",
   "source": "Use SocialGNN_encoding_2 environment",
   "id": "1ba1aad1b3b7a33"
  },
  {
   "cell_type": "code",
   "id": "initial_id",
   "metadata": {
    "collapsed": true,
    "ExecuteTime": {
     "end_time": "2024-08-28T19:05:36.531583Z",
     "start_time": "2024-08-28T19:05:36.519335Z"
    }
   },
   "source": [
    "import os\n",
    "from tqdm import tqdm\n",
    "import pickle\n",
    "import numpy as np\n",
    "import pandas as pd\n",
    "\n",
    "from sklearn.linear_model import RidgeCV, Ridge\n",
    "from sklearn.model_selection import KFold, train_test_split, GridSearchCV\n",
    "from sklearn.metrics import mean_squared_error\n",
    "import gc\n",
    "\n",
    "import matplotlib.pyplot as plt\n",
    "import seaborn as sns"
   ],
   "outputs": [],
   "execution_count": 14
  },
  {
   "metadata": {
    "ExecuteTime": {
     "end_time": "2024-08-28T19:05:50.010652Z",
     "start_time": "2024-08-28T19:05:36.535954Z"
    }
   },
   "cell_type": "code",
   "source": [
    "options = ['LSTM', 'SocialGNN', 'LSTM_Relation']\n",
    "model_selection = input(f'Which model would you like to use? {\", \".join(options)}: ')\n",
    "if model_selection not in options:\n",
    "    raise ValueError(f'Model selection must be in {options}')\n",
    "model_encoding_dir = f'Data/layer_representations/{model_selection}'\n",
    "layer_options = os.listdir(model_encoding_dir)\n",
    "layer_selection= []\n",
    "while True:\n",
    "    selection = input(f'Which layer would you like to use? {\", \".join(layer_options)}: ')\n",
    "    if selection not in layer_options:\n",
    "        raise ValueError(f'Layer selection must be in {layer_options}') \n",
    "    if selection not in layer_selection:\n",
    "        layer_selection.append(selection)\n",
    "    if input(f'Would you like to add more layer? (y/n): ') == 'n':\n",
    "        break"
   ],
   "id": "7775ddec23ef48e9",
   "outputs": [],
   "execution_count": 15
  },
  {
   "metadata": {
    "ExecuteTime": {
     "end_time": "2024-08-28T19:05:50.025801Z",
     "start_time": "2024-08-28T19:05:50.012952Z"
    }
   },
   "cell_type": "code",
   "source": [
    "target_ratings_dir = 'Data/behavioral_ratings.csv'\n",
    "ratings_of_interest =['expanse', 'transitivity','agent distance', 'facingness', 'communication',  'joint action', 'valence', 'arousal']"
   ],
   "id": "468b3cd71efa0700",
   "outputs": [],
   "execution_count": 16
  },
  {
   "metadata": {
    "ExecuteTime": {
     "end_time": "2024-08-28T19:05:50.041597Z",
     "start_time": "2024-08-28T19:05:50.027127Z"
    }
   },
   "cell_type": "code",
   "source": [
    "def load_pickle(path):\n",
    "    with open(path, 'rb') as f:\n",
    "        pickled = pickle.load(f)\n",
    "    return pickled"
   ],
   "id": "cf4030321633934b",
   "outputs": [],
   "execution_count": 17
  },
  {
   "metadata": {
    "ExecuteTime": {
     "end_time": "2024-08-28T19:05:50.073134Z",
     "start_time": "2024-08-28T19:05:50.043797Z"
    }
   },
   "cell_type": "code",
   "source": [
    "ratings_df = pd.read_csv(target_ratings_dir)[['video_name'] + ratings_of_interest]\n",
    "ratings_df_sorted = ratings_df.sort_values(by='video_name')"
   ],
   "id": "a85b9e6315000940",
   "outputs": [],
   "execution_count": 18
  },
  {
   "metadata": {
    "ExecuteTime": {
     "end_time": "2024-08-28T19:05:50.089143Z",
     "start_time": "2024-08-28T19:05:50.075134Z"
    }
   },
   "cell_type": "code",
   "source": [
    "''' Function for you to test out the encoding results of a single layer from a selected model\n",
    "    Input: X - a numpy array of loaded pickle file (n_samples=250, n_features)\n",
    "    Example Usage: \n",
    "    model_features = load_pickle('Data/layer_representations/SocialGNN/final_state/GazeDataset_Jun1523_traintest5Jun23_2_0_SocialGNN_V_5_5_12_12_6_2_20_1.0_1.5_0.001_0.01')\n",
    "    X = np.vstack(model_features)\n",
    "'''\n",
    "\n",
    "def single_layer_encoding(X):\n",
    "    results = {}\n",
    "    for rating in ratings_of_interest:\n",
    "        y = ratings_df_sorted[rating].values\n",
    "    \n",
    "        # Split data\n",
    "        X_train, X_test, y_train, y_test = train_test_split(X, y, test_size=0.2, random_state=42)\n",
    "    \n",
    "        # Initialize the Ridge regression model\n",
    "        ridge = Ridge(alpha=1.0)\n",
    "    \n",
    "        # Fit the model on the training data\n",
    "        ridge.fit(X_train, y_train)\n",
    "    \n",
    "        # Predict on the test data\n",
    "        y_pred = ridge.predict(X_test)\n",
    "    \n",
    "        # Calculate Mean Squared Error\n",
    "        mse = mean_squared_error(y_test, y_pred)\n",
    "        results[rating] = mse\n",
    "        print(f'Mean Squared Error for {rating}: {mse}')"
   ],
   "id": "8ff2567eef189d0",
   "outputs": [],
   "execution_count": 19
  },
  {
   "metadata": {
    "ExecuteTime": {
     "end_time": "2024-08-28T19:05:50.104613Z",
     "start_time": "2024-08-28T19:05:50.091145Z"
    }
   },
   "cell_type": "code",
   "source": [
    "def ridge_regression_benchmarking(target, layers, models,\n",
    "                                  n_splits=4, random_seed=0, alphas=None):\n",
    "    # if alphas is None:\n",
    "    #     alphas = [10.**power for power in np.arange(-5, 2)]\n",
    "    \n",
    "    all_model_results = []\n",
    "    \n",
    "    # Iterate over each target rating separately\n",
    "    for target_idx in tqdm(range(target.shape[1])):  # Assuming target is a 2D array\n",
    "        current_target = target[:, target_idx]\n",
    "        \n",
    "        # Extract layer representations using TensorFlow\n",
    "        for layer in layers:\n",
    "            layer_path = os.path.join(model_encoding_dir, layer)\n",
    "            for model_name in models:\n",
    "                model_path = os.path.join(layer_path, model_name)\n",
    "                layer_representation = np.vstack(load_pickle(model_path))\n",
    "        \n",
    "                # Initialize KFold\n",
    "                cv = KFold(n_splits=n_splits, shuffle=True, random_state=random_seed)\n",
    "                \n",
    "                # Flatten the representation if necessary\n",
    "                X = layer_representation.reshape(layer_representation.shape[0], -1)\n",
    "                    \n",
    "                # Split data into train/test indices\n",
    "                for train_idx, test_idx in cv.split(X):\n",
    "                    # Separate train/test data and target values\n",
    "                    X_train, X_test = X[train_idx], X[test_idx]\n",
    "                    y_train, y_test = current_target[train_idx], current_target[test_idx]\n",
    "        \n",
    "                    # Initialize RidgeCV model\n",
    "                    ridge = RidgeCV(\n",
    "                        # alphas=alphas\n",
    "                        )\n",
    "                    \n",
    "                    # Perform cross-validation\n",
    "                    train_scores = []\n",
    "                    for inner_train_idx, val_idx in cv.split(X_train):\n",
    "                        ridge.fit(X_train[inner_train_idx], y_train[inner_train_idx])\n",
    "                        train_scores.append(ridge.score(X_train[val_idx], y_train[val_idx]))\n",
    "            \n",
    "                    # Fit on full train set and evaluate on test set\n",
    "                    ridge.fit(X_train, y_train)\n",
    "                    test_score = ridge.score(X_test, y_test)\n",
    "                        \n",
    "                    # Store results for this target\n",
    "                    all_model_results.append({\n",
    "                        'target': ratings_of_interest[target_idx],\n",
    "                        'train_score': np.mean(train_scores),\n",
    "                        'test_score': test_score,\n",
    "                        'layer': layer,\n",
    "                        'model_name': model_name\n",
    "                    })\n",
    "                    \n",
    "                    # Memory cleanup\n",
    "                    gc.collect()\n",
    "\n",
    "\n",
    "    return pd.DataFrame(all_model_results)\n"
   ],
   "id": "c7c41580df21f249",
   "outputs": [],
   "execution_count": 20
  },
  {
   "metadata": {
    "ExecuteTime": {
     "end_time": "2024-08-28T19:05:50.120531Z",
     "start_time": "2024-08-28T19:05:50.106606Z"
    }
   },
   "cell_type": "code",
   "source": [
    "target = ratings_df_sorted[ratings_of_interest].values\n",
    "layer_representations_dirs = []\n",
    "for layer in layer_selection:\n",
    "    layer_encoding_dir = os.path.join(model_encoding_dir, layer)\n",
    "    layer_representations_dirs += [i for i in os.listdir(layer_encoding_dir)]\n",
    "len(layer_representations_dirs)"
   ],
   "id": "a50274f83af8f007",
   "outputs": [
    {
     "data": {
      "text/plain": [
       "40"
      ]
     },
     "execution_count": 21,
     "metadata": {},
     "output_type": "execute_result"
    }
   ],
   "execution_count": 21
  },
  {
   "metadata": {
    "ExecuteTime": {
     "end_time": "2024-08-28T19:07:12.307331Z",
     "start_time": "2024-08-28T19:05:50.130658Z"
    }
   },
   "cell_type": "code",
   "source": [
    "results = ridge_regression_benchmarking(target, layer_selection, layer_representations_dirs)\n",
    "results"
   ],
   "id": "7da7933c1615f86f",
   "outputs": [
    {
     "name": "stderr",
     "output_type": "stream",
     "text": [
      "100%|██████████| 8/8 [01:22<00:00, 10.27s/it]\n"
     ]
    },
    {
     "data": {
      "text/plain": [
       "       target  train_score  test_score        layer  \\\n",
       "0     expanse     0.013051    0.137948  final_state   \n",
       "1     expanse     0.018258    0.000585  final_state   \n",
       "2     expanse     0.002105   -0.065848  final_state   \n",
       "3     expanse     0.009682    0.089130  final_state   \n",
       "4     expanse    -0.060131    0.036779  final_state   \n",
       "...       ...          ...         ...          ...   \n",
       "1275  arousal    -0.028926   -0.092814  final_state   \n",
       "1276  arousal    -0.003674    0.039854  final_state   \n",
       "1277  arousal    -0.025329   -0.030925  final_state   \n",
       "1278  arousal    -0.027074    0.016143  final_state   \n",
       "1279  arousal    -0.024403   -0.096850  final_state   \n",
       "\n",
       "                                             model_name  \n",
       "0     GazeDataset_Jun1523_traintest14Jun23_2_0_CueBa...  \n",
       "1     GazeDataset_Jun1523_traintest14Jun23_2_0_CueBa...  \n",
       "2     GazeDataset_Jun1523_traintest14Jun23_2_0_CueBa...  \n",
       "3     GazeDataset_Jun1523_traintest14Jun23_2_0_CueBa...  \n",
       "4     GazeDataset_Jun1523_traintest14Jun23_2_1_CueBa...  \n",
       "...                                                 ...  \n",
       "1275  GazeDataset_Jun1523_traintest5Jun23_5_8_CueBas...  \n",
       "1276  GazeDataset_Jun1523_traintest5Jun23_5_9_CueBas...  \n",
       "1277  GazeDataset_Jun1523_traintest5Jun23_5_9_CueBas...  \n",
       "1278  GazeDataset_Jun1523_traintest5Jun23_5_9_CueBas...  \n",
       "1279  GazeDataset_Jun1523_traintest5Jun23_5_9_CueBas...  \n",
       "\n",
       "[1280 rows x 5 columns]"
      ],
      "text/html": [
       "<div>\n",
       "<style scoped>\n",
       "    .dataframe tbody tr th:only-of-type {\n",
       "        vertical-align: middle;\n",
       "    }\n",
       "\n",
       "    .dataframe tbody tr th {\n",
       "        vertical-align: top;\n",
       "    }\n",
       "\n",
       "    .dataframe thead th {\n",
       "        text-align: right;\n",
       "    }\n",
       "</style>\n",
       "<table border=\"1\" class=\"dataframe\">\n",
       "  <thead>\n",
       "    <tr style=\"text-align: right;\">\n",
       "      <th></th>\n",
       "      <th>target</th>\n",
       "      <th>train_score</th>\n",
       "      <th>test_score</th>\n",
       "      <th>layer</th>\n",
       "      <th>model_name</th>\n",
       "    </tr>\n",
       "  </thead>\n",
       "  <tbody>\n",
       "    <tr>\n",
       "      <th>0</th>\n",
       "      <td>expanse</td>\n",
       "      <td>0.013051</td>\n",
       "      <td>0.137948</td>\n",
       "      <td>final_state</td>\n",
       "      <td>GazeDataset_Jun1523_traintest14Jun23_2_0_CueBa...</td>\n",
       "    </tr>\n",
       "    <tr>\n",
       "      <th>1</th>\n",
       "      <td>expanse</td>\n",
       "      <td>0.018258</td>\n",
       "      <td>0.000585</td>\n",
       "      <td>final_state</td>\n",
       "      <td>GazeDataset_Jun1523_traintest14Jun23_2_0_CueBa...</td>\n",
       "    </tr>\n",
       "    <tr>\n",
       "      <th>2</th>\n",
       "      <td>expanse</td>\n",
       "      <td>0.002105</td>\n",
       "      <td>-0.065848</td>\n",
       "      <td>final_state</td>\n",
       "      <td>GazeDataset_Jun1523_traintest14Jun23_2_0_CueBa...</td>\n",
       "    </tr>\n",
       "    <tr>\n",
       "      <th>3</th>\n",
       "      <td>expanse</td>\n",
       "      <td>0.009682</td>\n",
       "      <td>0.089130</td>\n",
       "      <td>final_state</td>\n",
       "      <td>GazeDataset_Jun1523_traintest14Jun23_2_0_CueBa...</td>\n",
       "    </tr>\n",
       "    <tr>\n",
       "      <th>4</th>\n",
       "      <td>expanse</td>\n",
       "      <td>-0.060131</td>\n",
       "      <td>0.036779</td>\n",
       "      <td>final_state</td>\n",
       "      <td>GazeDataset_Jun1523_traintest14Jun23_2_1_CueBa...</td>\n",
       "    </tr>\n",
       "    <tr>\n",
       "      <th>...</th>\n",
       "      <td>...</td>\n",
       "      <td>...</td>\n",
       "      <td>...</td>\n",
       "      <td>...</td>\n",
       "      <td>...</td>\n",
       "    </tr>\n",
       "    <tr>\n",
       "      <th>1275</th>\n",
       "      <td>arousal</td>\n",
       "      <td>-0.028926</td>\n",
       "      <td>-0.092814</td>\n",
       "      <td>final_state</td>\n",
       "      <td>GazeDataset_Jun1523_traintest5Jun23_5_8_CueBas...</td>\n",
       "    </tr>\n",
       "    <tr>\n",
       "      <th>1276</th>\n",
       "      <td>arousal</td>\n",
       "      <td>-0.003674</td>\n",
       "      <td>0.039854</td>\n",
       "      <td>final_state</td>\n",
       "      <td>GazeDataset_Jun1523_traintest5Jun23_5_9_CueBas...</td>\n",
       "    </tr>\n",
       "    <tr>\n",
       "      <th>1277</th>\n",
       "      <td>arousal</td>\n",
       "      <td>-0.025329</td>\n",
       "      <td>-0.030925</td>\n",
       "      <td>final_state</td>\n",
       "      <td>GazeDataset_Jun1523_traintest5Jun23_5_9_CueBas...</td>\n",
       "    </tr>\n",
       "    <tr>\n",
       "      <th>1278</th>\n",
       "      <td>arousal</td>\n",
       "      <td>-0.027074</td>\n",
       "      <td>0.016143</td>\n",
       "      <td>final_state</td>\n",
       "      <td>GazeDataset_Jun1523_traintest5Jun23_5_9_CueBas...</td>\n",
       "    </tr>\n",
       "    <tr>\n",
       "      <th>1279</th>\n",
       "      <td>arousal</td>\n",
       "      <td>-0.024403</td>\n",
       "      <td>-0.096850</td>\n",
       "      <td>final_state</td>\n",
       "      <td>GazeDataset_Jun1523_traintest5Jun23_5_9_CueBas...</td>\n",
       "    </tr>\n",
       "  </tbody>\n",
       "</table>\n",
       "<p>1280 rows × 5 columns</p>\n",
       "</div>"
      ]
     },
     "execution_count": 22,
     "metadata": {},
     "output_type": "execute_result"
    }
   ],
   "execution_count": 22
  },
  {
   "metadata": {
    "ExecuteTime": {
     "end_time": "2024-08-28T19:07:12.323317Z",
     "start_time": "2024-08-28T19:07:12.309847Z"
    }
   },
   "cell_type": "code",
   "source": [
    "x_labels = ['spatial expanse', 'object directed', 'interagent distance', 'agents facing', 'communicating', 'acting jointly', 'valence', 'arousal']\n",
    "\n",
    "\n",
    "# Assuming 'results_df' is the DataFrame returned by ridge_regression_benchmarking function\n",
    "def plot_ridge_regression_results(results_df, title):\n",
    "    plt.figure(figsize=(10, 6))\n",
    "    \n",
    "    \n",
    "    # Plot each target's test score as a scatter plot\n",
    "    sns.stripplot(x='target', y='test_score', data=results_df, jitter=True, dodge=True)\n",
    "    \n",
    "    # Plot median bars\n",
    "    # sns.pointplot(data = results_df, x=\"target\", y=\"test_score\", linestyles='none', estimator=np.median, color='red', markers='_', errorbar=None, dodge=0.4,markeredgewid)\n",
    "\n",
    "    \n",
    "    plt.title('Test Scores by Target Rating')\n",
    "    plt.xlabel('Target Rating')\n",
    "    plt.ylabel('Test Score (r)')\n",
    "    plt.ylim(-0.25, 1)\n",
    "    plt.xticks(ticks=range(len(x_labels)), labels=x_labels, rotation = 20)\n",
    "    plt.grid(False)\n",
    "    plt.savefig(f'result_figures/behavioral_encoding/{title}.png')\n",
    "    plt.show()"
   ],
   "id": "1cc29b3dc28e2349",
   "outputs": [],
   "execution_count": 23
  },
  {
   "metadata": {
    "ExecuteTime": {
     "end_time": "2024-08-28T19:07:12.715334Z",
     "start_time": "2024-08-28T19:07:12.324314Z"
    }
   },
   "cell_type": "code",
   "source": "plot_ridge_regression_results(results, f'ridge-{model_selection}-{\"-\".join(layer_selection)}')",
   "id": "96cc0265482585f9",
   "outputs": [
    {
     "data": {
      "text/plain": [
       "<Figure size 1000x600 with 1 Axes>"
      ],
      "image/png": "[encoded data removed]"
     },
     "metadata": {},
     "output_type": "display_data"
    }
   ],
   "execution_count": 24
  },
  {
   "metadata": {
    "ExecuteTime": {
     "end_time": "2024-08-28T19:07:12.730945Z",
     "start_time": "2024-08-28T19:07:12.717393Z"
    }
   },
   "cell_type": "code",
   "source": "",
   "id": "d4dfbbde2d83d648",
   "outputs": [],
   "execution_count": 24
  }
 ],
 "metadata": {
  "kernelspec": {
   "display_name": "Python 3",
   "language": "python",
   "name": "python3"
  },
  "language_info": {
   "codemirror_mode": {
    "name": "ipython",
    "version": 2
   },
   "file_extension": ".py",
   "mimetype": "text/x-python",
   "name": "python",
   "nbconvert_exporter": "python",
   "pygments_lexer": "ipython2",
   "version": "2.7.6"
  }
 },
 "nbformat": 4,
 "nbformat_minor": 5
}
