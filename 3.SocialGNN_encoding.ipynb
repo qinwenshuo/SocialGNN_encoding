{
 "cells": [
  {
   "metadata": {},
   "cell_type": "raw",
   "source": "Use SocialGNN_encoding conda environment",
   "id": "87582ca35f62bf9b"
  },
  {
   "cell_type": "code",
   "id": "initial_id",
   "metadata": {
    "collapsed": true,
    "ExecuteTime": {
     "end_time": "2024-08-27T13:59:48.456047Z",
     "start_time": "2024-08-27T13:59:39.025824Z"
    }
   },
   "source": [
    "from model_functions import SocialGNN, get_inputs_outputs\n",
    "from collections import namedtuple\n",
    "import pickle\n",
    "import os \n",
    "\n",
    "from tqdm import tqdm"
   ],
   "outputs": [],
   "execution_count": 1
  },
  {
   "metadata": {
    "ExecuteTime": {
     "end_time": "2024-08-27T13:59:48.472406Z",
     "start_time": "2024-08-27T13:59:48.457816Z"
    }
   },
   "cell_type": "code",
   "source": [
    "trained_model_dir = 'TrainedModels/'\n",
    "encoding_output_dir = 'Data/encodings/'\n",
    "data_input_dir = 'Data/preprocess/graphs'"
   ],
   "id": "b4e3e9729c12c9a7",
   "outputs": [],
   "execution_count": 2
  },
  {
   "metadata": {
    "ExecuteTime": {
     "end_time": "2024-08-27T13:59:48.488569Z",
     "start_time": "2024-08-27T13:59:48.474495Z"
    }
   },
   "cell_type": "code",
   "source": [
    "def load_pickle(path):\n",
    "    with open(path, 'rb') as f:\n",
    "        pickled = pickle.load(f)\n",
    "    return pickled\n",
    "\n",
    "def save_pickle(obj, path):\n",
    "    with open(path, 'wb') as f:\n",
    "        pickle.dump(obj, f)"
   ],
   "id": "a425aeb710fef69b",
   "outputs": [],
   "execution_count": 3
  },
  {
   "metadata": {
    "ExecuteTime": {
     "end_time": "2024-08-27T13:59:48.828662Z",
     "start_time": "2024-08-27T13:59:48.490025Z"
    }
   },
   "cell_type": "code",
   "source": [
    "videos = load_pickle(data_input_dir)\n",
    "model_config = namedtuple('model_config', 'NUM_NODES NUM_AGENTS V_SPATIAL_SIZE E_SPATIAL_SIZE V_TEMPORAL_SIZE V_OUTPUT_SIZE BATCH_SIZE CLASS_WEIGHTS LEARNING_RATE LAMBDA')"
   ],
   "id": "24ca004a7ca953a9",
   "outputs": [],
   "execution_count": 4
  },
  {
   "metadata": {
    "ExecuteTime": {
     "end_time": "2024-08-27T13:59:48.861122Z",
     "start_time": "2024-08-27T13:59:48.828662Z"
    }
   },
   "cell_type": "code",
   "source": [
    "model_list = sorted(os.listdir(trained_model_dir))\n",
    "sorted_model_list = []\n",
    "for name in model_list:\n",
    "    if \"SocialGNN_V_5_5_12_12_6_2_20_1.0_1.5_0.001_0.01\" in name:\n",
    "        sorted_model_list.append(name)\n",
    "for name in model_list:\n",
    "    if \"SocialGNN_V_5_5_12_12_6_5_20_5.69_4.42_1.85_1.66_1.0_0.001_0.01\" in name:\n",
    "        sorted_model_list.append(name)\n",
    "        \n",
    "len(sorted_model_list)"
   ],
   "id": "819cb0745bb3e44c",
   "outputs": [
    {
     "data": {
      "text/plain": [
       "40"
      ]
     },
     "execution_count": 5,
     "metadata": {},
     "output_type": "execute_result"
    }
   ],
   "execution_count": 5
  },
  {
   "metadata": {
    "ExecuteTime": {
     "end_time": "2024-08-27T14:29:22.099576Z",
     "start_time": "2024-08-27T13:59:48.861122Z"
    }
   },
   "cell_type": "code",
   "source": [
    "old_output_size = None\n",
    "for model_name in tqdm(sorted_model_list):\n",
    "    model_dir = os.path.join(trained_model_dir, model_name)\n",
    "    if os.path.isdir(model_dir):\n",
    "        \n",
    "        parameters = model_name.split('_')[7:]\n",
    "        config = model_config(\n",
    "            NUM_NODES = 5,              # always 5,\n",
    "            NUM_AGENTS = 5,             # always 5\n",
    "            V_SPATIAL_SIZE = 12,        # always 12\n",
    "            E_SPATIAL_SIZE = 12,        # always 12\n",
    "            V_TEMPORAL_SIZE = 6,        # always 6\n",
    "            V_OUTPUT_SIZE = int(parameters[5]),      # 2 or 5\n",
    "            BATCH_SIZE = 10,            # 20, but forced to be 10 so that I don't need to worry about the padded data\n",
    "            CLASS_WEIGHTS = [float(parameters[7+i]) for i in range(int(parameters[5]))],\n",
    "            LEARNING_RATE = 0.001,      # always 0.001\n",
    "            LAMBDA = 0.01               # always 0.01\n",
    "        )\n",
    "        if config.V_OUTPUT_SIZE != old_output_size:\n",
    "            sample_graph_dicts_list, video_timesteps, _ = get_inputs_outputs(videos)\n",
    "            model = SocialGNN(videos, config, sample_graph_dicts_list)\n",
    "            old_output_size = config.V_OUTPUT_SIZE\n",
    "        model.load_model(model_dir)\n",
    "        layer_representations = model.get_layer_representations()\n",
    "        \n",
    "        for key in layer_representations:\n",
    "            output_dir = f'Data/encodings/{key}/{model_name}'\n",
    "            save_pickle(layer_representations[key], output_dir)\n",
    "        \n",
    "        "
   ],
   "id": "832548a4dd3bb547",
   "outputs": [
    {
     "name": "stderr",
     "output_type": "stream",
     "text": [
      "  0%|          | 0/40 [00:00<?, ?it/s]"
     ]
    },
    {
     "name": "stdout",
     "output_type": "stream",
     "text": [
      ".............DEFINING INPUT PLACEHOLDERS..............\n",
      "\n",
      ".............BUILDING GRAPH..............\n",
      "\n",
      ".............INITIALIZATION SESSION..............\n"
     ]
    },
    {
     "name": "stderr",
     "output_type": "stream",
     "text": [
      " 50%|█████     | 20/40 [14:16<12:30, 37.53s/it]  "
     ]
    },
    {
     "name": "stdout",
     "output_type": "stream",
     "text": [
      ".............DEFINING INPUT PLACEHOLDERS..............\n",
      "\n",
      ".............BUILDING GRAPH..............\n",
      "\n",
      ".............INITIALIZATION SESSION..............\n"
     ]
    },
    {
     "name": "stderr",
     "output_type": "stream",
     "text": [
      "100%|██████████| 40/40 [29:33<00:00, 44.33s/it] \n"
     ]
    }
   ],
   "execution_count": 6
  },
  {
   "metadata": {
    "ExecuteTime": {
     "end_time": "2024-08-27T14:29:22.130298Z",
     "start_time": "2024-08-27T14:29:22.114978Z"
    }
   },
   "cell_type": "code",
   "source": "",
   "id": "6ec86f16573c2443",
   "outputs": [],
   "execution_count": 6
  }
 ],
 "metadata": {
  "kernelspec": {
   "display_name": "Python 3",
   "language": "python",
   "name": "python3"
  },
  "language_info": {
   "codemirror_mode": {
    "name": "ipython",
    "version": 2
   },
   "file_extension": ".py",
   "mimetype": "text/x-python",
   "name": "python",
   "nbconvert_exporter": "python",
   "pygments_lexer": "ipython2",
   "version": "2.7.6"
  }
 },
 "nbformat": 4,
 "nbformat_minor": 5
}
